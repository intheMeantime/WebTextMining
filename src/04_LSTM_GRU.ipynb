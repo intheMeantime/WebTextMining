{
 "cells": [
  {
   "cell_type": "markdown",
   "metadata": {
    "id": "pgXEG4O2rBsu"
   },
   "source": [
    "# **LSTM & BiLSTM & GRU**"
   ]
  },
  {
   "cell_type": "code",
   "execution_count": null,
   "metadata": {
    "colab": {
     "base_uri": "https://localhost:8080/"
    },
    "executionInfo": {
     "elapsed": 28756,
     "status": "ok",
     "timestamp": 1719076717552,
     "user": {
      "displayName": "­정윤서(인공지능대학 인공지능학과)",
      "userId": "17405492783781547198"
     },
     "user_tz": -540
    },
    "id": "dMay7Z8dKmjw",
    "outputId": "11607e5a-dea2-4a33-fbc1-ce6936b7a8bd"
   },
   "outputs": [
    {
     "name": "stdout",
     "output_type": "stream",
     "text": [
      "\u001b[2K     \u001b[90m━━━━━━━━━━━━━━━━━━━━━━━━━━━━━━━━━━━━━━━━\u001b[0m \u001b[32m19.4/19.4 MB\u001b[0m \u001b[31m28.8 MB/s\u001b[0m eta \u001b[36m0:00:00\u001b[0m\n",
      "\u001b[2K     \u001b[90m━━━━━━━━━━━━━━━━━━━━━━━━━━━━━━━━━━━━━━━━\u001b[0m \u001b[32m488.6/488.6 kB\u001b[0m \u001b[31m11.0 MB/s\u001b[0m eta \u001b[36m0:00:00\u001b[0m\n",
      "\u001b[?25h"
     ]
    }
   ],
   "source": [
    "\n",
    "!pip install konlpy -q\n"
   ]
  },
  {
   "cell_type": "code",
   "execution_count": null,
   "metadata": {
    "id": "YJtUvGJRY1zZ"
   },
   "outputs": [],
   "source": [
    "import numpy as np\n",
    "import pandas as pd\n",
    "import seaborn as sns\n",
    "import matplotlib.pyplot as plt\n",
    "import re\n",
    "\n",
    "import random  as rn\n",
    "import tensorflow as tf\n",
    "\n",
    "from konlpy.tag import Okt\n",
    "\n",
    "from sklearn.model_selection import train_test_split\n",
    "\n",
    "from keras.preprocessing.sequence import pad_sequences\n",
    "from keras.utils import to_categorical\n",
    "\n",
    "from keras.models import Sequential\n",
    "from keras.layers import Dense, LSTM, Embedding, Bidirectional, GRU\n",
    "\n",
    "from keras.callbacks import EarlyStopping, ModelCheckpoint\n",
    "from keras.models import load_model\n",
    "\n",
    "import time\n",
    "import datetime\n",
    "\n",
    "\n",
    "import warnings\n",
    "warnings.filterwarnings('ignore')\n"
   ]
  },
  {
   "cell_type": "markdown",
   "metadata": {
    "id": "JunrxKfVbdlM"
   },
   "source": [
    "## **1) 데이터 가져오기**  "
   ]
  },
  {
   "cell_type": "code",
   "execution_count": null,
   "metadata": {
    "colab": {
     "base_uri": "https://localhost:8080/"
    },
    "executionInfo": {
     "elapsed": 65838,
     "status": "ok",
     "timestamp": 1719076795183,
     "user": {
      "displayName": "­정윤서(인공지능대학 인공지능학과)",
      "userId": "17405492783781547198"
     },
     "user_tz": -540
    },
    "id": "Ri6ZrDHvqfYF",
    "outputId": "373b2920-5d23-4540-91b9-f7567ca74fa5"
   },
   "outputs": [
    {
     "name": "stdout",
     "output_type": "stream",
     "text": [
      "Mounted at /content/gdrive/\n"
     ]
    }
   ],
   "source": [
    "from google.colab import drive\n",
    "drive.mount('/content/gdrive/')\n",
    "\n",
    "file_path = \"/content/gdrive/My Drive/Colab Notebooks/wtm/finalproj/\"\n"
   ]
  },
  {
   "cell_type": "code",
   "execution_count": null,
   "metadata": {
    "id": "vHzAgExbqfe2"
   },
   "outputs": [],
   "source": [
    "# 데이터 불러오기\n",
    "hunjea_cases = pd.read_csv(file_path + \"분야별_헌재판례.csv\")\n",
    "\n",
    "#개수가 적은 6번 카테고리는 삭제\n",
    "hunjea_cases = hunjea_cases[hunjea_cases.Category != '헌법위원회 및 대법원 헌법판례']\n",
    "\n",
    "#헌법재판소에서 지정해둔 Category에 맞게 Num 부여\n",
    "ca_list = hunjea_cases['Category'].unique()\n",
    "y = []\n",
    "\n",
    "for i in range( len(hunjea_cases) ) :\n",
    "  tmp = hunjea_cases['Category'][i]\n",
    "  num = 0\n",
    "  for j in ca_list :\n",
    "    if j == tmp :\n",
    "      y.append(num)\n",
    "    else :\n",
    "      num += 1\n",
    "\n",
    "#dataFrame으로 변환\n",
    "df_y = pd.DataFrame({\"CaNum\" : y})\n",
    "\n",
    "#최종 df\n",
    "findf = hunjea_cases.drop('Category', axis=1)\n",
    "findf = findf.drop('CaseNum', axis=1)\n",
    "alldf = pd.concat([df_y, findf], axis=1)"
   ]
  },
  {
   "cell_type": "markdown",
   "metadata": {
    "id": "eya8Mc6ADEaO"
   },
   "source": [
    "### 데이터 split 및 정제"
   ]
  },
  {
   "cell_type": "code",
   "execution_count": null,
   "metadata": {
    "id": "BaXfkC3TqfhO"
   },
   "outputs": [],
   "source": [
    "train_data, test_data = train_test_split(alldf, test_size=0.2, random_state=1)\n",
    "\n",
    "# 정규표현식 사용하여 데이터 정제\n",
    "train_data['Content'] = [re.sub(\"[^ㄱ-ㅎㅏ-ㅣ가-힣 ]\", \" \", sent) for sent in train_data.Content]\n",
    "#공백 및 빈 값 제거\n",
    "train_data['Content'] = [re.sub(\"^ +\", \"\", sent) for sent in train_data.Content]\n",
    "train_data['Content'].replace(\"\", np.nan, inplace=True)\n",
    "train_data = train_data.dropna(how = 'any')\n",
    "\n",
    "\n",
    "# test 데이터에 지금까지 진행했던 전처리 과정들을 동일하게 진행\n",
    "\n",
    "test_data['Content'] = [re.sub(\"[^ㄱ-ㅎㅏ-ㅣ가-힣 ]\", \" \", sent) for sent in test_data.Content]  # 정규 표현식 수행\n",
    "test_data['Content'] = [re.sub(\"^ +\", \"\", sent) for sent in test_data.Content]    # 공백은 empty 값으로 변경\n",
    "test_data['Content'].replace(\"\", np.nan, inplace=True)                             # 공백은 Null 값으로 변경\n",
    "test_data = test_data.dropna(how='any')                        # Null 값 제거\n"
   ]
  },
  {
   "cell_type": "markdown",
   "metadata": {
    "id": "XtRJGgiuCz5f"
   },
   "source": [
    "### 토큰화"
   ]
  },
  {
   "cell_type": "code",
   "execution_count": null,
   "metadata": {
    "colab": {
     "base_uri": "https://localhost:8080/"
    },
    "executionInfo": {
     "elapsed": 144892,
     "status": "ok",
     "timestamp": 1719077274435,
     "user": {
      "displayName": "­정윤서(인공지능대학 인공지능학과)",
      "userId": "17405492783781547198"
     },
     "user_tz": -540
    },
    "id": "9Qn2GTS6qfjq",
    "outputId": "b62943bf-26c6-4712-d115-8f826369c534"
   },
   "outputs": [
    {
     "name": "stdout",
     "output_type": "stream",
     "text": [
      "\n",
      "▶ 수행 시간 =  0:02:24.511934\n"
     ]
    }
   ],
   "source": [
    "# 불용어를 정의\n",
    "\n",
    "stopwords = ['규정', '조항', '대한' ,'소원' ,'목적', '요지', '헌법소원심판', '필요', '사건', '위헌', '합헌', '법률', '제청', '청구인', '변호인', '제청', '재판', '피고인', '변호사', '심판', '청구' ,'재판관', '이유' ,'위헌확인', '피청구인', '수사' ,'이유', '원칙', '여부', '확인', '우리', '법률조항', '반대의견', '확인', '하나', '무엇', '제한', '인정', '대상', '입법', '헌법재판소', '재판소']\n",
    "okt = Okt()\n",
    "\n",
    "# train_data에 형태소 분석기를 사용하여 토큰화를 하면서 불용어를 제거하여 X_train에 저장\n",
    "X_train = []\n",
    "\n",
    "start = time.time()    # 시작 시간 기록 ==============================\n",
    "\n",
    "for sentence in train_data['Content']:\n",
    "    temp_X = okt.nouns(sentence)     # 토큰화\n",
    "    #CNN이니까 Topic Modeling이랑은 달리 nouns 아니고 그냥 형태소(morphs)로 하는 건가,,,,,,,,,\n",
    "    temp_X = [word for word in temp_X if  (len(word) > 1) and (not word in stopwords)] # 불용어 제거\n",
    "    X_train.append(temp_X)\n",
    "\n",
    "\n",
    "processing_time = time.time() - start    # 경과 시간 계산  ==============================\n",
    "times = str(datetime.timedelta(seconds = processing_time))\n",
    "print()\n",
    "print('▶ 수행 시간 = ', times)\n"
   ]
  },
  {
   "cell_type": "code",
   "execution_count": null,
   "metadata": {
    "colab": {
     "base_uri": "https://localhost:8080/"
    },
    "executionInfo": {
     "elapsed": 37746,
     "status": "ok",
     "timestamp": 1719077312178,
     "user": {
      "displayName": "­정윤서(인공지능대학 인공지능학과)",
      "userId": "17405492783781547198"
     },
     "user_tz": -540
    },
    "id": "ePtIgGFGCymk",
    "outputId": "ed6c40c1-76cd-47fe-ec79-dfd4d4fea843"
   },
   "outputs": [
    {
     "name": "stdout",
     "output_type": "stream",
     "text": [
      "\n",
      "▶ 수행 시간 =  0:00:37.699009\n"
     ]
    }
   ],
   "source": [
    "# test 데이터에 대해서도 동일하게 토큰화를 진행\n",
    "X_test = []\n",
    "\n",
    "start = time.time()    # 시작 시간 기록 ==============================\n",
    "\n",
    "for sentence in test_data['Content']:\n",
    "    temp_X = okt.nouns(sentence) # 토큰화\n",
    "    temp_X = [word for word in temp_X if  (len(word) > 1) and (not word in stopwords)] # 불용어 제거\n",
    "    X_test.append(temp_X)\n",
    "\n",
    "processing_time = time.time() - start    # 경과 시간 계산  ==============================\n",
    "times = str(datetime.timedelta(seconds = processing_time))\n",
    "print()\n",
    "print('▶ 수행 시간 = ', times)"
   ]
  },
  {
   "cell_type": "code",
   "execution_count": null,
   "metadata": {
    "id": "Jxkb8jBvCypD"
   },
   "outputs": [],
   "source": [
    "# 정수 인코딩\n",
    "from keras.preprocessing.text import Tokenizer\n",
    "\n",
    "tokenizer = Tokenizer()\n",
    "tokenizer.fit_on_texts(X_train)\n",
    "\n",
    "sorted_items = sorted(tokenizer.word_index.items(), key=lambda item: item[1], reverse=True)\n",
    "\n",
    "# 새로운 단어 인덱스 생성 (빈도수가 높은 단어일수록 큰 숫자를 할당)\n",
    "reversed_word_index = {word: idx for idx, (word, _) in enumerate(sorted_items, 1)}\n",
    "\n",
    "# 새로운 단어 인덱스를 tokenizer에 할당\n",
    "tokenizer.word_index = reversed_word_index\n",
    "\n",
    "tok_X_train = tokenizer.texts_to_sequences(X_train)\n",
    "tok_X_test = tokenizer.texts_to_sequences(X_test)\n",
    "\n",
    "y_train = np.array(train_data['CaNum'])\n",
    "y_test = np.array(test_data['CaNum'])\n",
    "\n",
    "y_train = to_categorical(y_train, num_classes=5)\n",
    "y_test = to_categorical(y_test, num_classes=5)\n"
   ]
  },
  {
   "cell_type": "code",
   "execution_count": null,
   "metadata": {
    "id": "W2GD5JgxCyrh"
   },
   "outputs": [],
   "source": [
    "# padding\n",
    "\n",
    "max_len = 900\n",
    "\n",
    "# 모든 샘플의 길이를 n으로 맞추어 줌\n",
    "\n",
    "pad_X_train = pad_sequences(tok_X_train, maxlen = max_len)\n",
    "\n",
    "pad_X_test = pad_sequences(tok_X_test, maxlen = max_len)\n",
    "\n",
    "# n 미만인 애들은 padding해서 0으로 채워\n"
   ]
  },
  {
   "cell_type": "code",
   "execution_count": null,
   "metadata": {
    "id": "l_DeyeCnJ070"
   },
   "outputs": [],
   "source": []
  },
  {
   "cell_type": "markdown",
   "metadata": {
    "id": "XAxb6b5ppG_y"
   },
   "source": [
    "## 데이터 확인"
   ]
  },
  {
   "cell_type": "code",
   "execution_count": null,
   "metadata": {
    "colab": {
     "base_uri": "https://localhost:8080/"
    },
    "executionInfo": {
     "elapsed": 463,
     "status": "ok",
     "timestamp": 1719077330721,
     "user": {
      "displayName": "­정윤서(인공지능대학 인공지능학과)",
      "userId": "17405492783781547198"
     },
     "user_tz": -540
    },
    "id": "L2qQwt64Y1zZ",
    "outputId": "3e6f7079-9a90-4b40-920a-40371ccef19f"
   },
   "outputs": [
    {
     "name": "stdout",
     "output_type": "stream",
     "text": [
      "◎ train 판례 : 509\n",
      "◎ test 판례 : 126\n"
     ]
    }
   ],
   "source": [
    "print('◎ train 판례 : {}'.format(len(pad_X_train)))\n",
    "print('◎ test 판례 : {}'.format(len(pad_X_test)))"
   ]
  },
  {
   "cell_type": "code",
   "execution_count": null,
   "metadata": {
    "colab": {
     "base_uri": "https://localhost:8080/"
    },
    "executionInfo": {
     "elapsed": 537,
     "status": "ok",
     "timestamp": 1719077339832,
     "user": {
      "displayName": "­정윤서(인공지능대학 인공지능학과)",
      "userId": "17405492783781547198"
     },
     "user_tz": -540
    },
    "id": "i-NT8R9gqf1l",
    "outputId": "961b2810-5f3c-4ca8-e732-71c52e5efe3f"
   },
   "outputs": [
    {
     "name": "stdout",
     "output_type": "stream",
     "text": [
      "◎ 첫번째 train set 판례 :\n",
      " [   0    0    0    0    0    0    0    0    0    0    0    0    0    0\n",
      "    0    0    0    0    0    0    0    0    0    0    0    0    0    0\n",
      "    0    0    0    0    0    0    0    0    0    0    0    0    0    0\n",
      "    0    0    0    0    0    0    0    0    0    0    0    0    0    0\n",
      "    0    0    0    0    0    0    0    0    0    0    0    0    0    0\n",
      "    0    0    0    0    0    0    0    0    0    0    0    0    0    0\n",
      "    0    0    0    0    0    0    0    0    0    0    0    0    0    0\n",
      "    0    0    0    0    0    0    0    0    0    0    0    0    0    0\n",
      "    0    0    0    0    0    0    0    0    0    0    0    0    0    0\n",
      "    0    0    0    0    0    0    0    0    0    0    0    0    0    0\n",
      "    0    0    0    0    0    0    0    0    0    0    0    0    0    0\n",
      "    0    0    0    0    0    0    0    0    0    0    0    0    0    0\n",
      "    0    0    0    0    0    0    0    0    0    0    0    0    0    0\n",
      "    0    0    0    0    0    0    0    0    0    0    0    0    0    0\n",
      "    0    0    0    0    0    0    0    0    0    0    0    0    0    0\n",
      "    0    0    0    0    0    0    0    0    0    0    0    0    0    0\n",
      "    0    0    0    0    0    0    0    0    0    0    0    0    0    0\n",
      "    0    0    0    0    0    0    0    0    0    0    0    0    0    0\n",
      "    0    0    0    0    0    0    0    0    0    0    0    0    0    0\n",
      "    0    0    0    0    0    0    0    0    0    0    0    0    0    0\n",
      "    0    0    0    0    0    0    0    0    0    0    0    0    0    0\n",
      "    0    0    0    0    0    0    0    0    0    0    0    0    0    0\n",
      "    0    0    0    0    0    0    0    0    0    0    0    0    0    0\n",
      "    0    0    0    0    0    0    0    0    0    0    0    0    0    0\n",
      "    0    0    0    0    0    0    0    0    0    0    0    0    0    0\n",
      "    0    0    0    0    0    0    0    0    0    0    0    0    0    0\n",
      "    0    0    0    0    0    0    0    0    0    0    0    0    0    0\n",
      "    0    0    0    0    0    0    0    0    0    0    0    0    0    0\n",
      "    0    0    0    0    0    0    0    0    0    0    0    0    0 8473\n",
      " 8289 8207 8500 7156 7695 8527 8300 8466 8307 8054 7867 8475 8207 8294\n",
      " 6626 8383 8472 8489 6740 7156 6512 6625 7156 8533 6624 7847 4171 6626\n",
      " 3555 6625 8500 8021 6625 8533 6786 4919 5818 8531 8479 7888 8443 8207\n",
      " 2540 5817 7156 8375 6302 8207 4170 7483 8533 6625 5673 7847 4171 7847\n",
      " 7156 7839 7156 8494 7050 6868 7637 7707 8207 4170 8191 8533 4918 7349\n",
      " 7853 8089 7050 6868 7637 7666 7013 7156 5672 8460 8155 8477 8484 7839\n",
      " 7156 8494 8532 6625 7451 8231 7224 8511 8096 7839 7156 8494 8273 7866\n",
      " 6625 8207 8294 8500 8369 8478 6688 8096 7277 8191 7156 8512 7618 7156\n",
      " 7451 8231 7224 8511 8096 7013 8155 8494 8273 7866 4918 8527 8207 8142\n",
      " 8514 7301 8442 7947 6623 7301 8442 8489 8442 8461 6234 8396 8497 8378\n",
      " 8536 7155 8528 8371 8526 8425 8371 8526 7301 8442 8452 8315 8256 8525\n",
      " 8300 8497 8234 8520 8460 8331 8525 8507 8510 7012 8536 8506 6625 7301\n",
      " 8442 8484 6560 6625 7866 6625 7224 8511 7839 7156 8533 8093 8207 8142\n",
      " 8514 7301 8442 8442 6946 7507 7124 7804 8292 8072 8326 8005 8536 6946\n",
      " 7838 5930 8527 8442 2539 4169 6903 6867 8527 8442 8432 7124 7301 8442\n",
      " 3554 8442 7049 8200 8477 7301 8442 7839 7156 8494 8273 8406 7300 8533\n",
      " 5343 7973 8442 8207 8142 7301 8442 8483 8477 6625 7401 8476 8481 8532\n",
      " 7997 6511 8442 8488 8472 7084 8421 8093 7649 8459 8533 8292 6902 7048\n",
      " 8375 6625 7867 7604 8454 5342 8475 7604 7348 6625 8454 8533 6687 8522\n",
      " 6625 4919 6786 4584 8454 7921 5504 7839 7156 8494 7300 8511 5816 7942\n",
      " 8483 7301 6511 8442 8426 8119 8206 8467 8530 8392 7993 7618 7156 7301\n",
      " 8442 8207 6626 8017 8383 7847 4168 8038 7847 4167 4168 8481 7401 2538\n",
      " 8533 7758 7603 7618 7156 8533 8064 8017 8531 7837 6823 8191 7156 4583\n",
      " 2537 8370 7156 7967 8233 5503 8344 8337 7347 7156 8325 7223 6626 5502\n",
      " 8477 7618 7156 6625 7401 8489 4583 7156 8489 8481 8476 2536 7618 7156\n",
      " 8129 8500 8471 6233 8511 7277 8191 7156 8512 8193 8494 8532 8108 7804\n",
      " 8292 8476 7694 4166 8510 5929 8481 7401 8280 8533 8093 8207 8250 8514\n",
      " 7301 8442 8376 8377 8450 8467 8530 6625 8533 7301 8442 8108 8392 8532\n",
      " 4918 7301 8442 4918 5342 8475 7050 7637 7400 8454 8407 8481 8280 8183\n",
      " 7525 8472 8362 8494 8532 8465 7989 8476 8174 3553 8492 7013 8155 8494\n",
      " 8273 4918 8533 8468 8093 8207 8250 7301 8442 8376 8377 8467 8292 8475\n",
      " 8467 8530 8477 3552 8484 8004 8531 6625 8533 8476 7301 8108 8392 8526\n",
      " 6625 8182 7852 6301 8340 8471 4917 8376 8377 8363 6625 8182 8244 6625\n",
      " 7967 8292 8016 8343 8092 8536 7988 8525 7676 8207 8142 5341 8514 8089\n",
      " 8509 7301 8442 8442 8478 8207 8142 8532 8511 4166 8359 5929 8483 8408\n",
      " 8419 7301 6511 8442]\n",
      "\n",
      "◎ 첫번째 train set 판례의 레이블 :  [0. 0. 0. 0. 1.]\n"
     ]
    }
   ],
   "source": [
    "# 첫번째 X_train 판례를 출력\n",
    "#\n",
    "# 토큰화과 정수 인코딩(각 단어를 정수로 변환)이 끝난 상태\n",
    "\n",
    "print('◎ 첫번째 train set 판례 :\\n', pad_X_train[0])\n",
    "print()\n",
    "\n",
    "print('◎ 첫번째 train set 판례의 레이블 : ', y_train[0])\n"
   ]
  },
  {
   "cell_type": "code",
   "execution_count": null,
   "metadata": {
    "colab": {
     "base_uri": "https://localhost:8080/",
     "height": 142
    },
    "executionInfo": {
     "elapsed": 541,
     "status": "ok",
     "timestamp": 1719077388602,
     "user": {
      "displayName": "­정윤서(인공지능대학 인공지능학과)",
      "userId": "17405492783781547198"
     },
     "user_tz": -540
    },
    "id": "AMutvIssY1za",
    "outputId": "b3157f6f-6f3c-41b2-da78-0de0cbba10ba"
   },
   "outputs": [
    {
     "name": "stdout",
     "output_type": "stream",
     "text": [
      "◎ 각 레이블에 대한 빈도수:\n"
     ]
    },
    {
     "data": {
      "application/vnd.google.colaboratory.intrinsic+json": {
       "summary": "{\n  \"name\": \"pd_data\",\n  \"rows\": 2,\n  \"fields\": [\n    {\n      \"column\": \"\\ube48\\ub3c4\",\n      \"properties\": {\n        \"dtype\": \"number\",\n        \"std\": 1079,\n        \"min\": 509,\n        \"max\": 2036,\n        \"num_unique_values\": 2,\n        \"samples\": [\n          509,\n          2036\n        ],\n        \"semantic_type\": \"\",\n        \"description\": \"\"\n      }\n    }\n  ]\n}",
       "type": "dataframe",
       "variable_name": "pd_data"
      },
      "text/html": [
       "\n",
       "  <div id=\"df-77a7b98e-ccde-479a-bb42-93ab776c3090\" class=\"colab-df-container\">\n",
       "    <div>\n",
       "<style scoped>\n",
       "    .dataframe tbody tr th:only-of-type {\n",
       "        vertical-align: middle;\n",
       "    }\n",
       "\n",
       "    .dataframe tbody tr th {\n",
       "        vertical-align: top;\n",
       "    }\n",
       "\n",
       "    .dataframe thead th {\n",
       "        text-align: right;\n",
       "    }\n",
       "</style>\n",
       "<table border=\"1\" class=\"dataframe\">\n",
       "  <thead>\n",
       "    <tr style=\"text-align: right;\">\n",
       "      <th></th>\n",
       "      <th>빈도</th>\n",
       "    </tr>\n",
       "  </thead>\n",
       "  <tbody>\n",
       "    <tr>\n",
       "      <th>0.0</th>\n",
       "      <td>2036</td>\n",
       "    </tr>\n",
       "    <tr>\n",
       "      <th>1.0</th>\n",
       "      <td>509</td>\n",
       "    </tr>\n",
       "  </tbody>\n",
       "</table>\n",
       "</div>\n",
       "    <div class=\"colab-df-buttons\">\n",
       "\n",
       "  <div class=\"colab-df-container\">\n",
       "    <button class=\"colab-df-convert\" onclick=\"convertToInteractive('df-77a7b98e-ccde-479a-bb42-93ab776c3090')\"\n",
       "            title=\"Convert this dataframe to an interactive table.\"\n",
       "            style=\"display:none;\">\n",
       "\n",
       "  <svg xmlns=\"http://www.w3.org/2000/svg\" height=\"24px\" viewBox=\"0 -960 960 960\">\n",
       "    <path d=\"M120-120v-720h720v720H120Zm60-500h600v-160H180v160Zm220 220h160v-160H400v160Zm0 220h160v-160H400v160ZM180-400h160v-160H180v160Zm440 0h160v-160H620v160ZM180-180h160v-160H180v160Zm440 0h160v-160H620v160Z\"/>\n",
       "  </svg>\n",
       "    </button>\n",
       "\n",
       "  <style>\n",
       "    .colab-df-container {\n",
       "      display:flex;\n",
       "      gap: 12px;\n",
       "    }\n",
       "\n",
       "    .colab-df-convert {\n",
       "      background-color: #E8F0FE;\n",
       "      border: none;\n",
       "      border-radius: 50%;\n",
       "      cursor: pointer;\n",
       "      display: none;\n",
       "      fill: #1967D2;\n",
       "      height: 32px;\n",
       "      padding: 0 0 0 0;\n",
       "      width: 32px;\n",
       "    }\n",
       "\n",
       "    .colab-df-convert:hover {\n",
       "      background-color: #E2EBFA;\n",
       "      box-shadow: 0px 1px 2px rgba(60, 64, 67, 0.3), 0px 1px 3px 1px rgba(60, 64, 67, 0.15);\n",
       "      fill: #174EA6;\n",
       "    }\n",
       "\n",
       "    .colab-df-buttons div {\n",
       "      margin-bottom: 4px;\n",
       "    }\n",
       "\n",
       "    [theme=dark] .colab-df-convert {\n",
       "      background-color: #3B4455;\n",
       "      fill: #D2E3FC;\n",
       "    }\n",
       "\n",
       "    [theme=dark] .colab-df-convert:hover {\n",
       "      background-color: #434B5C;\n",
       "      box-shadow: 0px 1px 3px 1px rgba(0, 0, 0, 0.15);\n",
       "      filter: drop-shadow(0px 1px 2px rgba(0, 0, 0, 0.3));\n",
       "      fill: #FFFFFF;\n",
       "    }\n",
       "  </style>\n",
       "\n",
       "    <script>\n",
       "      const buttonEl =\n",
       "        document.querySelector('#df-77a7b98e-ccde-479a-bb42-93ab776c3090 button.colab-df-convert');\n",
       "      buttonEl.style.display =\n",
       "        google.colab.kernel.accessAllowed ? 'block' : 'none';\n",
       "\n",
       "      async function convertToInteractive(key) {\n",
       "        const element = document.querySelector('#df-77a7b98e-ccde-479a-bb42-93ab776c3090');\n",
       "        const dataTable =\n",
       "          await google.colab.kernel.invokeFunction('convertToInteractive',\n",
       "                                                    [key], {});\n",
       "        if (!dataTable) return;\n",
       "\n",
       "        const docLinkHtml = 'Like what you see? Visit the ' +\n",
       "          '<a target=\"_blank\" href=https://colab.research.google.com/notebooks/data_table.ipynb>data table notebook</a>'\n",
       "          + ' to learn more about interactive tables.';\n",
       "        element.innerHTML = '';\n",
       "        dataTable['output_type'] = 'display_data';\n",
       "        await google.colab.output.renderOutput(dataTable, element);\n",
       "        const docLink = document.createElement('div');\n",
       "        docLink.innerHTML = docLinkHtml;\n",
       "        element.appendChild(docLink);\n",
       "      }\n",
       "    </script>\n",
       "  </div>\n",
       "\n",
       "\n",
       "<div id=\"df-d63bd030-92e0-4997-9305-df4e16722be1\">\n",
       "  <button class=\"colab-df-quickchart\" onclick=\"quickchart('df-d63bd030-92e0-4997-9305-df4e16722be1')\"\n",
       "            title=\"Suggest charts\"\n",
       "            style=\"display:none;\">\n",
       "\n",
       "<svg xmlns=\"http://www.w3.org/2000/svg\" height=\"24px\"viewBox=\"0 0 24 24\"\n",
       "     width=\"24px\">\n",
       "    <g>\n",
       "        <path d=\"M19 3H5c-1.1 0-2 .9-2 2v14c0 1.1.9 2 2 2h14c1.1 0 2-.9 2-2V5c0-1.1-.9-2-2-2zM9 17H7v-7h2v7zm4 0h-2V7h2v10zm4 0h-2v-4h2v4z\"/>\n",
       "    </g>\n",
       "</svg>\n",
       "  </button>\n",
       "\n",
       "<style>\n",
       "  .colab-df-quickchart {\n",
       "      --bg-color: #E8F0FE;\n",
       "      --fill-color: #1967D2;\n",
       "      --hover-bg-color: #E2EBFA;\n",
       "      --hover-fill-color: #174EA6;\n",
       "      --disabled-fill-color: #AAA;\n",
       "      --disabled-bg-color: #DDD;\n",
       "  }\n",
       "\n",
       "  [theme=dark] .colab-df-quickchart {\n",
       "      --bg-color: #3B4455;\n",
       "      --fill-color: #D2E3FC;\n",
       "      --hover-bg-color: #434B5C;\n",
       "      --hover-fill-color: #FFFFFF;\n",
       "      --disabled-bg-color: #3B4455;\n",
       "      --disabled-fill-color: #666;\n",
       "  }\n",
       "\n",
       "  .colab-df-quickchart {\n",
       "    background-color: var(--bg-color);\n",
       "    border: none;\n",
       "    border-radius: 50%;\n",
       "    cursor: pointer;\n",
       "    display: none;\n",
       "    fill: var(--fill-color);\n",
       "    height: 32px;\n",
       "    padding: 0;\n",
       "    width: 32px;\n",
       "  }\n",
       "\n",
       "  .colab-df-quickchart:hover {\n",
       "    background-color: var(--hover-bg-color);\n",
       "    box-shadow: 0 1px 2px rgba(60, 64, 67, 0.3), 0 1px 3px 1px rgba(60, 64, 67, 0.15);\n",
       "    fill: var(--button-hover-fill-color);\n",
       "  }\n",
       "\n",
       "  .colab-df-quickchart-complete:disabled,\n",
       "  .colab-df-quickchart-complete:disabled:hover {\n",
       "    background-color: var(--disabled-bg-color);\n",
       "    fill: var(--disabled-fill-color);\n",
       "    box-shadow: none;\n",
       "  }\n",
       "\n",
       "  .colab-df-spinner {\n",
       "    border: 2px solid var(--fill-color);\n",
       "    border-color: transparent;\n",
       "    border-bottom-color: var(--fill-color);\n",
       "    animation:\n",
       "      spin 1s steps(1) infinite;\n",
       "  }\n",
       "\n",
       "  @keyframes spin {\n",
       "    0% {\n",
       "      border-color: transparent;\n",
       "      border-bottom-color: var(--fill-color);\n",
       "      border-left-color: var(--fill-color);\n",
       "    }\n",
       "    20% {\n",
       "      border-color: transparent;\n",
       "      border-left-color: var(--fill-color);\n",
       "      border-top-color: var(--fill-color);\n",
       "    }\n",
       "    30% {\n",
       "      border-color: transparent;\n",
       "      border-left-color: var(--fill-color);\n",
       "      border-top-color: var(--fill-color);\n",
       "      border-right-color: var(--fill-color);\n",
       "    }\n",
       "    40% {\n",
       "      border-color: transparent;\n",
       "      border-right-color: var(--fill-color);\n",
       "      border-top-color: var(--fill-color);\n",
       "    }\n",
       "    60% {\n",
       "      border-color: transparent;\n",
       "      border-right-color: var(--fill-color);\n",
       "    }\n",
       "    80% {\n",
       "      border-color: transparent;\n",
       "      border-right-color: var(--fill-color);\n",
       "      border-bottom-color: var(--fill-color);\n",
       "    }\n",
       "    90% {\n",
       "      border-color: transparent;\n",
       "      border-bottom-color: var(--fill-color);\n",
       "    }\n",
       "  }\n",
       "</style>\n",
       "\n",
       "  <script>\n",
       "    async function quickchart(key) {\n",
       "      const quickchartButtonEl =\n",
       "        document.querySelector('#' + key + ' button');\n",
       "      quickchartButtonEl.disabled = true;  // To prevent multiple clicks.\n",
       "      quickchartButtonEl.classList.add('colab-df-spinner');\n",
       "      try {\n",
       "        const charts = await google.colab.kernel.invokeFunction(\n",
       "            'suggestCharts', [key], {});\n",
       "      } catch (error) {\n",
       "        console.error('Error during call to suggestCharts:', error);\n",
       "      }\n",
       "      quickchartButtonEl.classList.remove('colab-df-spinner');\n",
       "      quickchartButtonEl.classList.add('colab-df-quickchart-complete');\n",
       "    }\n",
       "    (() => {\n",
       "      let quickchartButtonEl =\n",
       "        document.querySelector('#df-d63bd030-92e0-4997-9305-df4e16722be1 button');\n",
       "      quickchartButtonEl.style.display =\n",
       "        google.colab.kernel.accessAllowed ? 'block' : 'none';\n",
       "    })();\n",
       "  </script>\n",
       "</div>\n",
       "\n",
       "  <div id=\"id_e718aa0a-49ba-44af-9b87-cb24684b772c\">\n",
       "    <style>\n",
       "      .colab-df-generate {\n",
       "        background-color: #E8F0FE;\n",
       "        border: none;\n",
       "        border-radius: 50%;\n",
       "        cursor: pointer;\n",
       "        display: none;\n",
       "        fill: #1967D2;\n",
       "        height: 32px;\n",
       "        padding: 0 0 0 0;\n",
       "        width: 32px;\n",
       "      }\n",
       "\n",
       "      .colab-df-generate:hover {\n",
       "        background-color: #E2EBFA;\n",
       "        box-shadow: 0px 1px 2px rgba(60, 64, 67, 0.3), 0px 1px 3px 1px rgba(60, 64, 67, 0.15);\n",
       "        fill: #174EA6;\n",
       "      }\n",
       "\n",
       "      [theme=dark] .colab-df-generate {\n",
       "        background-color: #3B4455;\n",
       "        fill: #D2E3FC;\n",
       "      }\n",
       "\n",
       "      [theme=dark] .colab-df-generate:hover {\n",
       "        background-color: #434B5C;\n",
       "        box-shadow: 0px 1px 3px 1px rgba(0, 0, 0, 0.15);\n",
       "        filter: drop-shadow(0px 1px 2px rgba(0, 0, 0, 0.3));\n",
       "        fill: #FFFFFF;\n",
       "      }\n",
       "    </style>\n",
       "    <button class=\"colab-df-generate\" onclick=\"generateWithVariable('pd_data')\"\n",
       "            title=\"Generate code using this dataframe.\"\n",
       "            style=\"display:none;\">\n",
       "\n",
       "  <svg xmlns=\"http://www.w3.org/2000/svg\" height=\"24px\"viewBox=\"0 0 24 24\"\n",
       "       width=\"24px\">\n",
       "    <path d=\"M7,19H8.4L18.45,9,17,7.55,7,17.6ZM5,21V16.75L18.45,3.32a2,2,0,0,1,2.83,0l1.4,1.43a1.91,1.91,0,0,1,.58,1.4,1.91,1.91,0,0,1-.58,1.4L9.25,21ZM18.45,9,17,7.55Zm-12,3A5.31,5.31,0,0,0,4.9,8.1,5.31,5.31,0,0,0,1,6.5,5.31,5.31,0,0,0,4.9,4.9,5.31,5.31,0,0,0,6.5,1,5.31,5.31,0,0,0,8.1,4.9,5.31,5.31,0,0,0,12,6.5,5.46,5.46,0,0,0,6.5,12Z\"/>\n",
       "  </svg>\n",
       "    </button>\n",
       "    <script>\n",
       "      (() => {\n",
       "      const buttonEl =\n",
       "        document.querySelector('#id_e718aa0a-49ba-44af-9b87-cb24684b772c button.colab-df-generate');\n",
       "      buttonEl.style.display =\n",
       "        google.colab.kernel.accessAllowed ? 'block' : 'none';\n",
       "\n",
       "      buttonEl.onclick = () => {\n",
       "        google.colab.notebook.generateWithVariable('pd_data');\n",
       "      }\n",
       "      })();\n",
       "    </script>\n",
       "  </div>\n",
       "\n",
       "    </div>\n",
       "  </div>\n"
      ],
      "text/plain": [
       "       빈도\n",
       "0.0  2036\n",
       "1.0   509"
      ]
     },
     "metadata": {},
     "output_type": "display_data"
    }
   ],
   "source": [
    "# 각 레이블에 대한 정확한 개수를 확인\n",
    "\n",
    "unique_elements, counts_elements = np.unique(y_train, return_counts=True)\n",
    "\n",
    "print(\"◎ 각 레이블에 대한 빈도수:\")\n",
    "\n",
    "pd_data = pd.DataFrame(counts_elements, index=unique_elements, columns=[\"빈도\"])\n",
    "\n",
    "display(pd_data)\n"
   ]
  },
  {
   "cell_type": "code",
   "execution_count": null,
   "metadata": {
    "colab": {
     "base_uri": "https://localhost:8080/"
    },
    "executionInfo": {
     "elapsed": 794,
     "status": "ok",
     "timestamp": 1719077403172,
     "user": {
      "displayName": "­정윤서(인공지능대학 인공지능학과)",
      "userId": "17405492783781547198"
     },
     "user_tz": -540
    },
    "id": "jF1whxc9M5B5",
    "outputId": "ee81e7d5-a0bc-49d5-af63-c72339031f85"
   },
   "outputs": [
    {
     "name": "stdout",
     "output_type": "stream",
     "text": [
      "{'교호신문': 1, '주변인': 2, '날선': 3, '성품': 4, '복기': 5, '증거물': 6, '콘솔': 7, '저장매체': 8, '이동식': 9, '인멸하거': 10, '미진': 11, '연달': 12, '속단': 13, '불법선거': 14, '네트워킹': 15, '촌지': 16, '찬조': 17, '편람': 18, '요식업': 19, '수산물': 20, '자칫하면': 21, '졸속': 22, '일소': 23, '부조리': 24, '뜻함': 25, '배속': 26, '수행평가': 27, '경매': 28, '수상': 29, '항이므': 30, '변론기일': 31, '목도': 32, '취항': 33, '보안법': 34, '촉수': 35, '출국심사': 36, '퇴폐': 37, '심성': 38, '엔터프라이즈': 39, '서초': 40, '수건': 41, '직접강제': 42, '관상': 43, '탑재': 44, '승용자동차': 45, '이상일': 46, '입수': 47, '안기부': 48, '녹취록': 49, '홍석현': 50, '이학수': 51, '아무': 52, '전치': 53, '숙려': 54, '법의학': 55, '의대': 56, '유아윤': 57, '병술': 58, '정길': 59, '도박': 60, '관광객': 61, '연륜': 62, '뉴시스': 63, '오종택': 64, '김인철': 65, '행정감사': 66, '표목': 67, '반기': 68, '지방자치제': 69, '성차별': 70, '각개': 71, '제도보장': 72, '족문': 73, '도식': 74, '잔재': 75, '중기': 76, '다변': 77, '소생': 78, '복속': 79, '뿌리': 80, '화합': 81, '효친': 82, '숭조': 83, '고정관념': 84, '영속': 85, '대대로': 86, '부흥': 87, '분가': 88, '일조': 89, '경비계엄': 90, '포고': 91, '군사혁명': 92, '색출': 93, '제헌': 94, '반혁명': 95, '독직죄': 96, '국사': 97, '비상조치': 98, '등를': 99, '하순': 100, '파멸': 101, '소양': 102, '추송': 103, '인치': 104, '대령': 105, '마침표': 106, '혼재': 107, '추동되기': 108, '판매촉진': 109, '간혹': 110, '탁사': 111, '강릉시': 112, '구로': 113, '국광': 114, '낙선운동': 115, '낙천': 116, '시민불복종': 117, '체사': 118, '오도': 119, '난무': 120, '정략적': 121, '충성': 122, '관변': 123, '지역감정': 124, '친소': 125, '연등': 126, '불공평': 127, '시민사회단체': 128, '기틀': 129, '복지사': 130, '시민운동': 131, '학회': 132, '사위': 133, '안일': 134, '무사': 135, '교육재정': 136, '평생교육': 137, '전수': 138, '계발': 139, '잠탈': 140, '결탁': 141, '퇴색': 142, '스캔': 143, '로스쿨': 144, '장학금': 145, '손질': 146, '등급제': 147, '창작물': 148, '화란': 149, '볼거리': 150, '흡수': 151, '전례': 152, '리얼': 153, '나체': 154, '예수': 155, '천국': 156, '다스': 157, '레이': 158, '카르로스': 159, '메아리': 160, '점진': 161, '공상': 162, '증세': 163, '부사관': 164, '선배': 165, '해병대': 166, '중소도시': 167, '선수': 168, '할인점': 169, '운임': 170, '자못': 171, '절약': 172, '후혼': 173, '조카': 174, '숙부': 175, '종법': 176, '친모': 177, '초상': 178, '실감': 179, '수배': 180, '흐릿하': 181, '정모': 182, '기자실': 183, '권규': 184, '중층': 185, '산술': 186, '유지나': 187, '농촌': 188, '시원': 189, '응급의료': 190, '의학상': 191, '명감': 192, '물등': 193, '옥외광고': 194, '소비자보호법': 195, '기량': 196, '현혹': 197, '라식수술': 198, '종식': 199, '방패': 200, '책임재산': 201, '사해행위': 202, '무기명채권': 203, '전재국': 204, '병명': 205, '출항': 206, '비지': 207, '제비': 208, '세무조사': 209, '무자': 210, '마음가짐': 211, '그른': 212, '한의원': 213, '중함': 214, '필수품': 215, '생업': 216, '시초': 217, '만주': 218, '김종호': 219, '한일합섬': 220, '새삼': 221, '심층': 222, '법앞': 223, '개인기업': 224, '적응력': 225, '자생': 226, '순수': 227, '표본': 228, '관치': 229, '세칭': 230, '주력': 231, '자존심': 232, '무릎': 233, '겨드랑이': 234, '의류': 235, '신입': 236, '출금': 237, '실업자': 238, '고용보': 239, '복지국가': 240, '연출': 241, '교훈': 242, '동남아': 243, '진회': 244, '원폭피해자': 245, '소가': 246, '도쿄': 247, '뉘른베르크': 248, '나치': 249, '세계대전': 250, '비씨': 251, '연합국': 252, '동남아시아': 253, '무방비': 254, '불법감금': 255, '김만기': 256, '이희성': 257, '동지회': 258, '출현': 259, '회칙': 260, '장전': 261, '수임료': 262, '불참': 263, '대통합민주신당': 264, '단죄': 265, '형법대전': 266, '대한제국': 267, '반역죄': 268, '탄생': 269, '반민': 270, '과업': 271, '배반': 272, '부찬': 273, '찬의': 274, '훈장': 275, '자작': 276, '구성면': 277, '물법': 278, '지배자': 279, '말일': 280, '면죄부': 281, '비말': 282, '실과': 283, '호흡기': 284, '시나': 285, '휴식일': 286, '보트': 287, '캐스팅': 288, '기와': 289, '김택기': 290, '회신': 291, '고위': 292, '정의당': 293, '편철': 294, '난간': 295, '상무': 296, '의왕': 297, '창조': 298, '명품': 299, '브로커': 300, '생태': 301, '백운호수': 302, '금전채권': 303, '금수': 304, '재량행위': 305, '불문헌법': 306, '낙후': 307, '새천년': 308, '자초': 309, '청방': 310, '강행': 311, '무릅쓰고': 312, '제보': 313, '이목': 314, '용모': 315, '저작자': 316, '엄수': 317, '선차': 318, '가옥': 319, '간수': 320, '수백': 321, '노총': 322, '출입구': 323, '로비': 324, '경향신문사': 325, '소환조사': 326, '철도공사': 327, '채부': 328, '소일': 329, '오늘': 330, '날짜': 331, '옥살이': 332, '재물강취': 333, '연루': 334, '안내서': 335, '내과': 336, '진촌리': 337, '백령면': 338, '옹진군': 339, '배율': 340, '급등': 341, '개략': 342, '종목': 343, '번역': 344, '미국인': 345, '반시민': 346, '사용권': 347, '대한문': 348, '덕수궁': 349, '근처': 350, '서거': 351, '감점': 352, '나열': 353, '면장': 354, '부친': 355, '친일파': 356, '제작책임자': 357, '프로듀서': 358, '자술': 359, '무법': 360, '향락': 361, '등부': 362, '주상': 363, '제과점': 364, '휴게': 365, '접객': 366, '식품위생법': 367, '관객': 368, '지하도': 369, '객석': 370, '승합자동차': 371, '자동차관리법': 372, '승강장': 373, '대합실': 374, '터미널': 375, '철도역': 376, '공항': 377, '유스호스텔': 378, '야영장': 379, '지소': 380, '보건소': 381, '부연': 382, '갑작스레': 383, '공문': 384, '달러': 385, '환전': 386, '외환보유고': 387, '족수': 388, '반정': 389, '일부인': 390, '수장': 391, '당인': 392, '화법': 393, '갤러리': 394, '네티즌': 395, '요즈음': 396, '추대': 397, '소신': 398, '투표절차': 399, '하남': 400, '인센티브': 401, '환대': 402, '호해': 403, '계호현': 404, '긴장': 405, '결박': 406, '사회학': 407, '대인': 408, '재정난': 409, '공공사업': 410, '기미': 411, '선시': 412, '사뭇': 413, '양은': 414, '식칼': 415, '공갈죄': 416, '권리행사방해죄': 417, '부내': 418, '특허쟁송': 419, '쟁송절차': 420, '지적재산권': 421, '반세기': 422, '보정': 423, '뜻이므': 424, '특허청장': 425, '차라리': 426, '부담케': 427, '합명회사': 428, '경영인': 429, '등재': 430, '사금': 431, '이사나': 432, '유주': 433, '재심사': 434, '내란음모죄': 435, '이석기': 436, '유사정': 437, '때로는': 438, '본칙': 439, '전입': 440, '재평가특례': 441, '가로막': 442, '신진': 443, '북구': 444, '광산구': 445, '특별자치시': 446, '양호': 447, '진동': 448, '더욱더': 449, '삼선동': 450, '연좌': 451, '무거워': 452, '유월': 453, '파리': 454, '개리': 455, '결심': 456, '궐석': 457, '당혹': 458, '냄새': 459, '다방면': 460, '각층': 461, '형량할': 462, '청문회': 463, '오점': 464, '군사력': 465, '탈취': 466, '수뇌부': 467, '사령관': 468, '김재규': 469, '건축사': 470, '판결이유': 471, '토제': 472, '불로소득': 473, '심산': 474, '애로': 475, '상대성': 476, '폭등': 477, '전매': 478, '천리': 479, '선뜻': 480, '심야': 481, '절기': 482, '돌발상황': 483, '자제력': 484, '판단력': 485, '감성': 486, '기세': 487, '서장': 488, '일몰': 489, '임의규정': 490, '육아휴직': 491, '산후': 492, '산전': 493, '침체': 494, '영세': 495, '총칙': 496, '명보': 497, '동어반복': 498, '창달': 499, '시멘트': 500, '커뮤니케이션': 501, '위성정당': 502, '초과의석': 503, '다수대표제': 504, '소선거구': 505, '비밀선거': 506, '반올림': 507, '조교수': 508, '장단점': 509, '도야': 510, '탐구': 511, '형상': 512, '희망사항': 513, '이율배반': 514, '보편성': 515, '편승': 516, '집총': 517, '교리': 518, '간청': 519, '무임': 520, '고역': 521, '실험': 522, '역병': 523, '안전지대': 524, '해성': 525, '거래처': 526, '장집': 527, '보로': 528, '무색': 529, '법률사실': 530, '전자문서': 531, '배열': 532, '간별': 533, '종별': 534, '간행': 535, '창간': 536, '책임감': 537, '미숙': 538, '소화': 539, '파적': 540, '현실정치': 541, '쇄신': 542, '정국': 543, '율제': 544, '시판': 545, '포장': 546, '병기': 547, '신하': 548, '신한': 549, '기업가': 550, '섭취': 551, '능가': 552, '범어동': 553, '수성구': 554, '계쟁': 555, '의외': 556, '비유': 557, '번질': 558, '불로': 559, '군중심리': 560, '이격': 561, '외교공관': 562, '합세': 563, '귀가': 564, '여행': 565, '점등': 566, '인프라': 567, '안양시': 568, '식비': 569, '정치계': 570, '착안': 571, '직할': 572, '열망': 573, '대응조치': 574, '당면': 575, '서한': 576, '물량': 577, '수입물량': 578, '국산': 579, '관인': 580, '감기': 581, '화폐': 582, '월드컵': 583, '홈에버': 584, '여분': 585, '이랜드': 586, '전전': 587, '응급환자': 588, '봉직': 589, '한시법': 590, '송구': 591, '심증': 592, '필벌': 593, '유신': 594, '해약': 595, '심금': 596, '도울': 597, '고용기간': 598, '엘리트': 599, '능력자': 600, '시사': 601, '숙지': 602, '부채질': 603, '상업성': 604, '지란': 605, '방청권': 606, '모니터': 607, '국정감사권': 608, '예산안': 609, '실천': 610, '불하': 611, '가등기': 612, '등기청구권': 613, '이양': 614, '미국정부': 615, '주부': 616, '유책': 617, '면접교섭권': 618, '전세계': 619, '비도덕적': 620, '의정부지방법원': 621, '요법': 622, '자석': 623, '침구': 624, '구사': 625, '이르렀다고': 626, '중개사': 627, '석사': 628, '국민보호': 629, '인종': 630, '정치범': 631, '캘리포니아주': 632, '숙박시설': 633, '구재': 634, '전국구': 635, '고지역': 636, '쐐기': 637, '담합': 638, '접경': 639, '유일': 640, '투표제': 641, '당락': 642, '수감자': 643, '후발': 644, '구형량': 645, '주례': 646, '구안': 647, '봉투': 648, '사표': 649, '조만간': 650, '태화동': 651, '집무실': 652, '여의도동': 653, '영등포구': 654, '칼잠': 655, '마음껏': 656, '팔다리': 657, '하층': 658, '노역장': 659, '생활양식': 660, '확인가능': 661, '계부': 662, '협소함': 663, '기독교': 664, '요일': 665, '역수': 666, '단심': 667, '천원': 668, '환경보호': 669, '오염원': 670, '유통업': 671, '만인': 672, '시해': 673, '치연': 674, '김학성': 675, '김태현': 676, '박일환': 677, '윤용섭': 678, '이상규': 679, '권영성': 680, '사보': 681, '사보나': 682, '이슈': 683, '신조어': 684, '해학': 685, '풍자': 686, '세태': 687, '드보르': 688, '비욘': 689, '듣보잡': 690, '기왕': 691, '상주': 692, '이임': 693, '무단이탈': 694, '아침': 695, '철책': 696, '군단': 697, '초장': 698, '부소': 699, '군무': 700, '익산': 701, '매설': 702, '경제사': 703, '상권': 704, '상가': 705, '석회': 706, '석조': 707, '도급계약': 708, '민자역사': 709, '신촌': 710, '현판': 711, '어깨': 712, '반상회': 713, '동창회': 714, '좌담': 715, '표찰': 716, '배지': 717, '늑장': 718, '반년': 719, '율도': 720, '주거장': 721, '유목': 722, '유부': 723, '악순환': 724, '치부': 725, '막론': 726, '가용': 727, '집착': 728, '농업': 729, '작전명령': 730, '승선근무예비역': 731, '경주': 732, '이메일': 733, '병무청': 734, '카투사': 735, '이기주의': 736, '의견서': 737, '역설': 738, '성공사례': 739, '선심': 740, '마포': 741, '서울시': 742, '노동기본권': 743, '정해석': 744, '증발': 745, '원지': 746, '간편': 747, '완벽': 748, '단시일': 749, '줄곧': 750, '원스톱': 751, '기장': 752, '표면': 753, '특화된': 754, '대리시': 755, '하나라': 756, '지청장': 757, '의정부': 758, '대법': 759, '강경근': 760, '법속': 761, '프라이버시': 762, '이용구': 763, '군청': 764, '막중': 765, '최승진': 766, '분실': 767, '지정은': 768, '달이': 769, '무작정': 770, '가망': 771, '귀국': 772, '일체성': 773, '쟁송일': 774, '종국판결': 775, '비송적': 776, '쟁송성': 777, '냉동': 778, '공률': 779, '첫걸음': 780, '근이영양증': 781, '치료법': 782, '불임': 783, '체외': 784, '수효': 785, '냉동수정란': 786, '십년': 787, '실종자': 788, '풍랑': 789, '첫날': 790, '선원': 791, '유학생': 792, '는가': 793, '애국심': 794, '긍지': 795, '기표': 796, '조총련': 797, '분단': 798, '이건': 799, '행위규범': 800, '총론': 801, '한겨레신문사': 802, '항쟁': 803, '주년': 804, '세종': 805, '대운하': 806, '감세': 807, '박사학위': 808, '정치학': 809, '원광대': 810, '얘기': 811, '독재자': 812, '포럼': 813, '참여정부': 814, '도로교': 815, '생으로': 816, '북미': 817, '남북관계': 818, '신변': 819, '의견청취': 820, '이해관계자': 821, '귀환': 822, '자회사': 823, '미사일': 824, '장거리': 825, '핵실험': 826, '훼멸될': 827, '종이컵': 828, '공기': 829, '끼리': 830, '일어나지': 831, '휴전': 832, '인사청문회': 833, '이중인격': 834, '굴절': 835, '죄악': 836, '본심': 837, '도란': 838, '선악과': 839, '시시비비': 840, '동아일보사': 841, '발단': 842, '미스코리아': 843, '대체집행': 844, '대포': 845, '허무인': 846, '입방': 847, '대리점': 848, '령제': 849, '학적': 850, '의약': 851, '합리화': 852, '독려': 853, '취합하': 854, '관리기능': 855, '로그': 856, '김유정': 857, '강근희': 858, '임태': 859, '직시': 860, '배후': 861, '파스퇴르유업': 862, '레비': 863, '욕망': 864, '욕심': 865, '창조성': 866, '정무수석': 867, '취합해': 868, '국정원': 869, '대통령비서실': 870, '하달': 871, '좌편향': 872, '블랙리스트': 873, '국가보훈처': 874, '악성종양': 875, '손괴하거': 876, '검거': 877, '차도': 878, '도심': 879, '일반교통방해죄': 880, '여적': 881, '마약범': 882, '위란': 883, '막음': 884, '은행원': 885, '실망': 886, '원론': 887, '골든타임': 888, '방서': 889, '소방본부': 890, '소방청': 891, '본부장': 892, '초동': 893, '징후': 894, '조물': 895, '성시기': 896, '추사': 897, '정본': 898, '박홍근': 899, '인파': 900, '핼러윈': 901, '해밀톤': 902, '이태원동': 903, '수지': 904, '오토바이': 905, '갓길': 906, '연소자': 907, '중죄': 908, '규격': 909, '표상': 910, '국민성': 911, '문과': 912, '태운': 913, '라이터': 914, '유리창': 915, '중재위원': 916, '마침': 917, '집행력': 918, '행방': 919, '무집': 920, '증거개시': 921, '이원화': 922, '만장일치': 923, '국민임대주택': 924, '장복': 925, '마취': 926, '중추신경계': 927, '탈북': 928, '심리불속행': 929, '역삼세무서': 930, '정문': 931, '남자에게': 932, '복수심': 933, '인내심': 934, '증폭': 935, '이르렀': 936, '비평': 937, '언론노조': 938, '요부': 939, '해경': 940, '여객선': 941, '보도국': 942, '홍보수석': 943, '태만': 944, '전경': 945, '경이': 946, '입교': 947, '현지훈': 948, '함정': 949, '근신': 950, '견책': 951, '입대': 952, '등규': 953, '수두': 954, '해석기관': 955, '성문': 956, '말로': 957, '상률': 958, '오락실': 959, '관업': 960, '어법': 961, '부당행위': 962, '타락': 963, '차마': 964, '선장': 965, '참관인': 966, '박명기': 967, '곽노현': 968, '성벽': 969, '성적가학증': 970, '소아': 971, '예능': 972, '낭독': 973, '가창': 974, '연주': 975, '청소년기': 976, '담소': 977, '아동복': 978, '법명': 979, '공주치료감호소': 980, '심혈': 981, '재법': 982, '기성': 983, '포한': 984, '갈래': 985, '수괴': 986, '조처': 987, '한문': 988, '전안': 989, '대학별': 990, '인문': 991, '학령': 992, '송파': 993, '잠실': 994, '오지': 995, '몰리': 996, '잠재력': 997, '정규직': 998, '테크': 999, '지명도': 1000, '기초단체장': 1001, '수명': 1002, '통일국민당': 1003, '개원': 1004, '부등': 1005, '기자회견': 1006, '고덕면': 1007, '봉산면': 1008, '덕산면': 1009, '삽교읍': 1010, '오가면': 1011, '신암면': 1012, '응봉면': 1013, '대흥면': 1014, '광시면': 1015, '신양면': 1016, '대술면': 1017, '예산읍': 1018, '결성면': 1019, '은하면': 1020, '장곡면': 1021, '홍동면': 1022, '광천읍': 1023, '구항면': 1024, '갈산면': 1025, '금마면': 1026, '홍북면': 1027, '홍성읍': 1028, '신평면': 1029, '우강면': 1030, '순성면': 1031, '면천면': 1032, '합덕읍': 1033, '송산면': 1034, '석문면': 1035, '대호지면': 1036, '정미면': 1037, '당진읍': 1038, '총계': 1039, '군별': 1040, '간명': 1041, '해군': 1042, '호화': 1043, '혼례식': 1044, '회갑연': 1045, '예비신랑': 1046, '간소': 1047, '경조': 1048, '전신': 1049, '조기간': 1050, '비회': 1051, '올바로': 1052, '선용': 1053, '트월셔': 1054, '스테이': 1055, '안성시': 1056, '안성': 1057, '밀도': 1058, '대심': 1059, '지질학': 1060, '군내': 1061, '울진': 1062, '울진군': 1063, '사유라': 1064, '직면': 1065, '권일': 1066, '지해': 1067, '주축': 1068, '운전기사': 1069, '순리': 1070, '부척': 1071, '사지': 1072, '매몰': 1073, '토사': 1074, '산사태': 1075, '우면산': 1076, '앞길': 1077, '빌라': 1078, '로얄': 1079, '승용차': 1080, '침수': 1081, '집중호우': 1082, '술국': 1083, '불교': 1084, '고교입시': 1085, '교육철학': 1086, '재수': 1087, '격자': 1088, '학교생활기록부': 1089, '번의': 1090, '가치나': 1091, '일익': 1092, '연한': 1093, '전문교육': 1094, '체능': 1095, '시금석': 1096, '광업': 1097, '자유시장경제': 1098, '상법학자': 1099, '순간': 1100, '변환': 1101, '부당성': 1102, '불변': 1103, '어긋나게': 1104, '주의자': 1105, '공산': 1106, '내면': 1107, '역적': 1108, '침범': 1109, '승계취득': 1110, '운수부': 1111, '경춘철도': 1112, '양수': 1113, '소실': 1114, '전방': 1115, '즉석': 1116, '측정기': 1117, '교통체증': 1118, '문하': 1119, '주행': 1120, '순식간': 1121, '달리기': 1122, '불시': 1123, '제철': 1124, '개월내': 1125, '정태호': 1126, '멀리': 1127, '분해': 1128, '치하': 1129, '몇몇': 1130, '비밀침해죄': 1131, '모해': 1132, '조이': 1133, '베트남전쟁': 1134, '공훈': 1135, '지법': 1136, '인복': 1137, '장법': 1138, '활보': 1139, '초생': 1140, '말초신경': 1141, '잉태': 1142, '남방': 1143, '피부염': 1144, '지루': 1145, '부천': 1146, '공공정책': 1147, '두리': 1148, '추리': 1149, '비행장': 1150, '오산': 1151, '서탄면': 1152, '합중국': 1153, '아메리카합중국': 1154, '거역': 1155, '여군': 1156, '팬티': 1157, '병인': 1158, '초소': 1159, '소견': 1160, '선군정치': 1161, '미화': 1162, '김정일': 1163, '김일성': 1164, '후통': 1165, '협소하': 1166, '폐혜': 1167, '유아인': 1168, '일본도': 1169, '법윈': 1170, '화로': 1171, '남지': 1172, '중압감': 1173, '시불': 1174, '오마이': 1175, '수면시간': 1176, '녹취할': 1177, '망상': 1178, '엄중': 1179, '녹취': 1180, '교육문제': 1181, '반감': 1182, '산미': 1183, '유하': 1184, '비현실적': 1185, '절충': 1186, '다기': 1187, '동맥': 1188, '형사입건': 1189, '실황조서': 1190, '고현': 1191, '발각': 1192, '재물손괴죄': 1193, '과실치사': 1194, '묵비권': 1195, '교통법위반': 1196, '금권정치': 1197, '누명': 1198, '국가채무': 1199, '함포': 1200, '연행': 1201, '놀이': 1202, '세라': 1203, '아이템': 1204, '시청률': 1205, '공언': 1206, '맹점': 1207, '소권': 1208, '단상': 1209, '곳곳': 1210, '산회': 1211, '박종희': 1212, '버튼': 1213, '미디어법': 1214, '선서': 1215, '서기': 1216, '김두한': 1217, '이정재': 1218, '두목': 1219, '상수': 1220, '정당인': 1221, '천인': 1222, '겸직': 1223, '지배구조': 1224, '삼국시대': 1225, '노령화': 1226, '화체': 1227, '헌장': 1228, '홀수': 1229, '과오': 1230, '천둥': 1231, '악습': 1232, '매국': 1233, '돌파구': 1234, '답보': 1235, '누리': 1236, '굴레': 1237, '최대공약수': 1238, '대성': 1239, '박씨': 1240, '밀양': 1241, '이씨': 1242, '전주': 1243, '김씨': 1244, '김해': 1245, '급수': 1246, '산업사': 1247, '자급자족': 1248, '배척': 1249, '비사': 1250, '남존': 1251, '동요': 1252, '원근': 1253, '항를': 1254, '공세': 1255, '유산': 1256, '가부장제': 1257, '본국': 1258, '박해': 1259, '공중전화': 1260, '철문': 1261, '출입국관리소': 1262, '국가경쟁력': 1263, '사무이': 1264, '국립공원': 1265, '일반국도': 1266, '국가하천': 1267, '경제개발': 1268, '해양': 1269, '컨테이너': 1270, '개장': 1271, '북안': 1272, '가덕도': 1273, '원동': 1274, '진수': 1275, '시대정신': 1276, '정자': 1277, '시화': 1278, '신자': 1279, '국면': 1280, '트위터': 1281, '서울시장': 1282, '과로': 1283, '소년범': 1284, '분비물': 1285, '모발': 1286, '점막': 1287, '소년원': 1288, '촉매': 1289, '집행자': 1290, '연상': 1291, '음화': 1292, '줄거리': 1293, '외모': 1294, '화상': 1295, '필름': 1296, '웹하드': 1297, '애니메이션': 1298, '남학생': 1299, '여학생': 1300, '파일공유': 1301, '경비원': 1302, '직접행동': 1303, '구치': 1304, '환소': 1305, '호인': 1306, '호질': 1307, '분전': 1308, '교위': 1309, '방화죄': 1310, '추측': 1311, '분체': 1312, '간병': 1313, '여량': 1314, '구간': 1315, '가내': 1316, '파킨슨': 1317, '동맥경화': 1318, '뇌졸중': 1319, '행정명령': 1320, '양면': 1321, '물심': 1322, '화차': 1323, '터널': 1324, '아내': 1325, '악필': 1326, '필기': 1327, '절하': 1328, '물어': 1329, '피재': 1330, '전기기사': 1331, '비급': 1332, '지정수': 1333, '명백': 1334, '빌어': 1335, '정의도': 1336, '전제국가': 1337, '양해': 1338, '취했다': 1339, '하루': 1340, '정선': 1341, '특볍법': 1342, '하야시': 1343, '마침내': 1344, '거세': 1345, '폭로': 1346, '영일': 1347, '난문': 1348, '법철학': 1349, '헌법학': 1350, '형법학': 1351, '소인': 1352, '동자': 1353, '무력진압': 1354, '외교통상부': 1355, '관례': 1356, '폭주': 1357, '인터뷰': 1358, '주심': 1359, '사고방식': 1360, '건일': 1361, '집행불능': 1362, '각인': 1363, '환청': 1364, '찬반논란': 1365, '사도': 1366, '원격': 1367, '내인': 1368, '문안': 1369, '입맛': 1370, '성분': 1371, '영양소': 1372, '식품의약품안전청장': 1373, '영업정지': 1374, '홍국': 1375, '글루코사민': 1376, '이정표': 1377, '안전기획부': 1378, '만날': 1379, '찍기': 1380, '표정': 1381, '정복': 1382, '단념': 1383, '직선제': 1384, '영수증': 1385, '리더십': 1386, '덕망': 1387, '학식': 1388, '수시': 1389, '원자로': 1390, '교칙': 1391, '정학': 1392, '최종수': 1393, '데리': 1394, '복도': 1395, '사조': 1396, '재편': 1397, '사교육': 1398, '대학입시': 1399, '정례': 1400, '등질': 1401, '후순위채권': 1402, '환가': 1403, '실체법': 1404, '독직': 1405, '관세사': 1406, '정일': 1407, '결과물': 1408, '개회': 1409, '탈피': 1410, '감히': 1411, '부총': 1412, '회법': 1413, '정형식': 1414, '차남': 1415, '농지': 1416, '토인': 1417, '분묘': 1418, '세금탈루': 1419, '양성화': 1420, '별반': 1421, '수태': 1422, '적응도': 1423, '달도': 1424, '여력': 1425, '자부': 1426, '감리': 1427, '격조사': 1428, '사적지': 1429, '기화': 1430, '문외한': 1431, '성숙성': 1432, '축복': 1433, '종교시설': 1434, '믿음': 1435, '신앙': 1436, '사후세계': 1437, '경원': 1438, '무덤': 1439, '시신': 1440, '종중': 1441, '평안': 1442, '안치': 1443, '성당': 1444, '태릉': 1445, '공릉': 1446, '대교구': 1447, '환시': 1448, '가업': 1449, '정시기': 1450, '선급': 1451, '수증': 1452, '보답': 1453, '결합체': 1454, '정보화': 1455, '시전': 1456, '계량': 1457, '과상': 1458, '입술': 1459, '주먹': 1460, '불원': 1461, '수파': 1462, '신사협정': 1463, '이집트': 1464, '조보': 1465, '달라짐': 1466, '법조경합': 1467, '죄수': 1468, '비상구': 1469, '각별': 1470, '아이': 1471, '이완': 1472, '혼돈': 1473, '정절': 1474, '만하': 1475, '괄목': 1476, '간접강제': 1477, '옥상': 1478, '실패': 1479, '월말': 1480, '법무조합': 1481, '정운영': 1482, '항고소송': 1483, '반민족행위처벌법': 1484, '영전': 1485, '숙의': 1486, '정통': 1487, '기념장': 1488, '은사': 1489, '남작': 1490, '일본정부': 1491, '증조부': 1492, '재래식': 1493, '취했는': 1494, '입음': 1495, '환기': 1496, '개표': 1497, '가기': 1498, '등외': 1499, '완만': 1500, '보훈병원': 1501, '우의': 1502, '진료기록': 1503, '사망진단서': 1504, '이환': 1505, '사망원인': 1506, '허락': 1507, '오진': 1508, '유가족': 1509, '전몰': 1510, '국가보훈처장': 1511, '폐암': 1512, '다량': 1513, '군사작전': 1514, '당위': 1515, '모짊': 1516, '내용물': 1517, '게임방': 1518, '공연예술': 1519, '녹취시설': 1520, '갱생': 1521, '실의': 1522, '박재욱': 1523, '오유진': 1524, '사기미수죄': 1525, '반의': 1526, '난제': 1527, '합병': 1528, '배합': 1529, '어가': 1530, '다중이': 1531, '문화제': 1532, '시시각각': 1533, '분사기': 1534, '군중': 1535, '곡사': 1536, '용제': 1537, '물탱크': 1538, '통증': 1539, '파바': 1540, '철야': 1541, '령안': 1542, '안국동': 1543, '발포': 1544, '폐쇄조치': 1545, '전체주의': 1546, '태세': 1547, '총력': 1548, '일사불란': 1549, '권력자': 1550, '통인': 1551, '국가원수': 1552, '천재': 1553, '규합': 1554, '소금': 1555, '대입': 1556, '탐색': 1557, '부산시': 1558, '수뇌': 1559, '뇌물죄': 1560, '폐간': 1561, '정간': 1562, '은익': 1563, '거제': 1564, '언동': 1565, '면책특권': 1566, '불체포특권': 1567, '발언권': 1568, '난맥': 1569, '일삼': 1570, '전횡': 1571, '착신': 1572, '신인': 1573, '입하': 1574, '명망가': 1575, '보태': 1576, '영아': 1577, '은인': 1578, '초본': 1579, '등록기준지': 1580, '성명권': 1581, '수순': 1582, '만회': 1583, '동료': 1584, '성폭행': 1585, '기숙': 1586, '공공재': 1587, '특별회계': 1588, '자연자원': 1589, '청량음료': 1590, '환경처': 1591, '표적': 1592, '국민대': 1593, '개임': 1594, '도관': 1595, '도부': 1596, '한국전력': 1597, '냉대': 1598, '다섯': 1599, '예비역': 1600, '신도': 1601, '봉인': 1602, '사용제한': 1603, '송수': 1604, '입학생': 1605, '학풍': 1606, '현충일': 1607, '사망률': 1608, '합병증': 1609, '신경생리학': 1610, '우생학': 1611, '피임법': 1612, '약물': 1613, '약제사': 1614, '진공': 1615, '분당': 1616, '국가책임': 1617, '소송도': 1618, '명명': 1619, '국보위': 1620, '개조': 1621, '구도': 1622, '벨트': 1623, '몸통': 1624, '취침': 1625, '팔이': 1626, '중금속': 1627, '허리': 1628, '걸이': 1629, '허리띠': 1630, '잠금장치': 1631, '톱날': 1632, '재수감': 1633, '사이비': 1634, '예비군': 1635, '유럽': 1636, '성해': 1637, '경제체제': 1638, '소주사': 1639, '토착': 1640, '눌려': 1641, '생산자': 1642, '주제': 1643, '도마': 1644, '먹기': 1645, '도지역': 1646, '석식': 1647, '년말': 1648, '통폐합': 1649, '소주시': 1650, '군입대': 1651, '이라크전쟁': 1652, '관심사': 1653, '관건': 1654, '신문기자': 1655, '완연': 1656, '특유': 1657, '유구': 1658, '겸영': 1659, '경쟁상태': 1660, '간호사': 1661, '서북구': 1662, '정신분열병': 1663, '이근식': 1664, '경만': 1665, '기습': 1666, '강약': 1667, '숙식': 1668, '유념': 1669, '멸실': 1670, '송부된다': 1671, '선취': 1672, '교우': 1673, '소년교도소': 1674, '안동교도소': 1675, '상일': 1676, '파출소': 1677, '현미': 1678, '이재학': 1679, '김진수': 1680, '보궐': 1681, '무태': 1682, '전담': 1683, '일부분': 1684, '왕성': 1685, '수용성': 1686, '감수성': 1687, '정치가': 1688, '교체': 1689, '보은': 1690, '인간관계': 1691, '다짐': 1692, '최상': 1693, '친부모': 1694, '동화': 1695, '기혼': 1696, '동질감': 1697, '양모': 1698, '개명': 1699, '국어': 1700, '이익충돌': 1701, '국경': 1702, '관혼상제': 1703, '친목': 1704, '고제': 1705, '형종': 1706, '몫이므': 1707, '폐쇄되': 1708, '사방': 1709, '천장': 1710, '소득재분배': 1711, '중간수': 1712, '산자': 1713, '안국': 1714, '부지역': 1715, '해양법': 1716, '재산범죄': 1717, '남매': 1718, '이복': 1719, '번만': 1720, '파양': 1721, '사별': 1722, '비자': 1723, '적자': 1724, '영주': 1725, '완납': 1726, '시리아': 1727, '고려인': 1728, '우즈베키스탄': 1729, '지적공사': 1730, '자본금': 1731, '사업인': 1732, '장기로': 1733, '이해충돌': 1734, '우울증': 1735, '갱년기': 1736, '초록': 1737, '영자': 1738, '틀림': 1739, '원용한': 1740, '복수정당제': 1741, '공작': 1742, '어의': 1743, '헌문제': 1744, '달함': 1745, '외연': 1746, '충무': 1747, '마산': 1748, '불리': 1749, '지번': 1750, '공부': 1751, '세운': 1752, '피청': 1753, '소하': 1754, '소안면': 1755, '초리': 1756, '추자면': 1757, '호칭': 1758, '북위': 1759, '동경': 1760, '북제주군': 1761, '모호': 1762, '해남': 1763, '피치': 1764, '통치행위': 1765, '백기완': 1766, '형항': 1767, '비고': 1768, '형공': 1769, '비보': 1770, '요가': 1771, '자치제': 1772, '후퇴': 1773, '명인': 1774, '가세': 1775, '무등': 1776, '성혜': 1777, '초창': 1778, '알맹이': 1779, '외피': 1780, '산지': 1781, '사격장': 1782, '위쪽': 1783, '아래쪽': 1784, '기점': 1785, '솔섬': 1786, '개섬': 1787, '토끼섬': 1788, '암도': 1789, '도제': 1790, '시름': 1791, '왕등': 1792, '상왕': 1793, '거륜': 1794, '금도': 1795, '식도': 1796, '가막': 1797, '풍력발전': 1798, '동서로': 1799, '서해안': 1800, '신중': 1801, '처사': 1802, '부도': 1803, '사면': 1804, '한국사': 1805, '성찰': 1806, '언도': 1807, '가설': 1808, '냉엄': 1809, '규준': 1810, '조명': 1811, '사회과학': 1812, '쓰기': 1813, '혈서': 1814, '가득': 1815, '이강혁': 1816, '김종원': 1817, '헌법학자': 1818, '형법학자': 1819, '살인자': 1820, '론자': 1821, '인도주의': 1822, '팽팽': 1823, '사형수': 1824, '진실인': 1825, '가려진': 1826, '마주': 1827, '마저': 1828, '약점': 1829, '가정사': 1830, '수의사': 1831, '수술': 1832, '태양도': 1833, '만족감': 1834, '차림새': 1835, '손님': 1836, '필기구': 1837, '청원권': 1838, '원서': 1839, '응암': 1840, '필증': 1841, '업란': 1842, '서술': 1843, '음원': 1844, '폭도': 1845, '횡단': 1846, '명당': 1847, '호기': 1848, '횡단보도': 1849, '원동기장치자전거': 1850, '이법': 1851, '특정범죄가중처벌법': 1852, '단호': 1853, '소방관': 1854, '진압': 1855, '연소': 1856, '예상외': 1857, '예속': 1858, '향범': 1859, '평면': 1860, '커녕': 1861, '인신매매': 1862, '원정': 1863, '이주': 1864, '겸업': 1865, '팽배': 1866, '띠므': 1867, '지능': 1868, '애플리케이션': 1869, '번창': 1870, '개인주의': 1871, '전농동': 1872, '잠깐': 1873, '모유수유': 1874, '바바리맨': 1875, '흥분': 1876, '성욕': 1877, '부끄러움': 1878, '즉결심판': 1879, '일광욕': 1880, '상근이': 1881, '율촌면': 1882, '여천군': 1883, '송도': 1884, '장도': 1885, '골약면': 1886, '광양군': 1887, '일반도': 1888, '조선총독부': 1889, '국립지리원': 1890, '공업단지': 1891, '여수시': 1892, '순천시': 1893, '실연': 1894, '제작자': 1895, '송신': 1896, '부품': 1897, '복호화': 1898, '펌웨어': 1899, '수신기': 1900, '해독': 1901, '소매업': 1902, '신호처리': 1903, '울타리': 1904, '잡화': 1905, '탁금': 1906, '양적': 1907, '한아름': 1908, '국민투표제': 1909, '물음': 1910, '국민투표부의권': 1911, '가미': 1912, '진지': 1913, '완곡': 1914, '공고함': 1915, '표명일': 1916, '보나': 1917, '박주선': 1918, '창조한국당': 1919, '테그': 1920, '메타': 1921, '유체': 1922, '범람': 1923, '정보라': 1924, '용선': 1925, '디렉토리': 1926, '장선': 1927, '서정우': 1928, '심제': 1929, '연구소': 1930, '고려대학교': 1931, '장영수': 1932, '권외': 1933, '이명': 1934, '차후': 1935, '시계': 1936, '정연주': 1937, '김문현': 1938, '연성': 1939, '경성': 1940, '국가인권위원회법': 1941, '실업률': 1942, '구조조정': 1943, '실업난': 1944, '당제': 1945, '환매권': 1946, '동력': 1947, '초석': 1948, '탕정': 1949, '탕정면': 1950, '아산시': 1951, '사문': 1952, '형량해': 1953, '터어키': 1954, '포르투갈': 1955, '스페인': 1956, '백지': 1957, '이어진': 1958, '답습': 1959, '절제': 1960, '분별': 1961, '불순': 1962, '수중': 1963, '최고재판소': 1964, '통설': 1965, '범법': 1966, '전권': 1967, '경품': 1968, '응모': 1969, '당첨': 1970, '송출하': 1971, '자막': 1972, '정답': 1973, '국번': 1974, '퀴즈': 1975, '마케팅': 1976, '와이티엔': 1977, '득실': 1978, '사회면': 1979, '낙성': 1980, '무인': 1981, '변조': 1982, '하단': 1983, '금전신탁': 1984, '주방': 1985, '대학교수': 1986, '무급': 1987, '투데이': 1988, '뽑기': 1989, '헤드라인': 1990, '야동': 1991, '유포자': 1992, '포르노그래피': 1993, '하드코어': 1994, '연방': 1995, '부차': 1996, '휴회': 1997, '녹지': 1998, '도로로': 1999, '고수부지': 2000, '동문': 2001, '북문': 2002, '이분법': 2003, '친정': 2004, '속구': 2005, '증손': 2006, '증조': 2007, '통솔': 2008, '초반': 2009, '필자': 2010, '봉사기': 2011, '수험': 2012, '반행': 2013, '응답': 2014, '무릎관절': 2015, '오른쪽': 2016, '사라': 2017, '선재': 2018, '카페': 2019, '지혜': 2020, '지수': 2021, '캐나다': 2022, '구매력': 2023, '소상': 2024, '평균값': 2025, '추이': 2026, '경제성장률': 2027, '비혼': 2028, '열자': 2029, '상서': 2030, '명령권': 2031, '용의자': 2032, '유괴': 2033, '부하': 2034, '폐쇄회': 2035, '불철': 2036, '당직': 2037, '단합': 2038, '부족함': 2039, '종기': 2040, '진과': 2041, '민자당': 2042, '회식': 2043, '복집': 2044, '초원': 2045, '남발': 2046, '고스': 2047, '산등': 2048, '분장': 2049, '단체행동': 2050, '스피커': 2051, '근거리': 2052, '뇌진탕': 2053, '고막': 2054, '뚜렷': 2055, '국민대회': 2056, '영등포': 2057, '생명윤리학': 2058, '대한의사협회': 2059, '초음파': 2060, '자기검열': 2061, '굴복': 2062, '청원법': 2063, '자유게시판': 2064, '허구': 2065, '진통': 2066, '침해범': 2067, '건대': 2068, '학연': 2069, '입문': 2070, '정계': 2071, '기대권': 2072, '현안': 2073, '사대': 2074, '문교부': 2075, '체현': 2076, '둔화': 2077, '시장조사': 2078, '가이드라인': 2079, '비식': 2080, '개관': 2081, '법칙': 2082, '부본': 2083, '지국': 2084, '발신기': 2085, '이도': 2086, '사병': 2087, '론일': 2088, '군상': 2089, '공상처리': 2090, '제대': 2091, '의병': 2092, '상병': 2093, '기합': 2094, '군부': 2095, '병장': 2096, '가탁': 2097, '짐짓': 2098, '만능': 2099, '중용': 2100, '항차': 2101, '폐쇄함': 2102, '병폐': 2103, '고질': 2104, '유동성': 2105, '국무위원': 2106, '배신': 2107, '계시': 2108, '모하': 2109, '복합기': 2110, '노트북': 2111, '식당': 2112, '편의점': 2113, '도화지': 2114, '컬러프린터': 2115, '품격': 2116, '선적': 2117, '최우': 2118, '대국': 2119, '제헌국회의원': 2120, '초대': 2121, '동이': 2122, '부단': 2123, '장발': 2124, '퇴원': 2125, '퇴실': 2126, '융통성': 2127, '신병이': 2128, '부시장': 2129, '중구청': 2130, '금제': 2131, '수영장': 2132, '부류': 2133, '서정하': 2134, '치유계': 2135, '계정은': 2136, '지연손해금': 2137, '경기': 2138, '올림픽': 2139, '성취': 2140, '보증채무': 2141, '연대보증': 2142, '궁핍': 2143, '현금카드': 2144, '통장': 2145, '여원': 2146, '잡익': 2147, '현금화': 2148, '집행권': 2149, '강제징수': 2150, '절대로': 2151, '낙찰': 2152, '근저당권': 2153, '지은': 2154, '위배함': 2155, '농림수산식품부': 2156, '사료': 2157, '속칭': 2158, '전염병': 2159, '가축': 2160, '농림부': 2161, '농림수산부': 2162, '순조': 2163, '광화문': 2164, '화제': 2165, '소행': 2166, '불법체류': 2167, '네팔': 2168, '제상': 2169, '미국시민': 2170, '양원제': 2171, '차이나': 2172, '도농': 2173, '연쇄': 2174, '상설': 2175, '출발점': 2176, '부성동': 2177, '백석동': 2178, '입장면': 2179, '직산읍': 2180, '성거읍': 2181, '성환읍': 2182, '신안동': 2183, '청룡동': 2184, '신방동': 2185, '일봉동': 2186, '봉명동': 2187, '문성동': 2188, '동면': 2189, '병천면': 2190, '수신면': 2191, '성남면': 2192, '북면': 2193, '광덕면': 2194, '풍세면': 2195, '목천읍': 2196, '상현': 2197, '보정동': 2198, '상하동': 2199, '구성동': 2200, '서농동': 2201, '기흥동': 2202, '상갈동': 2203, '구갈동': 2204, '영덕동': 2205, '신갈동': 2206, '동백동': 2207, '마북동': 2208, '유림동': 2209, '역삼동': 2210, '양지면': 2211, '백암면': 2212, '원삼면': 2213, '이동면': 2214, '남사면': 2215, '모현면': 2216, '포곡읍': 2217, '서둔동': 2218, '고등동': 2219, '매산동': 2220, '매교동': 2221, '인계동': 2222, '지동': 2223, '행궁동': 2224, '고잔동': 2225, '남촌도림동': 2226, '청담동': 2227, '압구정동': 2228, '신사동': 2229, '발산': 2230, '우장산동': 2231, '본동': 2232, '화곡': 2233, '등촌': 2234, '조인스닷컴': 2235, '장물': 2236, '세목': 2237, '방재': 2238, '시세로': 2239, '선박': 2240, '간첩죄': 2241, '전투복': 2242, '복은': 2243, '대형화': 2244, '종도': 2245, '작고': 2246, '만전': 2247, '존속케': 2248, '사일': 2249, '치한': 2250, '무정': 2251, '매상': 2252, '한약사': 2253, '완치': 2254, '중증': 2255, '생식': 2256, '청각': 2257, '사지절단': 2258, '식물인간': 2259, '교통법규': 2260, '노약': 2261, '불치': 2262, '금전지': 2263, '부분파업': 2264, '중재절차': 2265, '그날': 2266, '분규': 2267, '결렬': 2268, '시내버스': 2269, '제이': 2270, '연원': 2271, '방어전': 2272, '군사기지': 2273, '군사연습': 2274, '흥행': 2275, '정신작용': 2276, '래서': 2277, '부조화': 2278, '흑석동': 2279, '퇴진': 2280, '가게': 2281, '평균수명': 2282, '대법관': 2283, '분량': 2284, '난관': 2285, '비호감': 2286, '선입견': 2287, '발음': 2288, '녹화물': 2289, '자원봉사자': 2290, '수족': 2291, '손발': 2292, '학보': 2293, '기관지': 2294, '목절': 2295, '국책': 2296, '휘둘': 2297, '다각': 2298, '복구': 2299, '지라': 2300, '블록': 2301, '벽돌': 2302, '재생': 2303, '정재': 2304, '리스': 2305, '전민련': 2306, '공보부': 2307, '기전': 2308, '전날': 2309, '고후': 2310, '만취': 2311, '윤창': 2312, '무감각': 2313, '면역성': 2314, '중벌': 2315, '한인': 2316, '알코올': 2317, '혈중': 2318, '노면전차': 2319, '군산': 2320, '전주지방법원': 2321, '단독주택': 2322, '기획재정부': 2323, '미세': 2324, '조이스틱': 2325, '노즐': 2326, '겨를': 2327, '주시': 2328, '라인': 2329, '폴리스': 2330, '용품': 2331, '화염병': 2332, '죽봉': 2333, '파이프': 2334, '무단점거': 2335, '진압부대': 2336, '연막': 2337, '인화': 2338, '연발': 2339, '안전교육': 2340, '준비서면': 2341, '보리': 2342, '망외': 2343, '사무직원': 2344, '온상': 2345, '부액': 2346, '이권': 2347, '총칭': 2348, '브로드밴드': 2349, '진보당': 2350, '습도': 2351, '행정관': 2352, '해류': 2353, '해저': 2354, '북서쪽': 2355, '좌측': 2356, '남동쪽': 2357, '육상': 2358, '거슬러': 2359, '송해': 2360, '홍성': 2361, '방조제': 2362, '서산': 2363, '보령시': 2364, '동쪽': 2365, '천수': 2366, '태안읍': 2367, '서산읍': 2368, '명칭변경': 2369, '오산시': 2370, '보령군': 2371, '결성군': 2372, '홍주군': 2373, '이해해': 2374, '발생케': 2375, '선교': 2376, '시간제': 2377, '준면': 2378, '도박장': 2379, '내일': 2380, '도문': 2381, '메시지': 2382, '방책': 2383, '일변도': 2384, '폐습': 2385, '망정': 2386, '퇴치': 2387, '불명예': 2388, '과벌': 2389, '위태': 2390, '샤워실': 2391, '법률요건': 2392, '야만': 2393, '법률용어': 2394, '미로': 2395, '낳을': 2396, '의뢰인': 2397, '인멸하': 2398, '잠시': 2399, '멸함': 2400, '장주': 2401, '모친상': 2402, '자계': 2403, '인멸': 2404, '편지': 2405, '각색': 2406, '각양': 2407, '뒷바라지': 2408, '수일': 2409, '쟁취': 2410, '적응': 2411, '초선': 2412, '수표': 2413, '십일조': 2414, '장흥': 2415, '송금': 2416, '체육회': 2417, '고성군': 2418, '고성': 2419, '극소': 2420, '세이': 2421, '재산가': 2422, '미분': 2423, '임대주택': 2424, '세제': 2425, '산제': 2426, '편취': 2427, '쾌락': 2428, '사사': 2429, '순결': 2430, '역행': 2431, '유아': 2432, '이데올로기': 2433, '용건': 2434, '개업': 2435, '슈퍼마켓': 2436, '마트': 2437, '번길': 2438, '칸막이': 2439, '공포일': 2440, '전자출판': 2441, '방임': 2442, '종수': 2443, '생태계': 2444, '저자': 2445, '작가': 2446, '전자책': 2447, '갈림길': 2448, '안착': 2449, '득점': 2450, '성취도': 2451, '수강': 2452, '학점': 2453, '내이': 2454, '적당': 2455, '아인': 2456, '아기': 2457, '탈함': 2458, '제인': 2459, '연재': 2460, '전해': 2461, '신용협동조합': 2462, '수산업': 2463, '도일': 2464, '중차': 2465, '고의범': 2466, '실책': 2467, '농업인': 2468, '사법관계': 2469, '사유화': 2470, '민사법': 2471, '대부': 2472, '권리변동': 2473, '행정재산': 2474, '이천군': 2475, '폐쇄됨': 2476, '부적정': 2477, '입상': 2478, '승복': 2479, '출처': 2480, '법처': 2481, '분자': 2482, '피처': 2483, '종신': 2484, '정신의학': 2485, '가료': 2486, '문리해석': 2487, '상감': 2488, '장이므': 2489, '국제연합': 2490, '중소기업청': 2491, '되풀이': 2492, '연차': 2493, '연초': 2494, '판이': 2495, '금융시장': 2496, '궤도': 2497, '빈익빈': 2498, '부익부': 2499, '체택하': 2500, '저축': 2501, '산물': 2502, '누진': 2503, '수평': 2504, '이하일': 2505, '감각': 2506, '력도': 2507, '외과': 2508, '투약': 2509, '검안': 2510, '화장': 2511, '반영구': 2512, '살갗': 2513, '소자': 2514, '전초': 2515, '충주': 2516, '전자발찌': 2517, '특수법인': 2518, '모이': 2519, '법부': 2520, '비무장': 2521, '함평': 2522, '문경': 2523, '위난': 2524, '함평군': 2525, '문경군': 2526, '경북': 2527, '비책': 2528, '단가': 2529, '광고물량': 2530, '송사': 2531, '오리': 2532, '쿼터': 2533, '일정량': 2534, '곳도': 2535, '제각기': 2536, '무관심': 2537, '개재': 2538, '증여세': 2539, '실권': 2540, '유도신문': 2541, '공주교도소': 2542, '거짓말': 2543, '행동강령': 2544, '국민권익위': 2545, '수재': 2546, '기고': 2547, '수속': 2548, '수하물': 2549, '탑승객': 2550, '저속': 2551, '세미': 2552, '대물': 2553, '목전': 2554, '거처': 2555, '소지품': 2556, '운송업': 2557, '수화물': 2558, '콜밴': 2559, '포태': 2560, '부사': 2561, '년차': 2562, '호적법': 2563, '골격': 2564, '비상계엄': 2565, '축재': 2566, '경직': 2567, '청약': 2568, '동해': 2569, '청년당': 2570, '녹색당': 2571, '겸비': 2572, '영화로': 2573, '영화인': 2574, '섹스': 2575, '시네마': 2576, '월드': 2577, '지정학적': 2578, '김형두': 2579, '유통업체': 2580, '종형제': 2581, '과당': 2582, '인술': 2583, '의술': 2584, '전고지': 2585, '채권자취소권': 2586, '데이': 2587, '컬투': 2588, '수진': 2589, '그름': 2590, '질도': 2591, '강박': 2592, '불간섭': 2593, '창업': 2594, '속옷': 2595, '금조': 2596, '회하': 2597, '강압': 2598, '후반': 2599, '소결': 2600, '침략범죄': 2601, '포로수용소': 2602, '태평양': 2603, '직권남용죄': 2604, '삼청': 2605, '염가': 2606, '금지명령': 2607, '사정부': 2608, '임시정부': 2609, '독립운동': 2610, '반납': 2611, '색채': 2612, '마스크': 2613, '발열': 2614, '총회': 2615, '원내대표': 2616, '봉급': 2617, '충청권': 2618, '정책금융': 2619, '중핵': 2620, '최측근': 2621, '법치행정': 2622, '공물': 2623, '분향소': 2624, '김용균': 2625, '최연희': 2626, '넓이': 2627, '상점가': 2628, '외화': 2629, '쟁점안건': 2630, '교착': 2631, '정동': 2632, '이지': 2633, '공약': 2634, '수회': 2635, '미집': 2636, '형질': 2637, '협박죄': 2638, '감금죄': 2639, '특허심판원': 2640, '실용신안': 2641, '상표': 2642, '선결문제': 2643, '유추해석': 2644, '방위세': 2645, '개수': 2646, '용지역': 2647, '하교': 2648, '등교': 2649, '비실': 2650, '시절': 2651, '차폐': 2652, '중추': 2653, '퇴행': 2654, '권좌': 2655, '주역': 2656, '정승화': 2657, '박정희': 2658, '유동': 2659, '두기': 2660, '병립': 2661, '생기지': 2662, '연구실': 2663, '안창호': 2664, '기석': 2665, '입찰': 2666, '마찰': 2667, '직장인': 2668, '발명가': 2669, '과음': 2670, '알박기': 2671, '대구광역시': 2672, '조립': 2673, '케이스': 2674, '불씨': 2675, '대사관': 2676, '비폭력': 2677, '식이': 2678, '적임': 2679, '전술': 2680, '국내법': 2681, '중화인민공화국': 2682, '군데': 2683, '인기': 2684, '공중보건': 2685, '목격자': 2686, '물증': 2687, '만기': 2688, '미납': 2689, '뇌손상': 2690, '산소': 2691, '투족': 2692, '거수': 2693, '호한': 2694, '폐쇄회로텔레비전': 2695, '실내': 2696, '담배인삼공사': 2697, '해방': 2698, '구해': 2699, '일부일처제': 2700, '예단': 2701, '조만': 2702, '잡음': 2703, '더링': 2704, '게리': 2705, '표밭': 2706, '대도시': 2707, '기념품': 2708, '제삼자': 2709, '안동시': 2710, '대감': 2711, '친권': 2712, '김남진': 2713, '욕설': 2714, '모멸': 2715, '분명': 2716, '근친상간': 2717, '드단': 2718, '정찰': 2719, '수제': 2720, '사장': 2721, '채염': 2722, '식목': 2723, '에프': 2724, '성창': 2725, '행시': 2726, '도시화': 2727, '최적': 2728, '징병검사': 2729, '징집': 2730, '억지로': 2731, '파행': 2732, '여러가지': 2733, '리라': 2734, '금고형': 2735, '논증': 2736, '사서': 2737, '이천': 2738, '낙기': 2739, '법무관': 2740, '적의': 2741, '응징': 2742, '우량': 2743, '공판정': 2744, '법공': 2745, '관제': 2746, '체외수정': 2747, '모태': 2748, '자연과학': 2749, '난치병': 2750, '희귀': 2751, '발생학': 2752, '철학자': 2753, '윤리학': 2754, '세포군': 2755, '재일교포': 2756, '견인차': 2757, '대외': 2758, '대북': 2759, '추방': 2760, '사흘': 2761, '간담': 2762, '하리': 2763, '시약': 2764, '복역': 2765, '여성동아': 2766, '단말': 2767, '삭감': 2768, '처방전': 2769, '표제': 2770, '우호': 2771, '육아': 2772, '자일': 2773, '유성': 2774, '막강': 2775, '소방': 2776, '황실': 2777, '제단': 2778, '조통': 2779, '재난대응': 2780, '개통': 2781, '매뉴얼': 2782, '행정각부': 2783, '골목길': 2784, '이상민': 2785, '재정상': 2786, '평결': 2787, '손괴죄': 2788, '목적범': 2789, '무소': 2790, '국장': 2791, '태극기': 2792, '오욕': 2793, '면소판결': 2794, '습관성': 2795, '유지시': 2796, '재누': 2797, '촉발': 2798, '서나': 2799, '브리핑': 2800, '침몰': 2801, '내무부': 2802, '행정질서벌': 2803, '향응': 2804, '중략': 2805, '무용': 2806, '어린이집': 2807, '영유아보육법': 2808, '습자': 2809, '이상은': 2810, '입학시험': 2811, '전하': 2812, '무상성': 2813, '편리': 2814, '불공': 2815, '광역단체장': 2816, '송악면': 2817, '고대': 2818, '서구': 2819, '각양각색': 2820, '잔치': 2821, '음식': 2822, '허식': 2823, '허례': 2824, '성만': 2825, '운동장': 2826, '합성': 2827, '문제해결': 2828, '외교관': 2829, '고령': 2830, '유니언': 2831, '방배': 2832, '등록금': 2833, '월성': 2834, '과학고': 2835, '상치': 2836, '건학': 2837, '원자력': 2838, '호의동승': 2839, '국제노동기구': 2840, '정치화': 2841, '의무사': 2842, '남혁': 2843, '대결': 2844, '홍준': 2845, '손실보상청구권': 2846, '가령': 2847, '금융조합': 2848, '미국육군': 2849, '정결': 2850, '구속사': 2851, '재산상속': 2852, '명찰': 2853, '백색': 2854, '세월': 2855, '구단': 2856, '훈지': 2857, '기오': 2858, '주위': 2859, '미군기지': 2860, '기지': 2861, '팽성읍': 2862, '숙박': 2863, '뿐더러': 2864, '불능': 2865, '항거': 2866, '반액': 2867, '고용주': 2868, '생사': 2869, '작성자': 2870, '도래': 2871, '내내': 2872, '사전통지': 2873, '불가항력': 2874, '태어남': 2875, '중범죄': 2876, '최신': 2877, '여성가족부': 2878, '문호': 2879, '돌발': 2880, '사람인': 2881, '재외동포': 2882, '초점': 2883, '손괴정': 2884, '총선': 2885, '유린': 2886, '연맹': 2887, '소외': 2888, '불만': 2889, '정과정': 2890, '지주회사': 2891, '진술서': 2892, '평택': 2893, '부두': 2894, '심규헌': 2895, '화창': 2896, '원수': 2897, '부양가족': 2898, '고등교육': 2899, '교단': 2900, '관료': 2901, '배수': 2902, '공통점': 2903, '진보': 2904, '면치': 2905, '농경': 2906, '건국': 2907, '분화': 2908, '대가족': 2909, '농림축산식품부': 2910, '폐쇄된': 2911, '퇴거': 2912, '항공사': 2913, '종지부': 2914, '소관사': 2915, '항만청': 2916, '영문': 2917, '무역항': 2918, '만들기': 2919, '동북아': 2920, '당사자적격': 2921, '사이버': 2922, '책임정치': 2923, '인신공격': 2924, '진리': 2925, '변사자': 2926, '검찰총장': 2927, '어차피': 2928, '그림': 2929, '묘사': 2930, '자위': 2931, '업로드': 2932, '교복': 2933, '업법': 2934, '방위산업': 2935, '정실': 2936, '편이': 2937, '뇌혈관': 2938, '병변': 2939, '부금': 2940, '베트남': 2941, '도보': 2942, '왼손': 2943, '자전거': 2944, '쿠테타': 2945, '최규하': 2946, '초안': 2947, '비극': 2948, '출범': 2949, '김대중': 2950, '소진': 2951, '국토교통부': 2952, '재정경제부': 2953, '간지': 2954, '정지명령': 2955, '진행중': 2956, '적재적소': 2957, '급공무원': 2958, '잔존': 2959, '무슨': 2960, '가시거리': 2961, '재야': 2962, '사진촬영': 2963, '입회': 2964, '부정행위': 2965, '납입': 2966, '고루': 2967, '교권': 2968, '훈계': 2969, '갈취': 2970, '두발': 2971, '교실': 2972, '도전': 2973, '연체': 2974, '이행지체': 2975, '고취': 2976, '고단': 2977, '대중문화': 2978, '위자': 2979, '논문': 2980, '무가': 2981, '국민회': 2982, '새정치': 2983, '신한국당': 2984, '임시국회': 2985, '변칙': 2986, '국가행정': 2987, '조상숭배': 2988, '종합소득세': 2989, '감행': 2990, '맞이': 2991, '자기방어': 2992, '권세': 2993, '포착': 2994, '신축': 2995, '체육부': 2996, '중도': 2997, '포탄': 2998, '실탄': 2999, '무너': 3000, '공의무': 3001, '구성요건해당성': 3002, '환경상': 3003, '철학': 3004, '사색': 3005, '문중': 3006, '기원': 3007, '좌절': 3008, '가업승계': 3009, '공익단체': 3010, '수유': 3011, '용납': 3012, '기수': 3013, '일어나고': 3014, '요구사항': 3015, '거가': 3016, '년내': 3017, '철탑': 3018, '개축': 3019, '대수': 3020, '부가가치세': 3021, '대조': 3022, '사결': 3023, '공론': 3024, '국권': 3025, '야외': 3026, '타격': 3027, '일찍': 3028, '수요일': 3029, '시혜': 3030, '은혜': 3031, '나기': 3032, '이환의': 3033, '군경': 3034, '미필': 3035, '천차만별': 3036, '인정이': 3037, '피씨': 3038, '스타크래프트': 3039, '강제해산': 3040, '인체': 3041, '양쪽': 3042, '저항': 3043, '바퀴': 3044, '탄력성': 3045, '세월호': 3046, '원화': 3047, '방증': 3048, '적대': 3049, '개헌': 3050, '치안': 3051, '휴교': 3052, '군법무관': 3053, '유신체제': 3054, '타율': 3055, '규칙제정권': 3056, '할하': 3057, '인계': 3058, '치욕': 3059, '조선시대': 3060, '외교부': 3061, '이직': 3062, '고시조': 3063, '숙소': 3064, '비닐하우스': 3065, '생일': 3066, '해지': 3067, '점증': 3068, '용수로': 3069, '고갈': 3070, '서든': 3071, '합의제': 3072, '진전': 3073, '난이도': 3074, '징병': 3075, '상근예비역': 3076, '외환죄': 3077, '동향': 3078, '추하': 3079, '통학': 3080, '리기': 3081, '열흘': 3082, '성교육': 3083, '세상': 3084, '인위': 3085, '조산': 3086, '거론': 3087, '난동': 3088, '수용기': 3089, '식사': 3090, '탄원서': 3091, '일주일': 3092, '손목': 3093, '안면': 3094, '사슬': 3095, '계구': 3096, '금속': 3097, '화점': 3098, '공헌': 3099, '징병제': 3100, '여호와': 3101, '진로': 3102, '체증': 3103, '교통량': 3104, '이라크': 3105, '반론보도청구권': 3106, '인제': 3107, '이종': 3108, '도청': 3109, '원내정당': 3110, '재청': 3111, '우편물': 3112, '한과': 3113, '건조물': 3114, '경미': 3115, '이튿날': 3116, '경장': 3117, '누적': 3118, '휴식': 3119, '휴식시간': 3120, '존경': 3121, '공정은': 3122, '배송': 3123, '위증': 3124, '거꾸로': 3125, '타파': 3126, '편친': 3127, '생애': 3128, '친지': 3129, '안내': 3130, '강력': 3131, '국민개병': 3132, '근거지': 3133, '남성은': 3134, '공공장소': 3135, '월별': 3136, '독립유공자': 3137, '따름': 3138, '양보': 3139, '어민': 3140, '어획': 3141, '배타적경제수역': 3142, '해리': 3143, '할부': 3144, '벽지': 3145, '일생': 3146, '이민': 3147, '세대주': 3148, '수나': 3149, '안정화': 3150, '응급': 3151, '충남': 3152, '지목': 3153, '구시대': 3154, '반향': 3155, '변혁': 3156, '사물': 3157, '말소': 3158, '김유': 3159, '제주': 3160, '장수도': 3161, '사수도': 3162, '호응': 3163, '반발': 3164, '행상': 3165, '공군': 3166, '터전': 3167, '간조': 3168, '갯골': 3169, '어장': 3170, '발전기': 3171, '자원부': 3172, '남해': 3173, '국제사회': 3174, '시기상조': 3175, '깊이': 3176, '김일수': 3177, '지명': 3178, '리지': 3179, '불확실': 3180, '결과반가치': 3181, '행위반가치': 3182, '공적인물': 3183, '추단': 3184, '탈선': 3185, '교통정온화': 3186, '엄하': 3187, '사망자': 3188, '보행': 3189, '보행자': 3190, '제한속도': 3191, '이웃집': 3192, '의욕': 3193, '팽창': 3194, '확충': 3195, '종속': 3196, '포주': 3197, '저개발국': 3198, '변종': 3199, '불법체류자': 3200, '흐름': 3201, '동대문구': 3202, '엉덩이': 3203, '외투': 3204, '자극': 3205, '유행': 3206, '유추적용': 3207, '폐치': 3208, '공탁': 3209, '광양시': 3210, '가공': 3211, '디지털': 3212, '위세': 3213, '화가': 3214, '보조참가': 3215, '매입': 3216, '예금자보호법': 3217, '본의': 3218, '속행': 3219, '오프라인': 3220, '동성애': 3221, '페이지': 3222, '재결정': 3223, '면키': 3224, '축소해석': 3225, '경제성장': 3226, '일도': 3227, '두번째': 3228, '고찰': 3229, '오스트리아': 3230, '허무': 3231, '기풍': 3232, '사리': 3233, '세탁': 3234, '색인': 3235, '운영체계': 3236, '누군가': 3237, '케이블': 3238, '무허가': 3239, '환원': 3240, '사회사업': 3241, '연월일': 3242, '최종성': 3243, '일분': 3244, '일용직': 3245, '일급': 3246, '교육기본법': 3247, '습관': 3248, '교육행정': 3249, '괴리': 3250, '흥미': 3251, '인간성': 3252, '농후': 3253, '처럼': 3254, '담장': 3255, '본관': 3256, '구애': 3257, '유지인': 3258, '출가': 3259, '출연재산': 3260, '장유유서': 3261, '보직': 3262, '서버': 3263, '문자': 3264, '아이핀': 3265, '동권': 3266, '무수': 3267, '상반': 3268, '물가상승률': 3269, '승률': 3270, '피살': 3271, '평시': 3272, '납치': 3273, '유추': 3274, '통화시': 3275, '관권': 3276, '요체': 3277, '계획성': 3278, '지부': 3279, '천공': 3280, '외상': 3281, '여의도': 3282, '호기심': 3283, '불가능': 3284, '산부인과': 3285, '수위': 3286, '준정부기관': 3287, '고용계약': 3288, '응소': 3289, '자궁': 3290, '수정란': 3291, '중앙정부': 3292, '기초자치단체장': 3293, '광역의회': 3294, '본위': 3295, '정인': 3296, '여파': 3297, '무제': 3298, '즈음': 3299, '악법': 3300, '불복종': 3301, '싸움': 3302, '집약': 3303, '수십': 3304, '서관': 3305, '석비': 3306, '완비': 3307, '도발': 3308, '범함': 3309, '형사특별법': 3310, '항해': 3311, '과일': 3312, '일신상': 3313, '임제': 3314, '각부': 3315, '무리': 3316, '기념': 3317, '교란': 3318, '무단': 3319, '남편': 3320, '연간': 3321, '국유화': 3322, '재료': 3323, '체감': 3324, '광우병': 3325, '유대': 3326, '회합': 3327, '종로구': 3328, '관계도': 3329, '행실': 3330, '단정': 3331, '다해': 3332, '정작': 3333, '면탈': 3334, '출시': 3335, '가짐': 3336, '역정': 3337, '예전': 3338, '단원제': 3339, '화서': 3340, '우만': 3341, '도곡': 3342, '역삼': 3343, '대전광역시': 3344, '행정구': 3345, '사유재산': 3346, '선의취득': 3347, '반출': 3348, '말살': 3349, '세수': 3350, '사칭': 3351, '고안': 3352, '세심': 3353, '모방': 3354, '차용': 3355, '의복': 3356, '밀리터리': 3357, '색상': 3358, '국도': 3359, '제약회사': 3360, '지난해': 3361, '평생': 3362, '특이': 3363, '난치': 3364, '증액': 3365, '증감': 3366, '태업': 3367, '월권': 3368, '사실조사': 3369, '석유': 3370, '카톨릭': 3371, '등일': 3372, '항구': 3373, '다시금': 3374, '숙박업소': 3375, '함축': 3376, '동인': 3377, '감봉': 3378, '신진대사': 3379, '조직체': 3380, '수량': 3381, '정상인': 3382, '평등심': 3383, '거동': 3384, '단어': 3385, '무관계': 3386, '상근직': 3387, '업소': 3388, '오염': 3389, '단행': 3390, '장부': 3391, '충청남도지사': 3392, '합자회사': 3393, '유이': 3394, '청결': 3395, '제판': 3396, '조판': 3397, '윤전기': 3398, '금일': 3399, '엄히': 3400, '농도': 3401, '고장': 3402, '겨냥': 3403, '예의': 3404, '홀로': 3405, '이르렀으므': 3406, '일신전속': 3407, '합일': 3408, '대세': 3409, '방화': 3410, '몸싸움': 3411, '후진': 3412, '화기': 3413, '액류': 3414, '진압차': 3415, '소송행위': 3416, '기동': 3417, '정치사': 3418, '원천': 3419, '지형': 3420, '생활권': 3421, '우측': 3422, '좌표': 3423, '도상': 3424, '고조': 3425, '황도': 3426, '마을': 3427, '천수만': 3428, '만이': 3429, '서쪽': 3430, '안면읍': 3431, '서산시': 3432, '개편': 3433, '모바일': 3434, '노동계': 3435, '독소': 3436, '노무사': 3437, '학자': 3438, '소기': 3439, '노후': 3440, '로기': 3441, '무릇': 3442, '주홍글씨': 3443, '대판': 3444, '가관': 3445, '윤영철': 3446, '하복': 3447, '안정은': 3448, '백만원': 3449, '노역': 3450, '위임장': 3451, '승패': 3452, '고민': 3453, '심법': 3454, '전고': 3455, '북부': 3456, '집무': 3457, '신지연': 3458, '진주': 3459, '진주교도소': 3460, '대회': 3461, '원상': 3462, '차기': 3463, '민의': 3464, '생활비': 3465, '각지': 3466, '유감': 3467, '이명박': 3468, '제국': 3469, '라거': 3470, '대원': 3471, '거목': 3472, '사유재산제': 3473, '응능': 3474, '모함': 3475, '유용성': 3476, '분포': 3477, '상속세': 3478, '불비': 3479, '미실': 3480, '이중과세': 3481, '현격히': 3482, '사랑': 3483, '미명': 3484, '애정': 3485, '인하': 3486, '가격차별': 3487, '방이': 3488, '후생': 3489, '도태': 3490, '신간': 3491, '가속': 3492, '순환': 3493, '독서': 3494, '세습': 3495, '학벌': 3496, '간판': 3497, '출발': 3498, '석차': 3499, '인성': 3500, '법률가': 3501, '호도': 3502, '명도': 3503, '일당': 3504, '용약': 3505, '상환': 3506, '사법인': 3507, '취득시효': 3508, '사권': 3509, '말소등기': 3510, '학교폐쇄': 3511, '입항': 3512, '회상': 3513, '재현': 3514, '주지원': 3515, '범정': 3516, '위험부담': 3517, '불가결': 3518, '심신': 3519, '가담': 3520, '죄인': 3521, '후범': 3522, '자본주의': 3523, '권적': 3524, '임산부': 3525, '각계': 3526, '적음': 3527, '최저생계비': 3528, '경제위기': 3529, '금융위기': 3530, '중산층': 3531, '금주': 3532, '염료': 3533, '주입': 3534, '흔적': 3535, '색소': 3536, '바늘': 3537, '사회인': 3538, '가시': 3539, '청주지방법원': 3540, '부탁': 3541, '아쉬움': 3542, '지탱': 3543, '원함': 3544, '안배': 3545, '요금': 3546, '수주': 3547, '행업': 3548, '교육활동': 3549, '고집': 3550, '호원': 3551, '부동산실명법': 3552, '행정벌': 3553, '율과': 3554, '대내': 3555, '강령': 3556, '부조': 3557, '세미나': 3558, '탑승': 3559, '메커니즘': 3560, '인쇄소': 3561, '발간': 3562, '부피': 3563, '화주': 3564, '송아윤': 3565, '송태민': 3566, '전래': 3567, '일가': 3568, '낭인': 3569, '학원제': 3570, '전문대': 3571, '영화계': 3572, '발기': 3573, '전자매체': 3574, '자식': 3575, '피의사실공표죄': 3576, '초상권': 3577, '차고': 3578, '연명': 3579, '지세': 3580, '전라북도의회': 3581, '열사': 3582, '모욕감': 3583, '전쟁범죄': 3584, '직권남용': 3585, '잔액': 3586, '법통': 3587, '민영휘': 3588, '물및': 3589, '이배': 3590, '데크': 3591, '신행정수도': 3592, '폭법': 3593, '가로': 3594, '국가모독죄': 3595, '경찰권': 3596, '소송지휘권': 3597, '교착상태': 3598, '정사유': 3599, '법제사': 3600, '새누리당': 3601, '특허법원': 3602, '잔여재산': 3603, '통합진보당': 3604, '주거지역': 3605, '소마': 3606, '반공법': 3607, '현행범': 3608, '회비': 3609, '독선': 3610, '특허권': 3611, '시류': 3612, '교역': 3613, '용적': 3614, '회안': 3615, '파탄': 3616, '간자': 3617, '유서': 3618, '종용': 3619, '구형': 3620, '음료': 3621, '화요일': 3622, '불복신청': 3623, '마도': 3624, '사무관': 3625, '순찰': 3626, '사단': 3627, '공작물': 3628, '대우건설': 3629, '진열': 3630, '현수막': 3631, '아목': 3632, '업적': 3633, '단점': 3634, '소홀': 3635, '유전자': 3636, '법학자': 3637, '주자': 3638, '정무': 3639, '강연': 3640, '적성검사': 3641, '네트': 3642, '핵무기': 3643, '동결': 3644, '회장': 3645, '굴욕': 3646, '박근혜': 3647, '탈당': 3648, '입당': 3649, '국정조사': 3650, '축제': 3651, '교량': 3652, '국기모독죄': 3653, '체면': 3654, '훼손행위': 3655, '증거신청': 3656, '형해': 3657, '걸음': 3658, '의무경찰': 3659, '후일': 3660, '복표': 3661, '형사처벌법': 3662, '정미': 3663, '센터': 3664, '비정규직': 3665, '송부': 3666, '하객': 3667, '호텔': 3668, '음식점': 3669, '동반': 3670, '가치판단': 3671, '학대': 3672, '탄압': 3673, '지원이': 3674, '동승': 3675, '도리어': 3676, '강행규정': 3677, '고백': 3678, '전복': 3679, '사설철도': 3680, '승차': 3681, '대검찰청': 3682, '인멸할': 3683, '충분': 3684, '구속적부심': 3685, '평택시': 3686, '군영': 3687, '광범위': 3688, '연금제': 3689, '수년': 3690, '천재지변': 3691, '시민권': 3692, '습득': 3693, '창원': 3694, '발상': 3695, '대적': 3696, '작동': 3697, '선거정보': 3698, '자기부죄': 3699, '괴한': 3700, '예산회계법': 3701, '자정': 3702, '용서': 3703, '압도': 3704, '조도': 3705, '사부': 3706, '강승규': 3707, '파의': 3708, '현격': 3709, '영속성': 3710, '지도자': 3711, '소수점': 3712, '평판': 3713, '사자명예훼손죄': 3714, '시인': 3715, '집안': 3716, '환승': 3717, '고속': 3718, '혼탁': 3719, '사무실': 3720, '출정': 3721, '발병': 3722, '치매': 3723, '수험생': 3724, '주저': 3725, '봉건': 3726, '전대통령': 3727, '국회사무처': 3728, '기상청': 3729, '창립': 3730, '창의성': 3731, '독창': 3732, '품질': 3733, '교원단체': 3734, '봉사활동': 3735, '교내': 3736, '과외': 3737, '문화생활': 3738, '날치기': 3739, '봉행': 3740, '무기명': 3741, '생리': 3742, '감정평가': 3743, '용산구': 3744, '경마장': 3745, '실력': 3746, '노원구': 3747, '속보': 3748, '남녀평등': 3749, '핵가족': 3750, '산업화': 3751, '감정인': 3752, '특별수익자': 3753, '대습상속': 3754, '기여분': 3755, '수사권': 3756, '비적': 3757, '양허': 3758, '폭행죄': 3759, '죄명': 3760, '스위스': 3761, '음으로': 3762, '명세서': 3763, '수여': 3764, '훈공': 3765, '식민': 3766, '점점': 3767, '갈수록': 3768, '아야': 3769, '라디오': 3770, '부재자': 3771, '전역': 3772, '검진': 3773, '행함': 3774, '역학': 3775, '아동복지법': 3776, '덕성': 3777, '불량': 3778, '권장': 3779, '용액': 3780, '대학자': 3781, '총화': 3782, '사변': 3783, '출동': 3784, '음모': 3785, '부장': 3786, '날조': 3787, '유언비어': 3788, '결집': 3789, '브랜드': 3790, '애착': 3791, '유교': 3792, '우리당': 3793, '폭언': 3794, '성희롱': 3795, '지하수': 3796, '제명': 3797, '중개': 3798, '총무': 3799, '구성은': 3800, '다양': 3801, '이익단체': 3802, '관용': 3803, '병역기피': 3804, '저장': 3805, '공권': 3806, '국가정보원장': 3807, '중학생': 3808, '모체': 3809, '특권': 3810, '연대채무': 3811, '동년': 3812, '용기': 3813, '양팔': 3814, '이감': 3815, '구들': 3816, '강도죄': 3817, '설계': 3818, '급증': 3819, '국방의무': 3820, '관습법': 3821, '병무청장': 3822, '타개': 3823, '파병': 3824, '지면': 3825, '제책': 3826, '넷째': 3827, '영하': 3828, '득표수': 3829, '구가': 3830, '두루': 3831, '등본': 3832, '도착': 3833, '경유': 3834, '소등': 3835, '지인': 3836, '경제정책': 3837, '임자': 3838, '테이프': 3839, '징구': 3840, '양부': 3841, '섣불리': 3842, '제화': 3843, '우발': 3844, '영해': 3845, '조업': 3846, '발효': 3847, '침탈': 3848, '친족상도례': 3849, '동부': 3850, '형제': 3851, '재단법인': 3852, '필지': 3853, '화성시': 3854, '낭비': 3855, '조금': 3856, '제주도': 3857, '측은': 3858, '진정성립': 3859, '하의': 3860, '사기죄': 3861, '절반': 3862, '지령': 3863, '노동법': 3864, '불명료': 3865, '외치': 3866, '남쪽': 3867, '소만': 3868, '갯벌': 3869, '유엔': 3870, '박성': 3871, '비인간': 3872, '불가피': 3873, '중요시': 3874, '반려견': 3875, '재생산': 3876, '비단': 3877, '공모': 3878, '당구': 3879, '다운로드': 3880, '정차': 3881, '기법': 3882, '주인': 3883, '목조': 3884, '유례': 3885, '불의': 3886, '연유': 3887, '하든': 3888, '빈곤': 3889, '비약': 3890, '집결': 3891, '상품화': 3892, '신의': 3893, '유방': 3894, '범칙': 3895, '사국': 3896, '가동': 3897, '완공': 3898, '완료': 3899, '암호': 3900, '정규': 3901, '파산관재인': 3902, '역사상': 3903, '구상': 3904, '상정이': 3905, '노동당': 3906, '공지': 3907, '원내': 3908, '공자': 3909, '여과': 3910, '기술표준': 3911, '최고법원': 3912, '유상': 3913, '공공필요': 3914, '수용재결': 3915, '견지': 3916, '전향': 3917, '혁명': 3918, '송두리째': 3919, '도덕률': 3920, '계류': 3921, '범과': 3922, '유료': 3923, '예치': 3924, '사인증여': 3925, '고수': 3926, '상용': 3927, '목소리': 3928, '정파': 3929, '교육자': 3930, '문학': 3931, '하등': 3932, '도서관': 3933, '외손': 3934, '목록': 3935, '하급': 3936, '사본': 3937, '팩스': 3938, '다리': 3939, '이의제기': 3940, '숙련': 3941, '자영': 3942, '세밀': 3943, '최저임금제': 3944, '사령부': 3945, '난항': 3946, '전화번호': 3947, '발신': 3948, '실수': 3949, '마이크': 3950, '산모': 3951, '묵시': 3952, '권능': 3953, '특칙': 3954, '모자': 3955, '위도': 3956, '한해': 3957, '분권': 3958, '이수자': 3959, '교직과정': 3960, '재학생': 3961, '교원양성': 3962, '데이터': 3963, '초동수사': 3964, '사목': 3965, '배한': 3966, '입건': 3967, '선착순': 3968, '하사': 3969, '교관': 3970, '의제': 3971, '변명': 3972, '지폐': 3973, '실종': 3974, '위함': 3975, '과실범죄': 3976, '근접': 3977, '배상금': 3978, '도산': 3979, '보이스피싱': 3980, '수하': 3981, '친권자': 3982, '채무불이행': 3983, '절차법': 3984, '대량': 3985, '월령': 3986, '검역': 3987, '소해면상뇌증': 3988, '피임': 3989, '통틀어': 3990, '행정관청': 3991, '추론': 3992, '분구': 3993, '쌍용': 3994, '부동': 3995, '간석': 3996, '삼성': 3997, '남동구': 3998, '강서구': 3999, '충청북도': 4000, '수원시': 4001, '유물': 4002, '중구': 4003, '시로': 4004, '누가': 4005, '전투': 4006, '육안': 4007, '시책': 4008, '상인': 4009, '전문화': 4010, '준별': 4011, '식품의약품안전청': 4012, '변형': 4013, '안고': 4014, '교통사고처리특례법': 4015, '붙이': 4016, '소송물': 4017, '살피': 4018, '붕괴': 4019, '살상': 4020, '조국': 4021, '증원': 4022, '남부': 4023, '동작구': 4024, '특약': 4025, '병렬': 4026, '쇠퇴': 4027, '통치권': 4028, '무방': 4029, '명기': 4030, '동정': 4031, '분기': 4032, '린다': 4033, '관성': 4034, '감사원': 4035, '환경부': 4036, '제호': 4037, '유임': 4038, '장단': 4039, '결선': 4040, '고전': 4041, '병행': 4042, '초범': 4043, '가량': 4044, '청과': 4045, '주택가': 4046, '밧줄': 4047, '전도': 4048, '차벽': 4049, '물살': 4050, '요령': 4051, '사시': 4052, '각도': 4053, '최루탄': 4054, '추인': 4055, '단장': 4056, '가슴': 4057, '머리': 4058, '부활': 4059, '해안선': 4060, '순차': 4061, '죽도리': 4062, '안면도': 4063, '북쪽': 4064, '일제시대': 4065, '발표회': 4066, '정견': 4067, '웹사이트': 4068, '행태': 4069, '후불': 4070, '유흥주점': 4071, '내기': 4072, '마당': 4073, '비견': 4074, '인자': 4075, '주선회': 4076, '단언': 4077, '제어': 4078, '명예형': 4079, '김효종': 4080, '갑자기': 4081, '분열': 4082, '상급자': 4083, '군무원': 4084, '자아': 4085, '생활수준': 4086, '서식': 4087, '차질': 4088, '목사': 4089, '장흥군': 4090, '사무국': 4091, '한겨레': 4092, '일원화': 4093, '선진': 4094, '결함': 4095, '제나': 4096, '물가': 4097, '공시가격': 4098, '부채': 4099, '다액': 4100, '정교': 4101, '성생활': 4102, '간접흡연': 4103, '방과': 4104, '상호작용': 4105, '플랫폼': 4106, '심정': 4107, '가늠': 4108, '성공': 4109, '나은': 4110, '양질': 4111, '아주': 4112, '호사': 4113, '본능': 4114, '감별': 4115, '접근권': 4116, '지적도': 4117, '각심': 4118, '이보': 4119, '서적': 4120, '건어물': 4121, '품명': 4122, '체액': 4123, '혈액': 4124, '능이': 4125, '면역': 4126, '베이트': 4127, '애드': 4128, '트주': 4129, '콤비': 4130, '접근성': 4131, '저술': 4132, '직위': 4133, '유로': 4134, '전임': 4135, '순서': 4136, '잠식': 4137, '국유': 4138, '소유권보존등기': 4139, '자비': 4140, '유지비': 4141, '기계': 4142, '수만': 4143, '암시': 4144, '폐단': 4145, '장애자': 4146, '죄책': 4147, '흉악': 4148, '처단형': 4149, '강도상해죄': 4150, '휴가': 4151, '안심': 4152, '피하': 4153, '수직': 4154, '소득세': 4155, '완전': 4156, '상처': 4157, '국가인권위': 4158, '이야기': 4159, '우이': 4160, '인중': 4161, '사살': 4162, '부각': 4163, '이견': 4164, '상한선': 4165, '포탈': 4166, '등기부': 4167, '숨기': 4168, '정액': 4169, '물권': 4170, '탁자': 4171, '마목': 4172, '재건': 4173, '군행': 4174, '얻지': 4175, '군산시': 4176, '회규': 4177, '친일행위': 4178, '납품': 4179, '의왕시': 4180, '공명': 4181, '최진': 4182, '사생활침해': 4183, '인승': 4184, '나성린': 4185, '지자체': 4186, '심결': 4187, '리테일': 4188, '케이': 4189, '에이': 4190, '여의': 4191, '목요일': 4192, '농가': 4193, '정소': 4194, '배임': 4195, '구술': 4196, '기장군': 4197, '해운대구': 4198, '안동': 4199, '과밀': 4200, '재활용': 4201, '임대료': 4202, '친환경': 4203, '육군': 4204, '편파': 4205, '충주구치소': 4206, '행정법': 4207, '이식': 4208, '인공수정': 4209, '검정': 4210, '남한': 4211, '현지': 4212, '이승우': 4213, '함량': 4214, '문체부': 4215, '투자자': 4216, '자유무역': 4217, '별거': 4218, '압사': 4219, '행위능력': 4220, '직책': 4221, '상징물': 4222, '거래소': 4223, '사법부': 4224, '비서실': 4225, '협소': 4226, '비위': 4227, '양정': 4228, '소로': 4229, '유아교육법': 4230, '사원': 4231, '제목': 4232, '건립': 4233, '가가': 4234, '경상북도지사': 4235, '소질': 4236, '재능': 4237, '선점': 4238, '자유시장': 4239, '공산주의': 4240, '군정청': 4241, '조선': 4242, '생물학': 4243, '자격상실': 4244, '낙인': 4245, '사후심': 4246, '특례제도': 4247, '전공': 4248, '녹취행위': 4249, '지대': 4250, '보호자': 4251, '투쟁': 4252, '효기': 4253, '장벽': 4254, '하락': 4255, '장내': 4256, '회의장': 4257, '대리투표': 4258, '위상': 4259, '왕래': 4260, '인천공항': 4261, '유림': 4262, '만평': 4263, '당사자능력': 4264, '즉각': 4265, '시금': 4266, '불과': 4267, '대중교통': 4268, '재발': 4269, '외환': 4270, '교통부': 4271, '방위사업청': 4272, '통계청': 4273, '행정주체': 4274, '학내': 4275, '간선': 4276, '학칙': 4277, '교장': 4278, '공연장': 4279, '한국영': 4280, '재개': 4281, '정사': 4282, '동월': 4283, '시간외근무': 4284, '총리': 4285, '지칭': 4286, '천주교': 4287, '입증책임': 4288, '정범': 4289, '동시범': 4290, '철회': 4291, '일지': 4292, '전심': 4293, '벌이': 4294, '한층': 4295, '포상': 4296, '단절': 4297, '관공서': 4298, '신체검사': 4299, '미성년자보호법': 4300, '회당': 4301, '추모': 4302, '청와대': 4303, '국론': 4304, '남침': 4305, '집합': 4306, '법전': 4307, '보석': 4308, '환제': 4309, '유력': 4310, '지방행정': 4311, '정보통신부': 4312, '염두': 4313, '명부': 4314, '재외': 4315, '권법': 4316, '거소': 4317, '가나다순': 4318, '체불': 4319, '폐업': 4320, '수자원': 4321, '보충역': 4322, '휴대폰': 4323, '교육청': 4324, '고교평준화': 4325, '이틀': 4326, '유전학': 4327, '법원리': 4328, '상사': 4329, '용변': 4330, '움직임': 4331, '가죽': 4332, '거부권': 4333, '물류': 4334, '제조업체': 4335, '미디어': 4336, '국가정보원': 4337, '지지도': 4338, '강도강간죄': 4339, '반증': 4340, '동태': 4341, '일선': 4342, '지나': 4343, '교도': 4344, '진위': 4345, '악의': 4346, '수업': 4347, '상해치사죄': 4348, '패륜': 4349, '벽보': 4350, '정강': 4351, '면전': 4352, '회유': 4353, '일과': 4354, '가정은': 4355, '제일': 4356, '재외공관': 4357, '한일': 4358, '한일어업협정': 4359, '동거': 4360, '자매': 4361, '감금': 4362, '버금': 4363, '독재': 4364, '동포': 4365, '대치': 4366, '남북한': 4367, '승리': 4368, '일본인': 4369, '불법체포': 4370, '변란': 4371, '정형': 4372, '일각': 4373, '점용': 4374, '풍력': 4375, '유권': 4376, '방조': 4377, '도중': 4378, '존폐': 4379, '침익': 4380, '회화': 4381, '재사': 4382, '번지': 4383, '공통': 4384, '스마트폰': 4385, '보통사람': 4386, '퇴임': 4387, '지형도': 4388, '자구': 4389, '공연': 4390, '무료': 4391, '청산': 4392, '고양': 4393, '쉽사리': 4394, '궐위': 4395, '지사': 4396, '행정심판법': 4397, '정처': 4398, '성남시장': 4399, '외인': 4400, '표리': 4401, '동작세무서': 4402, '정점': 4403, '모색': 4404, '방도': 4405, '그간': 4406, '재결': 4407, '적적': 4408, '윤리관': 4409, '무한': 4410, '증자': 4411, '연세대학교': 4412, '인장': 4413, '조리': 4414, '취향': 4415, '노골': 4416, '양립': 4417, '저택': 4418, '외조': 4419, '차별금지법': 4420, '이선': 4421, '약관': 4422, '반박': 4423, '포털사이트': 4424, '이해당사자': 4425, '경제지표': 4426, '계통': 4427, '중점': 4428, '신분증명서': 4429, '김영삼': 4430, '입법기관': 4431, '차선': 4432, '국민일보': 4433, '부존재': 4434, '실추': 4435, '사산': 4436, '침묵': 4437, '밀접': 4438, '개전': 4439, '우선권': 4440, '교직': 4441, '복원': 4442, '행적': 4443, '바목': 4444, '무형': 4445, '구보': 4446, '요컨대': 4447, '전업': 4448, '원적': 4449, '발기인': 4450, '초월': 4451, '봉사': 4452, '의무불이행': 4453, '입장료': 4454, '보전처분': 4455, '까닭': 4456, '거기': 4457, '아들': 4458, '자력': 4459, '보증': 4460, '사인인': 4461, '관보': 4462, '피한정후견인': 4463, '항고심': 4464, '대리권': 4465, '고사항': 4466, '간격': 4467, '통용': 4468, '구한': 4469, '어촌': 4470, '원성': 4471, '구월': 4472, '상당구': 4473, '동구': 4474, '서초구': 4475, '불합': 4476, '업계': 4477, '각국': 4478, '신호': 4479, '말미': 4480, '한쪽': 4481, '교육부': 4482, '면직': 4483, '재의': 4484, '빈발': 4485, '타결': 4486, '군사훈련': 4487, '제곱미터': 4488, '우열': 4489, '자유로': 4490, '구두': 4491, '교육대학': 4492, '현직': 4493, '재력': 4494, '공보처': 4495, '원심': 4496, '비치': 4497, '효가': 4498, '공공시설': 4499, '일직선': 4500, '입구': 4501, '헌금': 4502, '거액': 4503, '회제': 4504, '강일': 4505, '정보원': 4506, '실증': 4507, '지지율': 4508, '여론조사': 4509, '무기한': 4510, '통칭': 4511, '일일': 4512, '이시윤': 4513, '조종': 4514, '편법': 4515, '목욕': 4516, '조상': 4517, '적발': 4518, '송인': 4519, '개대': 4520, '김경일': 4521, '행정행위': 4522, '화성': 4523, '도망': 4524, '구속기소': 4525, '복직': 4526, '원장': 4527, '조차': 4528, '언행': 4529, '소지도': 4530, '교회': 4531, '경남': 4532, '점포': 4533, '표준': 4534, '신탁': 4535, '실적': 4536, '계좌': 4537, '매일경제': 4538, '노무현': 4539, '삼지': 4540, '기숙사': 4541, '편중': 4542, '수도권': 4543, '무차별': 4544, '세인': 4545, '오직': 4546, '처단': 4547, '결혼': 4548, '혼인빙자간음죄': 4549, '상회': 4550, '카드': 4551, '수납': 4552, '적도': 4553, '일인': 4554, '이미지': 4555, '사가': 4556, '협동조합': 4557, '매각': 4558, '충실': 4559, '항목': 4560, '경상북도': 4561, '설득': 4562, '형량하': 4563, '기형': 4564, '재활': 4565, '무려': 4566, '특례규정': 4567, '연수': 4568, '실익': 4569, '창의': 4570, '영국': 4571, '요한': 4572, '반한': 4573, '박한철': 4574, '인륜': 4575, '집단살해': 4576, '적기': 4577, '공영': 4578, '장르': 4579, '중소': 4580, '몰각': 4581, '인천광역시': 4582, '무지': 4583, '방편': 4584, '페이스북': 4585, '중량': 4586, '탈락': 4587, '답안': 4588, '노선': 4589, '간소화': 4590, '연합군': 4591, '외출': 4592, '습벽': 4593, '폭처법': 4594, '반란죄': 4595, '합계': 4596, '비례대표제': 4597, '당선인': 4598, '발명': 4599, '중국산': 4600, '부정부패': 4601, '불허가': 4602, '명예퇴직': 4603, '계수': 4604, '대체의학': 4605, '학위': 4606, '옥천군': 4607, '정밀': 4608, '무상급식': 4609, '양성평등': 4610, '행정쟁송': 4611, '철수': 4612, '공청회': 4613, '전기통신역무': 4614, '병용': 4615, '반론권': 4616, '수첩': 4617, '당적': 4618, '원가': 4619, '밀집': 4620, '모독': 4621, '향정신성의약품': 4622, '공조': 4623, '증권': 4624, '칼텍스': 4625, '지에스': 4626, '공중도덕': 4627, '강동': 4628, '무기계약직': 4629, '참뜻': 4630, '결혼식': 4631, '정세': 4632, '신념': 4633, '손실보상': 4634, '유가': 4635, '평석': 4636, '미합중국': 4637, '정기회': 4638, '고로': 4639, '양계': 4640, '외국어': 4641, '수습': 4642, '모임': 4643, '결정족': 4644, '회사법': 4645, '지주': 4646, '공갈': 4647, '교원인사': 4648, '법이념': 4649, '촌수': 4650, '전통문화': 4651, '출입국': 4652, '정항': 4653, '시민사회': 4654, '세분': 4655, '출장': 4656, '내란음모': 4657, '반란': 4658, '쿠데타': 4659, '증명력': 4660, '정당행위': 4661, '파산법': 4662, '종손': 4663, '제사': 4664, '조문': 4665, '국토해양부': 4666, '재산형': 4667, '법정상속분': 4668, '형제자매': 4669, '전가': 4670, '감형': 4671, '격상': 4672, '전개': 4673, '정온': 4674, '부재자투표': 4675, '형편': 4676, '경의': 4677, '미처': 4678, '미군': 4679, '잔인성': 4680, '상행위': 4681, '친구': 4682, '손괴': 4683, '분사': 4684, '전속': 4685, '제적': 4686, '장교': 4687, '일절': 4688, '당부': 4689, '장악': 4690, '숫자': 4691, '하향': 4692, '휴업': 4693, '카지노': 4694, '유한': 4695, '사임': 4696, '당론': 4697, '적성': 4698, '신입생': 4699, '촉탁': 4700, '일임': 4701, '전인': 4702, '정족': 4703, '호송': 4704, '포승': 4705, '대기업': 4706, '국익': 4707, '약식절차': 4708, '가산': 4709, '후임': 4710, '첩부': 4711, '오용': 4712, '편견': 4713, '공문서': 4714, '자국': 4715, '어선': 4716, '침입': 4717, '고라': 4718, '더라도': 4719, '크기': 4720, '학계': 4721, '시장경제': 4722, '재무부': 4723, '특별자치도': 4724, '특신상태': 4725, '커서': 4726, '수동': 4727, '직결': 4728, '유인도': 4729, '죽음': 4730, '국법': 4731, '여명': 4732, '명과': 4733, '위법성조각사유': 4734, '노래': 4735, '유의': 4736, '치사': 4737, '노인': 4738, '착취': 4739, '유입': 4740, '매립': 4741, '우선변제권': 4742, '저축은행': 4743, '인용재결': 4744, '행정심판': 4745, '용면': 4746, '하라': 4747, '이석연': 4748, '부응': 4749, '미취': 4750, '획기': 4751, '소모': 4752, '지상': 4753, '합목': 4754, '변천': 4755, '김창종': 4756, '여개': 4757, '범주': 4758, '존비속': 4759, '학력': 4760, '필터': 4761, '우편': 4762, '음악': 4763, '은애': 4764, '유남석': 4765, '이미선': 4766, '김기영': 4767, '이석태': 4768, '소형': 4769, '의성': 4770, '용구': 4771, '복종': 4772, '다한': 4773, '구호': 4774, '출하': 4775, '청원': 4776, '착상': 4777, '생명체': 4778, '차별성': 4779, '축적': 4780, '법문': 4781, '정보처리': 4782, '기기': 4783, '모로': 4784, '타협': 4785, '총검술': 4786, '개체': 4787, '묵인': 4788, '무과실책임': 4789, '지게': 4790, '공천': 4791, '적법절차원리': 4792, '담배': 4793, '위조': 4794, '직무관련성': 4795, '관광부': 4796, '전자화폐': 4797, '자지': 4798, '선불': 4799, '질권': 4800, '실로': 4801, '문자메시지': 4802, '불완전': 4803, '위약금': 4804, '과학기술': 4805, '증상': 4806, '가사소송법': 4807, '내적인': 4808, '통고': 4809, '논현': 4810, '청주시': 4811, '절취': 4812, '족하': 4813, '국방력': 4814, '기만': 4815, '과대': 4816, '자연인': 4817, '청구원인': 4818, '가부': 4819, '문란': 4820, '피켓': 4821, '아파트': 4822, '편향': 4823, '학술': 4824, '존비': 4825, '생활환경': 4826, '풀이': 4827, '부처': 4828, '주간신문': 4829, '가면': 4830, '변리사': 4831, '공신': 4832, '등록부': 4833, '인명': 4834, '세기': 4835, '사거리': 4836, '신생': 4837, '유혹': 4838, '특혜': 4839, '당비': 4840, '재벌': 4841, '척도': 4842, '도면': 4843, '편제': 4844, '서산군': 4845, '태안군': 4846, '네트워크': 4847, '소셜': 4848, '자수': 4849, '조언': 4850, '공로': 4851, '자만': 4852, '김영일': 4853, '빈도': 4854, '취함': 4855, '폐쇄적': 4856, '점도': 4857, '집사': 4858, '신병': 4859, '소한': 4860, '기함': 4861, '명분': 4862, '재소': 4863, '장하나': 4864, '망라': 4865, '구체성': 4866, '노동시장': 4867, '소수자': 4868, '게다가': 4869, '숙고': 4870, '원용': 4871, '균형발전': 4872, '유세': 4873, '대두': 4874, '혼전': 4875, '성상': 4876, '단말기': 4877, '대로': 4878, '고객': 4879, '흡연실': 4880, '공함': 4881, '장려': 4882, '서점': 4883, '역량': 4884, '학업': 4885, '법학교육': 4886, '공감': 4887, '다가': 4888, '투여': 4889, '정보기술': 4890, '보도로': 4891, '무한정': 4892, '장인': 4893, '조규광': 4894, '수원지방법원': 4895, '결하': 4896, '수업료': 4897, '수학': 4898, '부당이득': 4899, '잡고': 4900, '가까이': 4901, '나중': 4902, '연속': 4903, '자간': 4904, '배당': 4905, '진찰': 4906, '공중위생': 4907, '이진성': 4908, '응보': 4909, '주거지': 4910, '안지원': 4911, '불가침': 4912, '전남': 4913, '은밀': 4914, '방송국': 4915, '국내외': 4916, '사적자치': 4917, '양도담보': 4918, '탈세': 4919, '운수': 4920, '방계혈족': 4921, '포로': 4922, '감염병': 4923, '유의사항': 4924, '하남시': 4925, '특허청': 4926, '불건전': 4927, '수의계약': 4928, '휴무': 4929, '재배': 4930, '부서': 4931, '환급금': 4932, '궐석재판': 4933, '개량': 4934, '시선': 4935, '체세포': 4936, '생성자': 4937, '복용': 4938, '경멸': 4939, '중국': 4940, '기판력': 4941, '교습': 4942, '유치원': 4943, '고사': 4944, '가의': 4945, '위험책임': 4946, '군정': 4947, '재산분할청구권': 4948, '법률혼': 4949, '특례기간': 4950, '당선자': 4951, '심야시간대': 4952, '전광판': 4953, '재석': 4954, '장점': 4955, '진해시': 4956, '반응': 4957, '소년법': 4958, '면담': 4959, '전직': 4960, '신군부': 4961, '결합범': 4962, '안과': 4963, '용례': 4964, '항도': 4965, '영업소': 4966, '진술거부권': 4967, '비행': 4968, '월보': 4969, '부가가치': 4970, '면소': 4971, '제척기간': 4972, '당일': 4973, '공식': 4974, '한일합병': 4975, '최루제': 4976, '민주정치': 4977, '무부': 4978, '반입': 4979, '자치행정': 4980, '선거인명부': 4981, '국외': 4982, '후손': 4983, '체적': 4984, '자녀교육': 4985, '평일': 4986, '서울구치소': 4987, '승낙': 4988, '자백': 4989, '보위': 4990, '사후관리': 4991, '고충': 4992, '시장점유율': 4993, '마음': 4994, '혼동': 4995, '화의': 4996, '준강간': 4997, '유관': 4998, '본격': 4999, '존속살해': 5000, '상해죄': 5001, '분위기': 5002, '부양': 5003, '친자': 5004, '거주지': 5005, '독도': 5006, '해안': 5007, '미혼': 5008, '심의회': 5009, '반성': 5010, '뒷받침': 5011, '택하': 5012, '소리': 5013, '확신': 5014, '고창군': 5015, '부족': 5016, '사형제': 5017, '출입문': 5018, '초등학교': 5019, '취해': 5020, '인지도': 5021, '조회': 5022, '매립지': 5023, '서민': 5024, '중앙회': 5025, '안위': 5026, '직접처분': 5027, '개발이익': 5028, '법제': 5029, '능률': 5030, '과실책임': 5031, '동일시': 5032, '진의': 5033, '중시': 5034, '평소': 5035, '완결': 5036, '연속성': 5037, '이종석': 5038, '형배': 5039, '생계비': 5040, '황도연': 5041, '맥락': 5042, '한병채': 5043, '보급': 5044, '관장': 5045, '후반기': 5046, '구합': 5047, '강구': 5048, '기권': 5049, '권리능력': 5050, '차이점': 5051, '중첩': 5052, '심지어': 5053, '국립': 5054, '졸업생': 5055, '집창촌': 5056, '결산': 5057, '울산': 5058, '통화': 5059, '추심': 5060, '건전성': 5061, '불상': 5062, '공매': 5063, '보증금': 5064, '주기': 5065, '자립': 5066, '지방자치제도': 5067, '화곡제': 5068, '주소지': 5069, '파장': 5070, '구세': 5071, '구의': 5072, '구함': 5073, '경시': 5074, '보험사': 5075, '재개발': 5076, '일간': 5077, '월경': 5078, '대폭': 5079, '잡지': 5080, '환경오염': 5081, '환경보전': 5082, '폐기물관리법': 5083, '주무': 5084, '자문': 5085, '계산서': 5086, '수압': 5087, '종로': 5088, '거대': 5089, '지구': 5090, '도덕성': 5091, '조용호': 5092, '획정함': 5093, '일원': 5094, '본도': 5095, '월간': 5096, '자개': 5097, '일자리': 5098, '급부': 5099, '자임': 5100, '다과': 5101, '억지': 5102, '이성': 5103, '공동사회': 5104, '이윤': 5105, '가능': 5106, '조각': 5107, '조세회피': 5108, '여신전문금융업법': 5109, '철거': 5110, '기적': 5111, '정가': 5112, '지표': 5113, '교과': 5114, '착오': 5115, '권유': 5116, '사제': 5117, '고문': 5118, '불확정': 5119, '과실범': 5120, '제동': 5121, '우월': 5122, '공교육': 5123, '인건비': 5124, '광역시': 5125, '기억': 5126, '취약': 5127, '밑줄': 5128, '전락': 5129, '정신장애': 5130, '일관': 5131, '고자': 5132, '보임': 5133, '한지': 5134, '프랑스': 5135, '감염': 5136, '추궁': 5137, '성행': 5138, '제헌헌법': 5139, '치명': 5140, '광고대행사': 5141, '조성하': 5142, '추후': 5143, '한선': 5144, '사교': 5145, '월액': 5146, '변협': 5147, '당내': 5148, '일제강점기': 5149, '관습헌법': 5150, '위신': 5151, '특허분쟁': 5152, '법원행정처': 5153, '등록증': 5154, '다중': 5155, '일본어': 5156, '반고': 5157, '예술인': 5158, '실정법': 5159, '인수': 5160, '조선철도': 5161, '인류': 5162, '가변': 5163, '교류': 5164, '통신사': 5165, '기록물': 5166, '국선': 5167, '보통선거': 5168, '질문': 5169, '부결': 5170, '전자우편': 5171, '구내': 5172, '여가': 5173, '불승': 5174, '정부조직법': 5175, '식약청': 5176, '국가안전기획부': 5177, '대출': 5178, '가구': 5179, '포섭': 5180, '삼은': 5181, '절감': 5182, '공채': 5183, '급변': 5184, '계엄': 5185, '견제': 5186, '증대': 5187, '목격': 5188, '사자': 5189, '패킷': 5190, '교육제도': 5191, '질환': 5192, '조산사': 5193, '최광': 5194, '대체복무': 5195, '전보': 5196, '일차': 5197, '소주': 5198, '의석': 5199, '극도': 5200, '중형': 5201, '주거침입죄': 5202, '오인': 5203, '뇌물': 5204, '모의': 5205, '한반도': 5206, '영토권': 5207, '통지서': 5208, '매월': 5209, '허영': 5210, '소재지': 5211, '관할권': 5212, '개요': 5213, '득표율': 5214, '부안군': 5215, '도구로': 5216, '빈번': 5217, '바람': 5218, '경제활동': 5219, '보호처분': 5220, '양상': 5221, '허물': 5222, '알몸': 5223, '도용': 5224, '양도소득': 5225, '원자': 5226, '청년실업': 5227, '동일성': 5228, '생전': 5229, '자서': 5230, '출근': 5231, '일용': 5232, '충북': 5233, '업무방해': 5234, '국정': 5235, '수신': 5236, '관람': 5237, '이영진': 5238, '타고': 5239, '불행': 5240, '삭제요청': 5241, '지역별': 5242, '일화': 5243, '대체로': 5244, '관습': 5245, '당파': 5246, '납북자': 5247, '강제집행': 5248, '동일인': 5249, '사기': 5250, '종결': 5251, '간이': 5252, '품성': 5253, '월내': 5254, '격차': 5255, '유명무실': 5256, '옹호': 5257, '로만': 5258, '집계': 5259, '학설': 5260, '전과자': 5261, '자칫': 5262, '경감': 5263, '점거': 5264, '한국은행': 5265, '테러': 5266, '침략': 5267, '연습': 5268, '정직': 5269, '알리': 5270, '일괄': 5271, '부정선거': 5272, '착수': 5273, '점검': 5274, '정신과': 5275, '자유형': 5276, '회계사': 5277, '감축': 5278, '본연': 5279, '기탁': 5280, '바다': 5281, '실상': 5282, '시비': 5283, '전자서명': 5284, '실업': 5285, '단기간': 5286, '장용': 5287, '선도': 5288, '대현': 5289, '수치': 5290, '전투력': 5291, '구강성교': 5292, '회관': 5293, '생활관': 5294, '법규범': 5295, '수로': 5296, '양식': 5297, '환영': 5298, '납득': 5299, '방침': 5300, '충격': 5301, '여유': 5302, '공시지가': 5303, '지불': 5304, '원본': 5305, '경정': 5306, '세무서': 5307, '누락': 5308, '혐연권': 5309, '자본': 5310, '출판물': 5311, '기득권': 5312, '출신': 5313, '직역': 5314, '연하': 5315, '욕구': 5316, '감액': 5317, '부산광역시': 5318, '제제': 5319, '해치': 5320, '공선법': 5321, '최선': 5322, '언론보도': 5323, '축협': 5324, '비정상': 5325, '청문': 5326, '청구도': 5327, '전문증거': 5328, '상존': 5329, '강도상해': 5330, '노동자': 5331, '수령': 5332, '퇴직금': 5333, '누진세': 5334, '김이수': 5335, '광고주': 5336, '무질서': 5337, '출연': 5338, '외관': 5339, '채널': 5340, '퍼센트': 5341, '법률행위': 5342, '이행강제금': 5343, '연말정산': 5344, '고용부': 5345, '진술조서': 5346, '도시계획법': 5347, '국토이용관리법': 5348, '참고자료': 5349, '시국선언': 5350, '분납': 5351, '함양': 5352, '공정거래법': 5353, '운전면허증': 5354, '육로': 5355, '통일부장관': 5356, '전투경찰대': 5357, '고교': 5358, '세계관': 5359, '총수': 5360, '수련': 5361, '거실': 5362, '정체': 5363, '출입국관리법': 5364, '실형': 5365, '혐오': 5366, '면접': 5367, '노태우': 5368, '사단법인': 5369, '적격': 5370, '소란': 5371, '상위': 5372, '화약류': 5373, '도검': 5374, '유류분권': 5375, '가족법': 5376, '제국주의': 5377, '독거': 5378, '투표소': 5379, '판명': 5380, '보훈': 5381, '만화': 5382, '제압': 5383, '간부': 5384, '월일': 5385, '생년': 5386, '라며': 5387, '마감': 5388, '구직': 5389, '멀티미디어': 5390, '통신망': 5391, '매일': 5392, '자라': 5393, '중하': 5394, '고기': 5395, '비리': 5396, '오해': 5397, '사진': 5398, '가족관계등록부': 5399, '부와': 5400, '부근': 5401, '이례': 5402, '기술자': 5403, '광범': 5404, '어머니': 5405, '참고인': 5406, '반론': 5407, '경범죄': 5408, '선고형': 5409, '부대': 5410, '전라남도': 5411, '대표이사': 5412, '압박': 5413, '입안': 5414, '테두리': 5415, '제소': 5416, '공보': 5417, '무렵': 5418, '공원': 5419, '개인정보보호법': 5420, '신분증': 5421, '미비': 5422, '이륜자동차': 5423, '성숙': 5424, '능동': 5425, '익명성': 5426, '법적안정성': 5427, '인물': 5428, '가혹': 5429, '사회생활': 5430, '봉사자': 5431, '비서': 5432, '특징': 5433, '연좌제': 5434, '골프': 5435, '가족관계등록법': 5436, '의학과': 5437, '행정절차': 5438, '이중국적자': 5439, '고정': 5440, '구수': 5441, '천안시': 5442, '도굴': 5443, '산출': 5444, '항공기': 5445, '군용': 5446, '양산': 5447, '청구취지': 5448, '대등': 5449, '극단': 5450, '마비': 5451, '함부로': 5452, '위하력': 5453, '혼자': 5454, '공장': 5455, '상급': 5456, '외형': 5457, '소심': 5458, '지하': 5459, '요원': 5460, '가스': 5461, '연동': 5462, '정치인': 5463, '태안': 5464, '현황': 5465, '나목': 5466, '곤란': 5467, '행자': 5468, '나름': 5469, '부속': 5470, '충동': 5471, '군대': 5472, '인생관': 5473, '미연': 5474, '내외': 5475, '훈련': 5476, '징표': 5477, '기획': 5478, '보편화': 5479, '수수료': 5480, '변질': 5481, '이수': 5482, '인재': 5483, '위주': 5484, '성비': 5485, '소액': 5486, '김양': 5487, '귀결': 5488, '작량감경': 5489, '미수': 5490, '강력범죄': 5491, '절박': 5492, '투입': 5493, '보고서': 5494, '호별': 5495, '은폐': 5496, '무고': 5497, '국가배상법': 5498, '학살': 5499, '경향신문': 5500, '여당': 5501, '상당수': 5502, '대기': 5503, '이득': 5504, '입추': 5505, '알림': 5506, '전기통신기본법': 5507, '직권상정': 5508, '김형욱': 5509, '토지거래허가제': 5510, '치과의사': 5511, '영동군': 5512, '보은군': 5513, '지문': 5514, '성문헌법': 5515, '밀수입': 5516, '법인세': 5517, '택법': 5518, '대학입학': 5519, '요강': 5520, '서울대학교': 5521, '기부채납': 5522, '학과': 5523, '이분': 5524, '부계': 5525, '중임': 5526, '난민': 5527, '국제공항': 5528, '수산청': 5529, '손가락': 5530, '관찰': 5531, '제지': 5532, '개혁': 5533, '복장': 5534, '김용준': 5535, '입력': 5536, '비준': 5537, '강점': 5538, '참전': 5539, '불통': 5540, '단독': 5541, '피구': 5542, '수돗물': 5543, '축하': 5544, '근원': 5545, '한의사': 5546, '군복무': 5547, '선별': 5548, '국선변호인': 5549, '장시간': 5550, '수리': 5551, '점수': 5552, '각기': 5553, '수혜': 5554, '탈퇴': 5555, '한번': 5556, '이송': 5557, '정신보건법': 5558, '지적공부': 5559, '완도군': 5560, '전문법칙': 5561, '굳이': 5562, '무인도': 5563, '전략': 5564, '수감': 5565, '복제': 5566, '통치': 5567, '속도': 5568, '재물': 5569, '흠결': 5570, '휴직': 5571, '정립': 5572, '간과': 5573, '입적': 5574, '비합리적': 5575, '파일': 5576, '인증서': 5577, '블로그': 5578, '기지국': 5579, '상세': 5580, '연락': 5581, '압력': 5582, '살인죄': 5583, '의정': 5584, '년대': 5585, '행성': 5586, '컴퓨터통신': 5587, '차려': 5588, '의원직': 5589, '민사집행법': 5590, '정신건강': 5591, '아버지': 5592, '품행': 5593, '절실': 5594, '인접': 5595, '농어촌': 5596, '건수': 5597, '백화점': 5598, '화재보험': 5599, '약간': 5600, '인과': 5601, '제품': 5602, '선고유예': 5603, '생기': 5604, '높이': 5605, '격의': 5606, '패소': 5607, '반려': 5608, '총괄': 5609, '자진': 5610, '부패': 5611, '구성요소': 5612, '죽도': 5613, '남북': 5614, '활성화': 5615, '발휘': 5616, '재선거': 5617, '의사소통': 5618, '도피': 5619, '대면': 5620, '주도': 5621, '도외': 5622, '자유도': 5623, '부로': 5624, '기강': 5625, '전화통화': 5626, '소통': 5627, '구속집행정지': 5628, '기피': 5629, '고서': 5630, '결의': 5631, '언어': 5632, '분산': 5633, '물질': 5634, '성행위': 5635, '가부장': 5636, '정조': 5637, '위계': 5638, '음행': 5639, '현금': 5640, '복합': 5641, '운명': 5642, '치중': 5643, '대중': 5644, '청렴': 5645, '합당': 5646, '최후': 5647, '충당': 5648, '세입': 5649, '증거보전': 5650, '중계': 5651, '동석': 5652, '영상녹화물': 5653, '보호관찰': 5654, '서부': 5655, '애초': 5656, '특강': 5657, '관서': 5658, '행정소송법': 5659, '마지막': 5660, '상충': 5661, '계층': 5662, '여타': 5663, '문신': 5664, '실정': 5665, '대전': 5666, '가출': 5667, '양민': 5668, '방송사': 5669, '능직': 5670, '전라북도': 5671, '신청서': 5672, '약정': 5673, '화장실': 5674, '재혼': 5675, '홍보물': 5676, '소송비용': 5677, '소변': 5678, '소용': 5679, '학원': 5680, '당진군': 5681, '시민단체': 5682, '총선거': 5683, '소청': 5684, '계간': 5685, '생명보험': 5686, '셧다운제': 5687, '대화방': 5688, '노인성': 5689, '학년': 5690, '기반시설': 5691, '무역': 5692, '작위': 5693, '오후': 5694, '무소속': 5695, '미지': 5696, '입시': 5697, '장차': 5698, '차관': 5699, '시적': 5700, '유선': 5701, '일간신문': 5702, '답변': 5703, '정성은': 5704, '오류': 5705, '완도': 5706, '비경': 5707, '환송': 5708, '접대': 5709, '신임': 5710, '선행': 5711, '화면': 5712, '중석': 5713, '공화국': 5714, '특단': 5715, '주변': 5716, '학습': 5717, '공존': 5718, '수렴': 5719, '승진': 5720, '주요한': 5721, '전망': 5722, '사형선고': 5723, '살포': 5724, '김문희': 5725, '주목': 5726, '김희옥': 5727, '혈연': 5728, '사관': 5729, '무혐의': 5730, '결부': 5731, '직접선거': 5732, '질적': 5733, '조기': 5734, '저지': 5735, '효용': 5736, '광역': 5737, '공과금': 5738, '장구': 5739, '개개인': 5740, '개개': 5741, '영구': 5742, '철도': 5743, '참고': 5744, '회수': 5745, '기업체': 5746, '사무장': 5747, '인쇄': 5748, '쌍방': 5749, '통산': 5750, '권위': 5751, '취한': 5752, '미약': 5753, '조절': 5754, '버스': 5755, '도달': 5756, '물줄기': 5757, '선호': 5758, '담당자': 5759, '육지': 5760, '편익': 5761, '전일': 5762, '법집': 5763, '대변': 5764, '전문가': 5765, '감당': 5766, '초단': 5767, '중과': 5768, '전시': 5769, '전과': 5770, '지고': 5771, '군기': 5772, '항문성교': 5773, '보복': 5774, '억원': 5775, '성향': 5776, '후속': 5777, '고가': 5778, '고액': 5779, '국세청': 5780, '경향': 5781, '컴퓨터게임': 5782, '책정': 5783, '독과점': 5784, '종이': 5785, '할인': 5786, '희망': 5787, '측정': 5788, '배출': 5789, '우수': 5790, '고착': 5791, '남아': 5792, '직후': 5793, '수혜자': 5794, '중소기업': 5795, '집행정지': 5796, '이사회': 5797, '변정수': 5798, '구비': 5799, '장면': 5800, '심문': 5801, '사법심사': 5802, '형사법': 5803, '거듭': 5804, '규약': 5805, '행정지도': 5806, '유독': 5807, '분배': 5808, '이면': 5809, '의학': 5810, '불안': 5811, '불소': 5812, '원상회복': 5813, '구축': 5814, '외면': 5815, '얼마나': 5816, '리자': 5817, '탈법': 5818, '여객': 5819, '군납': 5820, '대지': 5821, '역무': 5822, '여객운송': 5823, '음란죄': 5824, '각령': 5825, '척추': 5826, '불신': 5827, '퇴정': 5828, '모욕죄': 5829, '근친혼': 5830, '경상남도': 5831, '대학교육': 5832, '이용권': 5833, '월남전': 5834, '심각': 5835, '수상기': 5836, '막대': 5837, '토요일': 5838, '자살': 5839, '국무회의': 5840, '신문사': 5841, '출생신고': 5842, '체약국': 5843, '배타': 5844, '절도': 5845, '단결': 5846, '대장': 5847, '인원': 5848, '항문': 5849, '구강': 5850, '탄력': 5851, '느낌': 5852, '가치관': 5853, '자필': 5854, '규범통제': 5855, '대규모': 5856, '우위': 5857, '논쟁': 5858, '위촉': 5859, '행진': 5860, '신속성': 5861, '품위': 5862, '갈등': 5863, '대학생': 5864, '경로': 5865, '접속': 5866, '군사법': 5867, '대의제': 5868, '연대': 5869, '복사': 5870, '민형기': 5871, '만족': 5872, '탈의': 5873, '구매': 5874, '직종': 5875, '시각': 5876, '문언': 5877, '화재': 5878, '사법권': 5879, '일일이': 5880, '위법행위': 5881, '주류': 5882, '갱신': 5883, '경찰청': 5884, '음성': 5885, '자질': 5886, '당초': 5887, '정확성': 5888, '정비': 5889, '모습': 5890, '수발': 5891, '민주당': 5892, '행복': 5893, '매년': 5894, '직전': 5895, '고하': 5896, '실태': 5897, '괄호': 5898, '세로': 5899, '독일': 5900, '추세': 5901, '현대': 5902, '성관계': 5903, '가맹': 5904, '대형': 5905, '경쟁력': 5906, '시일': 5907, '객관성': 5908, '전념': 5909, '계승': 5910, '신빙': 5911, '분석': 5912, '해도': 5913, '누범': 5914, '후자': 5915, '불합격': 5916, '심화': 5917, '사명': 5918, '감수': 5919, '안전성': 5920, '예정자': 5921, '민간인': 5922, '자행': 5923, '조선일보': 5924, '동아일보': 5925, '군소': 5926, '이제': 5927, '아예': 5928, '회피': 5929, '차익': 5930, '셔틀버스': 5931, '확진': 5932, '코로나': 5933, '특허법': 5934, '카메라': 5935, '수거': 5936, '보도자료': 5937, '고소장': 5938, '한정승인': 5939, '순경': 5940, '선거공영제': 5941, '마치': 5942, '영화상': 5943, '악화': 5944, '친생추정': 5945, '압수': 5946, '사비': 5947, '비법': 5948, '소집': 5949, '그때': 5950, '유공': 5951, '행정자치부': 5952, '진단': 5953, '운반': 5954, '반의사불벌죄': 5955, '억압': 5956, '데이터베이스': 5957, '존부': 5958, '연습장': 5959, '불가': 5960, '신장': 5961, '일대': 5962, '유증': 5963, '방교': 5964, '사직': 5965, '동영상': 5966, '입각': 5967, '청사': 5968, '참정권': 5969, '부문': 5970, '혼인신고': 5971, '통념': 5972, '수료': 5973, '기밀': 5974, '군검찰': 5975, '의거': 5976, '일이': 5977, '금은': 5978, '송달': 5979, '정은': 5980, '발동': 5981, '단순': 5982, '체인': 5983, '용역': 5984, '책무': 5985, '한미': 5986, '계급': 5987, '그다지': 5988, '얼굴': 5989, '본형': 5990, '설비': 5991, '구청': 5992, '회지': 5993, '부자': 5994, '통로': 5995, '쟁송해역': 5996, '지리': 5997, '불문법': 5998, '선의': 5999, '여서': 6000, '택시': 6001, '선동': 6002, '상향': 6003, '더구나': 6004, '파괴': 6005, '의뢰': 6006, '무제한': 6007, '지방세': 6008, '인과관계': 6009, '약화': 6010, '과장': 6011, '소비': 6012, '결제': 6013, '보이': 6014, '관리자': 6015, '의혹': 6016, '정상화': 6017, '조로': 6018, '연합뉴스': 6019, '정치권': 6020, '전국동시': 6021, '약제': 6022, '유전': 6023, '가족부': 6024, '불구속': 6025, '매매': 6026, '년경': 6027, '잡종재산': 6028, '학사': 6029, '특례조항': 6030, '고합': 6031, '범죄예방': 6032, '범의': 6033, '단기': 6034, '특가법': 6035, '존치': 6036, '준칙': 6037, '주어': 6038, '최저': 6039, '이강국': 6040, '부재': 6041, '논평': 6042, '매개': 6043, '이공현': 6044, '민영': 6045, '전남편': 6046, '증빙': 6047, '전범재판': 6048, '여관': 6049, '예산군': 6050, '위안부': 6051, '연기': 6052, '호적': 6053, '해양수산부': 6054, '약속': 6055, '입장권': 6056, '가상': 6057, '건축법': 6058, '전격': 6059, '수질': 6060, '내란죄': 6061, '석수': 6062, '지방검찰청': 6063, '신조': 6064, '도당': 6065, '계산': 6066, '입소': 6067, '삽입': 6068, '자해': 6069, '환산': 6070, '필연': 6071, '흑색선전': 6072, '개진': 6073, '부지': 6074, '창구': 6075, '법성': 6076, '군사법원': 6077, '검찰관': 6078, '연대책임': 6079, '성실': 6080, '직계혈족': 6081, '계약보증금': 6082, '일환': 6083, '소의': 6084, '미신': 6085, '충청남도': 6086, '용인시': 6087, '번복': 6088, '침략전쟁': 6089, '파면': 6090, '육체': 6091, '태도': 6092, '무분별': 6093, '화해': 6094, '정이': 6095, '전문직': 6096, '본부': 6097, '면서': 6098, '단시간': 6099, '수치심': 6100, '불명': 6101, '모금': 6102, '무력': 6103, '재차': 6104, '상승': 6105, '요인': 6106, '매장': 6107, '진출': 6108, '수긍': 6109, '자연': 6110, '조속': 6111, '자재': 6112, '혈우병': 6113, '물리': 6114, '전이': 6115, '점차': 6116, '교육과학기술부': 6117, '의적': 6118, '석방': 6119, '호법': 6120, '각자': 6121, '강도': 6122, '수당': 6123, '행정규칙': 6124, '존엄성': 6125, '조장': 6126, '도구': 6127, '인상': 6128, '위로': 6129, '국가귀속': 6130, '회기': 6131, '급정지': 6132, '대토론': 6133, '숙취': 6134, '평등선거': 6135, '선물': 6136, '정거': 6137, '생명윤리': 6138, '전투경찰': 6139, '계열': 6140, '일본군': 6141, '법외': 6142, '서약': 6143, '정보공개': 6144, '전북대학교': 6145, '관세': 6146, '실외': 6147, '적립금': 6148, '먹는샘물': 6149, '증거조사': 6150, '치기': 6151, '흉기': 6152, '양친': 6153, '노인장': 6154, '이론': 6155, '미수범': 6156, '파급': 6157, '위기': 6158, '구장': 6159, '불쾌감': 6160, '후단': 6161, '성남시': 6162, '일자': 6163, '입지': 6164, '미풍양속': 6165, '전산': 6166, '추첨': 6167, '과료': 6168, '구류': 6169, '기자': 6170, '관철': 6171, '참가자': 6172, '약자': 6173, '쟁송': 6174, '신용정보': 6175, '체포영장': 6176, '컴퓨터': 6177, '광부': 6178, '체육관': 6179, '사정변경': 6180, '통과': 6181, '대구': 6182, '문구': 6183, '다툼': 6184, '승소': 6185, '건축': 6186, '음주': 6187, '사실관계': 6188, '최루액': 6189, '진보신당': 6190, '정해': 6191, '자치권': 6192, '해역': 6193, '형량': 6194, '예견': 6195, '입금': 6196, '고함': 6197, '근무시간': 6198, '특수강': 6199, '상시': 6200, '구민': 6201, '모순': 6202, '협상': 6203, '매출': 6204, '육성': 6205, '출판사': 6206, '정보공개청구권': 6207, '부적': 6208, '사설': 6209, '풍토': 6210, '협조': 6211, '임대': 6212, '이사장': 6213, '재학': 6214, '독립성': 6215, '완성': 6216, '지향': 6217, '감호': 6218, '범죄인': 6219, '감경': 6220, '유급': 6221, '일종': 6222, '세금': 6223, '영위': 6224, '전후': 6225, '국군': 6226, '방송공사': 6227, '당장': 6228, '정합': 6229, '위성': 6230, '노동운동': 6231, '해태': 6232, '정해진': 6233, '취소소송': 6234, '호주제': 6235, '일본국': 6236, '내심': 6237, '몰입': 6238, '평의': 6239, '영관': 6240, '예시': 6241, '학교장': 6242, '미래': 6243, '특허': 6244, '과열': 6245, '단축': 6246, '휴일': 6247, '상관관계': 6248, '살인': 6249, '진입': 6250, '공용': 6251, '널리': 6252, '예고': 6253, '연도': 6254, '업종': 6255, '기호': 6256, '표방': 6257, '통계': 6258, '전기통신사업법': 6259, '장해': 6260, '취임': 6261, '집중': 6262, '분담': 6263, '상징': 6264, '전기': 6265, '수권': 6266, '언어장애': 6267, '민원': 6268, '제조': 6269, '여야': 6270, '사무소': 6271, '행정구역': 6272, '등장': 6273, '김진우': 6274, '연합': 6275, '단일': 6276, '유인': 6277, '과연': 6278, '도저히': 6279, '원고': 6280, '교직원': 6281, '용법': 6282, '불분명': 6283, '연고': 6284, '중과세': 6285, '자제': 6286, '표지': 6287, '관광': 6288, '출산': 6289, '결합': 6290, '신규': 6291, '천적': 6292, '개정안': 6293, '우대': 6294, '생계': 6295, '송두환': 6296, '난립': 6297, '보조금': 6298, '제로': 6299, '지방공무원법': 6300, '사인': 6301, '이르렀다': 6302, '사례금': 6303, '취득세': 6304, '마늘': 6305, '상장': 6306, '출국금지': 6307, '공판조서': 6308, '양육비': 6309, '전두환': 6310, '유치': 6311, '체벌': 6312, '부과금': 6313, '공기총': 6314, '환경권': 6315, '진학': 6316, '경사': 6317, '영토': 6318, '조서': 6319, '반포': 6320, '조승형': 6321, '유래': 6322, '최저임금법': 6323, '고발': 6324, '업무방해죄': 6325, '는바': 6326, '직급': 6327, '의지': 6328, '실시간': 6329, '상관': 6330, '송치': 6331, '중립': 6332, '구속영장': 6333, '목영준': 6334, '사행': 6335, '국정감사': 6336, '자도': 6337, '공기업': 6338, '휴대': 6339, '당한': 6340, '공소권': 6341, '취재': 6342, '장의': 6343, '파기': 6344, '공시': 6345, '조작': 6346, '후견인': 6347, '초청': 6348, '확산': 6349, '확정판결': 6350, '정면': 6351, '대다수': 6352, '용어': 6353, '합법': 6354, '주권': 6355, '재정권': 6356, '대별': 6357, '남자': 6358, '일상': 6359, '차지': 6360, '구입': 6361, '판매업': 6362, '임무': 6363, '국유재산': 6364, '교육법': 6365, '균등': 6366, '무죄판결': 6367, '방위': 6368, '가제': 6369, '삼고': 6370, '구속력': 6371, '획득': 6372, '잠재': 6373, '고통': 6374, '병력': 6375, '불가분': 6376, '토대': 6377, '자주': 6378, '유권해석': 6379, '급식': 6380, '화보': 6381, '관람객': 6382, '상속권': 6383, '평준화': 6384, '분쟁해결': 6385, '산점': 6386, '반국가단체': 6387, '저작물': 6388, '집권': 6389, '음반': 6390, '월호': 6391, '공휴일': 6392, '사람과': 6393, '공격': 6394, '우회': 6395, '낙태죄': 6396, '기초의회': 6397, '가정폭력': 6398, '대금': 6399, '가정법원': 6400, '과소': 6401, '낙선': 6402, '강남구': 6403, '차량': 6404, '가집행선고': 6405, '의사표시': 6406, '불평등': 6407, '일상생활': 6408, '선거인': 6409, '비장': 6410, '법률신문': 6411, '길이': 6412, '창설': 6413, '가목': 6414, '속성': 6415, '주간': 6416, '성범죄자': 6417, '보편': 6418, '발송': 6419, '보이지': 6420, '정서': 6421, '이바지': 6422, '서열': 6423, '우연': 6424, '교육과정': 6425, '검증': 6426, '증언': 6427, '도과': 6428, '치유': 6429, '입국': 6430, '극복': 6431, '병과': 6432, '항상': 6433, '문의': 6434, '살해': 6435, '법체계': 6436, '국가배상': 6437, '한겨레신문': 6438, '재단': 6439, '긍정': 6440, '보지': 6441, '사의': 6442, '확장': 6443, '화물자동차': 6444, '폐질': 6445, '해체': 6446, '소득공제': 6447, '가족제도': 6448, '동성동본': 6449, '형사보상청구권': 6450, '혈통': 6451, '출력': 6452, '재외선거': 6453, '건의': 6454, '동일': 6455, '임명': 6456, '평온': 6457, '검찰청': 6458, '양국': 6459, '피의자신문': 6460, '집시법': 6461, '관등': 6462, '합동': 6463, '이동전화': 6464, '시간대': 6465, '불응': 6466, '정전': 6467, '면회': 6468, '계정': 6469, '휴대전화': 6470, '설사': 6471, '수역': 6472, '가사': 6473, '귀화': 6474, '은닉': 6475, '나이': 6476, '형기': 6477, '권익': 6478, '유착': 6479, '거리': 6480, '어업': 6481, '홍성군': 6482, '사이트': 6483, '근간': 6484, '주소': 6485, '발의': 6486, '제도로': 6487, '소극': 6488, '최대': 6489, '내재': 6490, '교화': 6491, '첨부': 6492, '요하': 6493, '당국': 6494, '민사소송법': 6495, '주지': 6496, '배려': 6497, '부녀': 6498, '공업': 6499, '자인': 6500, '근절': 6501, '언론기관': 6502, '칼럼': 6503, '과학': 6504, '명목': 6505, '자리': 6506, '무면허': 6507, '가석방': 6508, '법해석': 6509, '이동흡': 6510, '차등': 6511, '소위': 6512, '보류': 6513, '국민연금': 6514, '계호': 6515, '영화관': 6516, '주재': 6517, '오전': 6518, '참사': 6519, '구속적부심사': 6520, '절도죄': 6521, '피의자신문조서': 6522, '도화': 6523, '안이': 6524, '증서': 6525, '상업': 6526, '연결': 6527, '전화': 6528, '국민주권': 6529, '어서': 6530, '구획': 6531, '중상': 6532, '임차': 6533, '이의': 6534, '이의신청': 6535, '사태': 6536, '연설': 6537, '신원': 6538, '정경': 6539, '사치': 6540, '공범': 6541, '의례': 6542, '논란': 6543, '거짓': 6544, '빙자': 6545, '소규모': 6546, '불편': 6547, '운영자': 6548, '경제력': 6549, '의존': 6550, '졸업': 6551, '지도': 6552, '지니': 6553, '이번': 6554, '내포': 6555, '피부': 6556, '지금': 6557, '작업': 6558, '재위': 6559, '후의': 6560, '강의': 6561, '퇴역': 6562, '범죄인인도': 6563, '심사평가원': 6564, '재정신청': 6565, '사과': 6566, '야당': 6567, '소송대리인': 6568, '공관': 6569, '소관': 6570, '수갑': 6571, '중재법': 6572, '상영': 6573, '친생자': 6574, '유신헌법': 6575, '명예훼손죄': 6576, '분양': 6577, '호주': 6578, '국방부': 6579, '선거법': 6580, '광역자치단체장': 6581, '가명': 6582, '공소장': 6583, '보좌': 6584, '김종대': 6585, '신속': 6586, '수법': 6587, '향후': 6588, '국방': 6589, '주주': 6590, '파생': 6591, '뉴스': 6592, '편집': 6593, '상법': 6594, '국한': 6595, '중간': 6596, '정보통신망법': 6597, '부수': 6598, '실행': 6599, '객체': 6600, '발현': 6601, '일련': 6602, '변론': 6603, '협박': 6604, '접수': 6605, '극히': 6606, '관해': 6607, '친고죄': 6608, '상습': 6609, '손상': 6610, '세계': 6611, '기반': 6612, '정기': 6613, '귀책사유': 6614, '시킴': 6615, '공평': 6616, '비중': 6617, '천명': 6618, '시도': 6619, '기도': 6620, '좌우': 6621, '기인': 6622, '청장': 6623, '외적': 6624, '명의신탁': 6625, '권리자': 6626, '그룹': 6627, '과점': 6628, '자치사무': 6629, '우유': 6630, '사퇴': 6631, '승객': 6632, '민주화': 6633, '친생': 6634, '명단': 6635, '고무': 6636, '저작권': 6637, '임시회': 6638, '망인': 6639, '이동통신': 6640, '시청': 6641, '노법': 6642, '교수': 6643, '미터': 6644, '상하': 6645, '착용': 6646, '보험금': 6647, '공법': 6648, '당사자소송': 6649, '정제': 6650, '재화': 6651, '징계처분': 6652, '호소': 6653, '정족수': 6654, '기업인': 6655, '물포': 6656, '정권': 6657, '원래': 6658, '행정권': 6659, '해외': 6660, '임시조치': 6661, '전교조': 6662, '서신': 6663, '재임': 6664, '소개': 6665, '한나라당': 6666, '첫째': 6667, '면적': 6668, '전액': 6669, '취할': 6670, '농협': 6671, '농업협동조합': 6672, '하자': 6673, '달라': 6674, '주체성': 6675, '한시': 6676, '다운': 6677, '대책': 6678, '기대': 6679, '대처': 6680, '중이': 6681, '중요': 6682, '천만원': 6683, '방문': 6684, '새로이': 6685, '향유': 6686, '적지': 6687, '일로': 6688, '사개특위': 6689, '온천': 6690, '원안': 6691, '학문': 6692, '비영리': 6693, '대여': 6694, '권력분립': 6695, '발령': 6696, '악용': 6697, '송환': 6698, '격리': 6699, '보증인': 6700, '광장': 6701, '둘째': 6702, '약품': 6703, '군사': 6704, '기구': 6705, '일수': 6706, '전력': 6707, '참가': 6708, '대립': 6709, '미달': 6710, '유발': 6711, '법무': 6712, '소멸': 6713, '거부처분': 6714, '남녀': 6715, '고유': 6716, '상품': 6717, '상자': 6718, '간주': 6719, '대우': 6720, '폐쇄': 6721, '기회균등': 6722, '조성': 6723, '광주': 6724, '기하': 6725, '수생': 6726, '명문': 6727, '최근': 6728, '복귀': 6729, '신뢰이익': 6730, '법규명령': 6731, '정관': 6732, '권고': 6733, '소멸시효': 6734, '시청자': 6735, '목표': 6736, '다양성': 6737, '입법부': 6738, '만일': 6739, '이름': 6740, '매도': 6741, '소년': 6742, '혈족': 6743, '청원경찰': 6744, '총포': 6745, '해임': 6746, '용지': 6747, '유치장': 6748, '치의': 6749, '성기': 6750, '유포': 6751, '납북': 6752, '치가': 6753, '면책': 6754, '노령': 6755, '중복': 6756, '나라': 6757, '시스템': 6758, '대담': 6759, '언급': 6760, '소장': 6761, '연관': 6762, '잘못': 6763, '물건': 6764, '전환': 6765, '소수': 6766, '제법': 6767, '음식물': 6768, '저하': 6769, '발달': 6770, '관심': 6771, '국토': 6772, '점유': 6773, '임야': 6774, '고의': 6775, '비난': 6776, '비난가능성': 6777, '법리': 6778, '동등': 6779, '제반': 6780, '주가': 6781, '날로': 6782, '논리': 6783, '조대현': 6784, '출자': 6785, '투기': 6786, '간통죄': 6787, '퇴근': 6788, '의장': 6789, '배정': 6790, '주식': 6791, '법치': 6792, '지점': 6793, '후보': 6794, '정치단체': 6795, '중독': 6796, '정착': 6797, '명함': 6798, '증장': 6799, '만료': 6800, '지휘': 6801, '증명': 6802, '관청': 6803, '대강': 6804, '얼마': 6805, '부령': 6806, '소명': 6807, '도주': 6808, '배치': 6809, '공중': 6810, '획일': 6811, '지방선거': 6812, '세부': 6813, '자발': 6814, '주로': 6815, '민사': 6816, '어디': 6817, '헌법재판': 6818, '납세': 6819, '용이': 6820, '임박': 6821, '손해배상청구권': 6822, '극적': 6823, '금융감독원': 6824, '배심원': 6825, '여권': 6826, '정신질환': 6827, '찬양': 6828, '정원': 6829, '풍속': 6830, '유언': 6831, '사범': 6832, '가집행': 6833, '병원': 6834, '위태롭': 6835, '이동': 6836, '안녕': 6837, '승계': 6838, '발사': 6839, '계기': 6840, '자원': 6841, '토론회': 6842, '이상인': 6843, '지연': 6844, '사실혼': 6845, '동기': 6846, '일단': 6847, '제의': 6848, '결성': 6849, '편입': 6850, '고심': 6851, '상식': 6852, '회보': 6853, '성함': 6854, '찾기': 6855, '예규': 6856, '년도': 6857, '차원': 6858, '형평성': 6859, '보안처분': 6860, '보호감호': 6861, '언제': 6862, '무시': 6863, '법치국가': 6864, '프로그램': 6865, '업체': 6866, '과세표준': 6867, '변제': 6868, '우체국': 6869, '후기': 6870, '행정안전부': 6871, '준강제추행': 6872, '온라인': 6873, '자주성': 6874, '이혼': 6875, '체납': 6876, '입영': 6877, '의약품': 6878, '파업': 6879, '중재': 6880, '촉구': 6881, '일전': 6882, '비례대표': 6883, '개최': 6884, '재외국민': 6885, '가해자': 6886, '교환': 6887, '무조건': 6888, '생존권': 6889, '수익': 6890, '사법연수원': 6891, '강화': 6892, '알권리': 6893, '전적': 6894, '연혁': 6895, '궁극': 6896, '법례': 6897, '입법권': 6898, '새마을금고': 6899, '시대': 6900, '복수': 6901, '염려': 6902, '공제': 6903, '가산금': 6904, '다수결': 6905, '범인': 6906, '성교': 6907, '정리': 6908, '물이': 6909, '타당성': 6910, '전형': 6911, '회생': 6912, '정수': 6913, '단체교섭': 6914, '회부': 6915, '홍보': 6916, '공인': 6917, '상담': 6918, '보더': 6919, '사회보장': 6920, '동성': 6921, '행정청': 6922, '피고': 6923, '누설': 6924, '저촉': 6925, '현금영수증': 6926, '설령': 6927, '훈령': 6928, '출마': 6929, '소재': 6930, '위법성': 6931, '탄핵': 6932, '의의': 6933, '용의': 6934, '자동': 6935, '무기징역': 6936, '현상': 6937, '경험': 6938, '지식': 6939, '법조인': 6940, '국무총리': 6941, '의심': 6942, '생존': 6943, '이나': 6944, '경기도': 6945, '양도소득세': 6946, '중혼': 6947, '아동학대': 6948, '모욕': 6949, '납골': 6950, '내란': 6951, '현역': 6952, '영창': 6953, '저작권법': 6954, '외교': 6955, '음란물': 6956, '범죄수사': 6957, '통신비밀보호법': 6958, '한국인': 6959, '특별시': 6960, '경찰청장': 6961, '수면': 6962, '녹화': 6963, '회로': 6964, '투명': 6965, '인천': 6966, '임부': 6967, '위원장': 6968, '추진': 6969, '고등': 6970, '외적인': 6971, '보수': 6972, '성장': 6973, '부작용': 6974, '공포': 6975, '진상': 6976, '그동안': 6977, '주문': 6978, '독점': 6979, '정화': 6980, '자격정지': 6981, '논의': 6982, '별표': 6983, '대학교': 6984, '인도': 6985, '준법': 6986, '운전': 6987, '부실': 6988, '충돌': 6989, '현행법': 6990, '보통': 6991, '국세': 6992, '관념': 6993, '세액': 6994, '신용카드': 6995, '유효': 6996, '법조': 6997, '대비': 6998, '상당': 6999, '의무교육': 7000, '형사소송': 7001, '지난': 7002, '행정부': 7003, '사죄': 7004, '여건': 7005, '보호대': 7006, '은행': 7007, '수요': 7008, '소급입법': 7009, '규명': 7010, '강조': 7011, '중지': 7012, '서면': 7013, '제한상영가': 7014, '수임': 7015, '항공': 7016, '강간죄': 7017, '출국': 7018, '할당': 7019, '고용노동부': 7020, '국회의사당': 7021, '쇠고기': 7022, '지출': 7023, '인사': 7024, '판정': 7025, '보조': 7026, '차례': 7027, '수인': 7028, '실지': 7029, '보궐선거': 7030, '유출': 7031, '청취': 7032, '해직': 7033, '체류': 7034, '조달': 7035, '세대': 7036, '도서': 7037, '수가': 7038, '금융기관': 7039, '공직자': 7040, '학부모': 7041, '영업주': 7042, '노동부': 7043, '만큼': 7044, '예술': 7045, '영리': 7046, '이란': 7047, '더욱이': 7048, '액수': 7049, '채무': 7050, '대기실': 7051, '법정대리인': 7052, '화물': 7053, '수호': 7054, '설명': 7055, '행정사': 7056, '교육감': 7057, '제안': 7058, '과제': 7059, '양육': 7060, '안보': 7061, '정식': 7062, '중심': 7063, '시료': 7064, '임대차': 7065, '행정법원': 7066, '표명': 7067, '측량': 7068, '이중': 7069, '대리인': 7070, '인력': 7071, '교부': 7072, '해악': 7073, '쟁점': 7074, '간행물': 7075, '경위': 7076, '다소': 7077, '중학교': 7078, '형평': 7079, '소급효': 7080, '정황': 7081, '자율성': 7082, '서울특별시': 7083, '참작': 7084, '사학': 7085, '후유': 7086, '수신료': 7087, '회선': 7088, '행정입법': 7089, '비방': 7090, '입증': 7091, '전달': 7092, '정기간행물': 7093, '공동': 7094, '부상': 7095, '통행': 7096, '혼합': 7097, '원금': 7098, '명예훼손': 7099, '개인정보자기결정권': 7100, '건축물': 7101, '상공': 7102, '용인': 7103, '안전보장': 7104, '독신자': 7105, '폐기': 7106, '거절': 7107, '진법': 7108, '복지': 7109, '상임': 7110, '법률관계': 7111, '무상': 7112, '시민': 7113, '정함': 7114, '종국': 7115, '업자': 7116, '장래': 7117, '최대한': 7118, '결여': 7119, '생각': 7120, '해제': 7121, '이처럼': 7122, '근본': 7123, '세율': 7124, '감식': 7125, '대체복무제': 7126, '기사': 7127, '군법': 7128, '환수': 7129, '투자': 7130, '텔레비전': 7131, '발굴': 7132, '군복': 7133, '지방의회': 7134, '임시': 7135, '생산': 7136, '참조': 7137, '일반인': 7138, '모집': 7139, '소요': 7140, '시가': 7141, '단위': 7142, '납세의무': 7143, '자격시험': 7144, '금전': 7145, '결단': 7146, '과중': 7147, '희생': 7148, '국가배상청구권': 7149, '만약': 7150, '전쟁': 7151, '서도': 7152, '단체교섭권': 7153, '봉쇄': 7154, '주요': 7155, '등기': 7156, '간통': 7157, '금혼': 7158, '이적': 7159, '선전': 7160, '직계존속': 7161, '경합': 7162, '약국': 7163, '자유민주': 7164, '편성': 7165, '중요성': 7166, '금기': 7167, '도로': 7168, '자금': 7169, '노사': 7170, '검색': 7171, '마약': 7172, '조약': 7173, '대의': 7174, '역사': 7175, '수정': 7176, '공급': 7177, '세력': 7178, '여자': 7179, '불공정': 7180, '초기': 7181, '업주': 7182, '증진': 7183, '도움': 7184, '부부': 7185, '전단': 7186, '처음': 7187, '본안': 7188, '국기': 7189, '사과문': 7190, '소음': 7191, '법무사': 7192, '구치소': 7193, '부당': 7194, '주최': 7195, '식별': 7196, '약사': 7197, '손실': 7198, '통일': 7199, '진정': 7200, '야간': 7201, '장비': 7202, '득표': 7203, '의사결정': 7204, '일시': 7205, '해명': 7206, '동원': 7207, '바탕': 7208, '출입': 7209, '발부': 7210, '변호사시험법': 7211, '개설': 7212, '개방': 7213, '열거': 7214, '대부분': 7215, '국고': 7216, '사립': 7217, '이기': 7218, '지침': 7219, '민사소송': 7220, '합산': 7221, '구법': 7222, '방치': 7223, '유예': 7224, '재난': 7225, '방청': 7226, '피상': 7227, '운행': 7228, '어린이': 7229, '추징': 7230, '발언': 7231, '상이': 7232, '선거범죄': 7233, '시작': 7234, '획정': 7235, '전송': 7236, '결사': 7237, '접견교통권': 7238, '접촉': 7239, '문제점': 7240, '양성': 7241, '실체': 7242, '구현': 7243, '기일': 7244, '수록': 7245, '내부': 7246, '중대': 7247, '위협': 7248, '출퇴근': 7249, '사전검열': 7250, '체포': 7251, '징벌': 7252, '청년': 7253, '소프트웨어': 7254, '경찰서': 7255, '병역법': 7256, '예산': 7257, '가해': 7258, '어려움': 7259, '대응': 7260, '도로교통법': 7261, '향상': 7262, '대화': 7263, '무관': 7264, '후문': 7265, '공간': 7266, '최종': 7267, '홈페이지': 7268, '선출': 7269, '천만': 7270, '면허': 7271, '부위': 7272, '찬성': 7273, '의문': 7274, '곧바로': 7275, '구체화': 7276, '소유권': 7277, '모계': 7278, '일제': 7279, '복수국적': 7280, '이적표현물': 7281, '신용': 7282, '임기': 7283, '불기소처분': 7284, '비속': 7285, '제조업': 7286, '인신': 7287, '책임자': 7288, '최고': 7289, '소송계속': 7290, '개연': 7291, '간접': 7292, '공립': 7293, '비공개': 7294, '행정기관': 7295, '대안': 7296, '바로': 7297, '협의': 7298, '해하': 7299, '지체': 7300, '과징금': 7301, '산재': 7302, '의안': 7303, '방지법': 7304, '공공기관': 7305, '협력': 7306, '약식': 7307, '운송': 7308, '정년': 7309, '배포': 7310, '속인': 7311, '실무': 7312, '이해': 7313, '간섭': 7314, '녹음': 7315, '간음': 7316, '크게': 7317, '협찬': 7318, '보전': 7319, '진실': 7320, '것일': 7321, '전범': 7322, '폭행': 7323, '처방': 7324, '전통': 7325, '여기': 7326, '지장': 7327, '날인': 7328, '알선': 7329, '국적법': 7330, '기소유예': 7331, '거치': 7332, '음주운전': 7333, '살수차': 7334, '근로시간': 7335, '권력': 7336, '군형법': 7337, '교도관': 7338, '지방자치법': 7339, '몰수': 7340, '노력': 7341, '감소': 7342, '특례': 7343, '배상': 7344, '기금': 7345, '노무': 7346, '장기간': 7347, '편의': 7348, '채무자': 7349, '수색': 7350, '정정': 7351, '협회': 7352, '애인': 7353, '직사': 7354, '용도': 7355, '고급': 7356, '검토': 7357, '최초': 7358, '서로': 7359, '수반': 7360, '재원': 7361, '적정': 7362, '유무': 7363, '임의': 7364, '경비': 7365, '도록': 7366, '위생': 7367, '공동체': 7368, '보완': 7369, '여론': 7370, '오늘날': 7371, '체제': 7372, '적법': 7373, '친양자': 7374, '피선거권': 7375, '지방자치': 7376, '자치구': 7377, '경고': 7378, '분할': 7379, '방향': 7380, '미결구금': 7381, '재직': 7382, '군수': 7383, '예금': 7384, '공유': 7385, '성인': 7386, '별로': 7387, '발표': 7388, '조제': 7389, '조합원': 7390, '촬영': 7391, '증거능력': 7392, '적법절차': 7393, '전문성': 7394, '관여': 7395, '이자': 7396, '무기': 7397, '감시': 7398, '불문': 7399, '사례': 7400, '의도': 7401, '파견': 7402, '보안관찰': 7403, '실화': 7404, '연구': 7405, '총장': 7406, '참석': 7407, '정보통': 7408, '이해관계': 7409, '전파': 7410, '의식': 7411, '유도': 7412, '분야': 7413, '보건복지부': 7414, '야기': 7415, '사립학교법': 7416, '일방': 7417, '신뢰보호': 7418, '종래': 7419, '선례': 7420, '단속': 7421, '범행': 7422, '상응': 7423, '범자': 7424, '일보': 7425, '위탁': 7426, '지상파': 7427, '단결권': 7428, '소환투표': 7429, '항만': 7430, '고소': 7431, '공직자윤리법': 7432, '기한': 7433, '상정': 7434, '포기': 7435, '이념': 7436, '일본': 7437, '남성': 7438, '태양': 7439, '물품': 7440, '임신': 7441, '증인신문': 7442, '전반': 7443, '보안': 7444, '지시': 7445, '작위의무': 7446, '먼저': 7447, '추적': 7448, '규모': 7449, '필수': 7450, '시행일': 7451, '방송통신': 7452, '역할': 7453, '대신': 7454, '정당법': 7455, '수립': 7456, '오락': 7457, '위력': 7458, '증인': 7459, '조화': 7460, '본래': 7461, '유기': 7462, '존립': 7463, '수의': 7464, '부득이': 7465, '하위': 7466, '조례': 7467, '전기통신': 7468, '당원': 7469, '검열': 7470, '평균': 7471, '양자': 7472, '폐해': 7473, '합격자': 7474, '보호법익': 7475, '만원': 7476, '생략': 7477, '구별': 7478, '도출': 7479, '결론': 7480, '제작': 7481, '성은': 7482, '변동': 7483, '가정': 7484, '과반수': 7485, '입원': 7486, '골프장': 7487, '행정처분': 7488, '인쇄물': 7489, '도지사': 7490, '폐기물': 7491, '운전자': 7492, '변호': 7493, '성명': 7494, '매수': 7495, '거의': 7496, '불균형': 7497, '요양': 7498, '사적': 7499, '지배': 7500, '인적': 7501, '입학': 7502, '강요': 7503, '반대신문': 7504, '아래': 7505, '특수': 7506, '증여': 7507, '비상': 7508, '교섭단체': 7509, '상소': 7510, '지역구': 7511, '증명서': 7512, '고등법원': 7513, '대체': 7514, '관행': 7515, '방어': 7516, '합격': 7517, '미국': 7518, '관점': 7519, '미리': 7520, '하나로': 7521, '벌칙': 7522, '임원': 7523, '현장': 7524, '특별법': 7525, '강제추행죄': 7526, '소환': 7527, '사상': 7528, '부의': 7529, '피성년후견인': 7530, '인근': 7531, '손해배상': 7532, '대리': 7533, '재산세': 7534, '각각': 7535, '위축': 7536, '상고': 7537, '운용': 7538, '치료': 7539, '결코': 7540, '신설': 7541, '독자': 7542, '고도': 7543, '단체행동권': 7544, '양형': 7545, '대가': 7546, '정안': 7547, '직계': 7548, '축소': 7549, '검찰': 7550, '왜곡': 7551, '선정': 7552, '제대로': 7553, '특수성': 7554, '불법행위': 7555, '북한': 7556, '국민투표': 7557, '문법': 7558, '대표자': 7559, '서명': 7560, '중등': 7561, '형성권': 7562, '직장': 7563, '공백': 7564, '유권자': 7565, '활용': 7566, '적절': 7567, '회원': 7568, '관계자': 7569, '감청': 7570, '후유증': 7571, '장애': 7572, '법률상': 7573, '유해': 7574, '구조': 7575, '국내': 7576, '채용': 7577, '중등교육': 7578, '물의': 7579, '소급': 7580, '재적': 7581, '기속력': 7582, '발급': 7583, '비례원칙': 7584, '동조': 7585, '적법절차원칙': 7586, '부산': 7587, '항소': 7588, '반복': 7589, '정상': 7590, '시효': 7591, '자사고': 7592, '파산': 7593, '배부': 7594, '공표': 7595, '이사': 7596, '과실': 7597, '자산': 7598, '법질서': 7599, '공적': 7600, '비롯': 7601, '담당': 7602, '것임': 7603, '확립': 7604, '경력': 7605, '익명': 7606, '존속': 7607, '도덕': 7608, '민간': 7609, '선발': 7610, '원인': 7611, '교사': 7612, '절대': 7613, '추상': 7614, '해상': 7615, '영향력': 7616, '저해': 7617, '장기': 7618, '배아': 7619, '입양': 7620, '음란': 7621, '상해': 7622, '인증': 7623, '정보보호': 7624, '분쟁': 7625, '주거': 7626, '시한': 7627, '흡연': 7628, '내의': 7629, '방안': 7630, '회계': 7631, '행정소송': 7632, '질의': 7633, '분리': 7634, '시술': 7635, '의회': 7636, '담보': 7637, '상속인': 7638, '교통사고': 7639, '앞서': 7640, '예상': 7641, '공소': 7642, '추천': 7643, '통합': 7644, '전국': 7645, '상실': 7646, '가격': 7647, '혼란': 7648, '비율': 7649, '민족': 7650, '통지': 7651, '보상금': 7652, '평화': 7653, '집필': 7654, '개성': 7655, '소비자': 7656, '벌금형': 7657, '복리': 7658, '임금': 7659, '가처분': 7660, '채택': 7661, '미성년': 7662, '면제': 7663, '예정': 7664, '주식회사': 7665, '기재': 7666, '병역의무': 7667, '귀속': 7668, '외부': 7669, '지속': 7670, '노출': 7671, '작용': 7672, '형사재판': 7673, '손해': 7674, '관련성': 7675, '정법': 7676, '금치': 7677, '결격': 7678, '해고': 7679, '마찬가지': 7680, '정위': 7681, '직원': 7682, '증가': 7683, '잠정': 7684, '형사보상': 7685, '식품': 7686, '도의': 7687, '항고': 7688, '반환': 7689, '발견': 7690, '핵심': 7691, '질병': 7692, '확대': 7693, '조세': 7694, '비로소': 7695, '유류분': 7696, '경선': 7697, '더욱': 7698, '분류': 7699, '친족': 7700, '종업원': 7701, '판사': 7702, '과거': 7703, '직권': 7704, '항소심': 7705, '인권': 7706, '채권자': 7707, '구성원': 7708, '낙태': 7709, '조합': 7710, '편차': 7711, '신분': 7712, '완화': 7713, '성질': 7714, '안건': 7715, '자동차': 7716, '경찰관': 7717, '자등': 7718, '한도': 7719, '성별': 7720, '호가': 7721, '중립성': 7722, '국회의원선거': 7723, '외한': 7724, '부모': 7725, '공판': 7726, '범죄자': 7727, '견해': 7728, '주거침입': 7729, '문화재': 7730, '산입': 7731, '반영': 7732, '집행유예': 7733, '타당': 7734, '의료행위': 7735, '소정': 7736, '명시': 7737, '재건축': 7738, '진료': 7739, '유사': 7740, '징계': 7741, '금지법': 7742, '파악': 7743, '보존': 7744, '추행': 7745, '죄질': 7746, '변화': 7747, '의료법': 7748, '감정': 7749, '징역형': 7750, '회복': 7751, '로써': 7752, '택지': 7753, '연장': 7754, '통보': 7755, '라면': 7756, '비판': 7757, '상대': 7758, '영화': 7759, '국가보안법': 7760, '교섭': 7761, '복무': 7762, '부가': 7763, '입후보': 7764, '전문의': 7765, '금연': 7766, '인격': 7767, '출석': 7768, '상대방': 7769, '인용': 7770, '현행': 7771, '친일': 7772, '법안': 7773, '고등학교': 7774, '압류': 7775, '기탁금': 7776, '주관': 7777, '폭력': 7778, '영상': 7779, '성립': 7780, '의결': 7781, '배분': 7782, '대행': 7783, '승인': 7784, '합의': 7785, '법무부': 7786, '배하': 7787, '횟수': 7788, '나머지': 7789, '독립': 7790, '건물': 7791, '수집': 7792, '대통령선거': 7793, '징수': 7794, '여성': 7795, '법규': 7796, '일체': 7797, '허위': 7798, '과목': 7799, '대학원': 7800, '범한': 7801, '사후': 7802, '적합': 7803, '감안': 7804, '인격권': 7805, '정당화': 7806, '교정': 7807, '보고': 7808, '명예': 7809, '실제': 7810, '위치': 7811, '언론인': 7812, '채취': 7813, '상속': 7814, '지지': 7815, '교도소': 7816, '억제': 7817, '유통': 7818, '법학': 7819, '해소': 7820, '입장': 7821, '공사': 7822, '개입': 7823, '사형': 7824, '구분': 7825, '강간': 7826, '디엔에이': 7827, '공고': 7828, '소유자': 7829, '심리': 7830, '비디오': 7831, '추구': 7832, '성년': 7833, '우선': 7834, '인식': 7835, '시점': 7836, '단지': 7837, '양도': 7838, '실명': 7839, '세무': 7840, '거주': 7841, '고지': 7842, '사익': 7843, '외국': 7844, '통제': 7845, '취하': 7846, '명의': 7847, '보관': 7848, '성범죄': 7849, '상호': 7850, '스스로': 7851, '공공': 7852, '채권': 7853, '강제추행': 7854, '협약': 7855, '문서': 7856, '수수': 7857, '토론': 7858, '삭제': 7859, '작성': 7860, '중인': 7861, '언론사': 7862, '사법시험': 7863, '운동': 7864, '근무': 7865, '기존': 7866, '판례': 7867, '사무': 7868, '신상': 7869, '그대로': 7870, '개월': 7871, '이로': 7872, '치과': 7873, '본회의': 7874, '세무사': 7875, '도시': 7876, '처우': 7877, '건설': 7878, '이탈': 7879, '의료인': 7880, '감독': 7881, '미만': 7882, '경영': 7883, '기록': 7884, '무죄': 7885, '선임': 7886, '가장': 7887, '남용': 7888, '민주': 7889, '중단': 7890, '지적': 7891, '비록': 7892, '조사': 7893, '후견': 7894, '접근': 7895, '시정': 7896, '여지': 7897, '해산': 7898, '위임입법': 7899, '합치': 7900, '사고': 7901, '조정': 7902, '우리나라': 7903, '유죄': 7904, '혜택': 7905, '전원': 7906, '형식': 7907, '오히려': 7908, '행복추구권': 7909, '장애인': 7910, '발행': 7911, '존중': 7912, '사립학교': 7913, '환경': 7914, '당선': 7915, '시기': 7916, '군인': 7917, '종류': 7918, '혐의': 7919, '경쟁': 7920, '그로': 7921, '주민등록': 7922, '이용자': 7923, '자유권': 7924, '최저임금': 7925, '유보': 7926, '종전': 7927, '회사': 7928, '촉진': 7929, '기여': 7930, '효율': 7931, '병합': 7932, '도모': 7933, '수입': 7934, '옥외': 7935, '감사': 7936, '차단': 7937, '부인': 7938, '입법재량': 7939, '유족': 7940, '별개': 7941, '요소': 7942, '명칭': 7943, '방해': 7944, '부합': 7945, '공정': 7946, '시장': 7947, '불허': 7948, '살수': 7949, '정보통신망': 7950, '불복': 7951, '교통': 7952, '윤리': 7953, '재정': 7954, '추정': 7955, '서울': 7956, '안정': 7957, '인지': 7958, '별도': 7959, '표결권': 7960, '자녀': 7961, '준용': 7962, '국회의장': 7963, '종사': 7964, '체육': 7965, '민주주의': 7966, '각종': 7967, '제약': 7968, '게재': 7969, '형태': 7970, '구제': 7971, '제거': 7972, '다시': 7973, '대표': 7974, '구금': 7975, '발전': 7976, '단계': 7977, '담임': 7978, '산정': 7979, '가운데': 7980, '영업': 7981, '병역': 7982, '가결': 7983, '경계': 7984, '즉시': 7985, '준비': 7986, '존엄': 7987, '자로': 7988, '과태료': 7989, '일치': 7990, '자율': 7991, '해결': 7992, '소지': 7993, '후원': 7994, '국제': 7995, '종교': 7996, '유형': 7997, '가입자': 7998, '미결': 7999, '전면': 8000, '상대로': 8001, '특별': 8002, '정성': 8003, '위법': 8004, '수준': 8005, '부착': 8006, '규범': 8007, '동시': 8008, '선포': 8009, '게시판': 8010, '기업': 8011, '증거': 8012, '지방법원': 8013, '박탈': 8014, '비례': 8015, '역시': 8016, '적극': 8017, '근로기준법': 8018, '폐지': 8019, '경과': 8020, '보유': 8021, '협정': 8022, '선거일': 8023, '금고': 8024, '훼손': 8025, '특성': 8026, '예방': 8027, '치료감호': 8028, '구성요건': 8029, '도입': 8030, '등사': 8031, '고엽제': 8032, '보험료': 8033, '인구': 8034, '사생활': 8035, '개시': 8036, '보건': 8037, '타인': 8038, '표결': 8039, '위원': 8040, '출판': 8041, '출생': 8042, '보충': 8043, '일정': 8044, '체결': 8045, '청탁': 8046, '운전면허': 8047, '수급': 8048, '개발': 8049, '연령': 8050, '영장': 8051, '통상': 8052, '이외': 8053, '부터': 8054, '공단': 8055, '추가': 8056, '설정': 8057, '구성': 8058, '상한': 8059, '가중': 8060, '특례법': 8061, '기술': 8062, '방송광고': 8063, '그것': 8064, '체계': 8065, '조직': 8066, '자기': 8067, '서류': 8068, '불합리': 8069, '예측': 8070, '반드시': 8071, '실효': 8072, '등급': 8073, '취업': 8074, '학생': 8075, '금품': 8076, '성도': 8077, '중앙': 8078, '소속': 8079, '소유': 8080, '전문': 8081, '통한': 8082, '행위자': 8083, '객관': 8084, '사용자': 8085, '공권력': 8086, '조력': 8087, '주택': 8088, '금액': 8089, '진흥': 8090, '대학': 8091, '후경': 8092, '일률': 8093, '진행': 8094, '조가': 8095, '이내': 8096, '납부': 8097, '개념': 8098, '제시': 8099, '전자': 8100, '순위': 8101, '변호사시험': 8102, '비밀': 8103, '원리': 8104, '경찰': 8105, '재심': 8106, '방식': 8107, '측면': 8108, '자가': 8109, '학교법인': 8110, '준수': 8111, '반면': 8112, '초과': 8113, '현재': 8114, '누구': 8115, '국회법': 8116, '공무': 8117, '한국': 8118, '전혀': 8119, '행동': 8120, '설립': 8121, '자치': 8122, '성과': 8123, '당사자': 8124, '게시': 8125, '정지': 8126, '금융': 8127, '기초': 8128, '기본': 8129, '사망': 8130, '번호': 8131, '급여': 8132, '예비': 8133, '정신': 8134, '참여': 8135, '각하': 8136, '재범': 8137, '정치자금': 8138, '간의': 8139, '종료': 8140, '재량': 8141, '가액': 8142, '신뢰': 8143, '계약': 8144, '노조': 8145, '퇴직': 8146, '기부': 8147, '형사소송법': 8148, '집단': 8149, '사전': 8150, '재해': 8151, '지방': 8152, '고시': 8153, '성매매': 8154, '제출': 8155, '여러': 8156, '부작위': 8157, '개별': 8158, '세법': 8159, '구속': 8160, '열람': 8161, '긴급': 8162, '충족': 8163, '장소': 8164, '차이': 8165, '태아': 8166, '매체': 8167, '연금': 8168, '환자': 8169, '문화': 8170, '포괄': 8171, '표시': 8172, '동안': 8173, '비교': 8174, '과세': 8175, '현실': 8176, '양심': 8177, '서비스': 8178, '생명': 8179, '정부': 8180, '벌금': 8181, '무효': 8182, '규율': 8183, '조건': 8184, '최소한': 8185, '단서': 8186, '대상자': 8187, '관할': 8188, '전체': 8189, '판매': 8190, '이전': 8191, '현저': 8192, '행정': 8193, '피의자': 8194, '정의': 8195, '성격': 8196, '개인정보': 8197, '능력': 8198, '지급': 8199, '보아': 8200, '보도': 8201, '고용': 8202, '임용': 8203, '주체': 8204, '주민': 8205, '배제': 8206, '부동산': 8207, '회의': 8208, '위험성': 8209, '규칙': 8210, '외국인': 8211, '투표': 8212, '기소': 8213, '인간': 8214, '노동': 8215, '성폭력': 8216, '영역': 8217, '통신': 8218, '의료': 8219, '가입': 8220, '공직': 8221, '지위': 8222, '국가공무원': 8223, '가족': 8224, '장치': 8225, '동의': 8226, '제외': 8227, '국적': 8228, '설치': 8229, '법정형': 8230, '로부터': 8231, '자기결정권': 8232, '비용': 8233, '기타': 8234, '응시': 8235, '전부': 8236, '실현': 8237, '게임': 8238, '매우': 8239, '통해': 8240, '대통령': 8241, '배우자': 8242, '쟁의': 8243, '전제': 8244, '소득': 8245, '기회': 8246, '본문': 8247, '지정': 8248, '생활': 8249, '평가': 8250, '정책': 8251, '불이익': 8252, '과도': 8253, '취급': 8254, '수도': 8255, '선언': 8256, '처리': 8257, '성의': 8258, '신문': 8259, '진술': 8260, '선거권': 8261, '영향': 8262, '시위': 8263, '자료': 8264, '혼인': 8265, '대한민국': 8266, '우려': 8267, '불법': 8268, '광고': 8269, '계획': 8270, '수형': 8271, '법관': 8272, '이행': 8273, '시험': 8274, '허가': 8275, '당시': 8276, '보상': 8277, '소송': 8278, '경제': 8279, '가지': 8280, '불구': 8281, '건강': 8282, '사업자': 8283, '개선': 8284, '의원': 8285, '한정': 8286, '초래': 8287, '장관': 8288, '민법': 8289, '토지': 8290, '청구권': 8291, '제재': 8292, '존재': 8293, '실질': 8294, '안전': 8295, '가치': 8296, '위험': 8297, '정당성': 8298, '지원': 8299, '효력': 8300, '산업': 8301, '반대': 8302, '모든': 8303, '형성': 8304, '거래': 8305, '요청': 8306, '대법원': 8307, '사법': 8308, '징역': 8309, '부정': 8310, '부칙': 8311, '법인': 8312, '강제': 8313, '위해': 8314, '헌법불합치': 8315, '이익': 8316, '지역': 8317, '근로': 8318, '노동조합': 8319, '본인': 8320, '직무': 8321, '시간': 8322, '부여': 8323, '과정': 8324, '상태': 8325, '확보': 8326, '아동': 8327, '전의': 8328, '사이': 8329, '다만': 8330, '지방자치단체': 8331, '거부': 8332, '질서': 8333, '명확': 8334, '상황': 8335, '달리': 8336, '때문': 8337, '예외': 8338, '본질': 8339, '재산권': 8340, '한계': 8341, '성적': 8342, '모두': 8343, '사정': 8344, '실시': 8345, '자격': 8346, '수행': 8347, '국회의원': 8348, '효과': 8349, '마련': 8350, '일부': 8351, '언론': 8352, '피해': 8353, '구역': 8354, '선거구': 8355, '이후': 8356, '검사': 8357, '법적': 8358, '법령': 8359, '피해자': 8360, '공개': 8361, '신고': 8362, '유지': 8363, '방지': 8364, '직업': 8365, '변경': 8366, '규제': 8367, '신체': 8368, '취득': 8369, '내지': 8370, '다수': 8371, '한편': 8372, '선택': 8373, '확정': 8374, '제정': 8375, '법익': 8376, '균형': 8377, '위헌법률심판': 8378, '법정': 8379, '교육': 8380, '필요성': 8381, '관리': 8382, '자신': 8383, '기각': 8384, '기능': 8385, '심사': 8386, '취소': 8387, '학교': 8388, '특정': 8389, '직접': 8390, '운영': 8391, '평등': 8392, '최소': 8393, '공직선거법': 8394, '명령': 8395, '제기': 8396, '형사': 8397, '평등권': 8398, '종합': 8399, '호의': 8400, '개인': 8401, '업무': 8402, '형법': 8403, '차별': 8404, '부담': 8405, '계속': 8406, '자체': 8407, '대통령령': 8408, '활동': 8409, '재산': 8410, '의미': 8411, '단체': 8412, '위임': 8413, '해석': 8414, '취지': 8415, '보험': 8416, '판결': 8417, '심의': 8418, '사안': 8419, '요구': 8420, '사유': 8421, '접견': 8422, '요건': 8423, '사용': 8424, '인의': 8425, '가능성': 8426, '의사': 8427, '교원': 8428, '형벌': 8429, '집행': 8430, '상의': 8431, '것이므': 8432, '책임': 8433, '결과': 8434, '등록': 8435, '합리': 8436, '방송': 8437, '사항': 8438, '근거': 8439, '공익': 8440, '권한': 8441, '부과': 8442, '국회': 8443, '관계': 8444, '제공': 8445, '헌재': 8446, '청소년': 8447, '인터넷': 8448, '문제': 8449, '보기': 8450, '주장': 8451, '대해': 8452, '시설': 8453, '이용': 8454, '근로자': 8455, '달성': 8456, '선거운동': 8457, '집회': 8458, '구체': 8459, '기관': 8460, '처분': 8461, '정치': 8462, '주의': 8463, '표현': 8464, '일반': 8465, '발생': 8466, '과잉': 8467, '포함': 8468, '수용': 8469, '사업': 8470, '행사': 8471, '다른': 8472, '배경': 8473, '정당': 8474, '로서': 8475, '정도': 8476, '또한': 8477, '기준': 8478, '수단': 8479, '위원회': 8480, '사회': 8481, '거나': 8482, '고려': 8483, '시행': 8484, '자의': 8485, '허용': 8486, '위배': 8487, '방법': 8488, '사람': 8489, '공무원': 8490, '조치': 8491, '이상': 8492, '정보': 8493, '의무': 8494, '범죄': 8495, '사실': 8496, '법원': 8497, '선고': 8498, '후보자': 8499, '권리': 8500, '헌법소원': 8501, '판단': 8502, '제도': 8503, '조의': 8504, '관련': 8505, '다음': 8506, '항의': 8507, '절차': 8508, '범위': 8509, '적용': 8510, '기간': 8511, '신청': 8512, '보장': 8513, '해당': 8514, '국민': 8515, '처벌': 8516, '선거': 8517, '부분': 8518, '호로': 8519, '국가': 8520, '보호': 8521, '따라서': 8522, '기본권': 8523, '이하': 8524, '개정': 8525, '의견': 8526, '대하': 8527, '내용': 8528, '자유': 8529, '금지': 8530, '행위': 8531, '위반': 8532, '경우': 8533, '침해': 8534, '헌법': 8535, '결정': 8536}\n"
     ]
    }
   ],
   "source": [
    "# 각 단어와 그 단어에 부여된 인덱스를 리턴\n",
    "print(tokenizer.word_index)"
   ]
  },
  {
   "cell_type": "code",
   "execution_count": null,
   "metadata": {
    "id": "-y4wDS1JMfKe"
   },
   "outputs": [],
   "source": [
    "for key, value in tokenizer.word_counts.items():   # 단어와 빈도수의 쌍(pair)을 key와 value로 받음\n",
    "    print(f\"{key} : {value}\")"
   ]
  },
  {
   "cell_type": "code",
   "execution_count": null,
   "metadata": {
    "id": "Qpy8DpZOY3k4"
   },
   "outputs": [],
   "source": [
    "# word_to_index에서 key와 value를 반대로 저장한 index_to_word를 만듦\n",
    "# => 정수로부터 단어를 알 수 있도록 함\n",
    "\n",
    "\n",
    "index_to_word = {}\n",
    "\n",
    "for key, value in tokenizer.word_index.items():\n",
    "    index_to_word[value] = key\n"
   ]
  },
  {
   "cell_type": "code",
   "execution_count": null,
   "metadata": {
    "colab": {
     "base_uri": "https://localhost:8080/"
    },
    "executionInfo": {
     "elapsed": 4,
     "status": "ok",
     "timestamp": 1719077414656,
     "user": {
      "displayName": "­정윤서(인공지능대학 인공지능학과)",
      "userId": "17405492783781547198"
     },
     "user_tz": -540
    },
    "id": "8RPNFa4UY3iO",
    "outputId": "fe73e4be-359d-4a9a-d716-f1df9c2e2561"
   },
   "outputs": [
    {
     "name": "stdout",
     "output_type": "stream",
     "text": [
      "◎ 빈도수 상위 1번 단어 : 교호신문\n"
     ]
    }
   ],
   "source": [
    "# 인덱스를 입력하여 단어를 확인 (1)\n",
    "\n",
    "print('◎ 빈도수 상위 1번 단어 : {}'.format(index_to_word[1]))\n"
   ]
  },
  {
   "cell_type": "code",
   "execution_count": null,
   "metadata": {
    "colab": {
     "base_uri": "https://localhost:8080/"
    },
    "executionInfo": {
     "elapsed": 753,
     "status": "ok",
     "timestamp": 1719077417199,
     "user": {
      "displayName": "­정윤서(인공지능대학 인공지능학과)",
      "userId": "17405492783781547198"
     },
     "user_tz": -540
    },
    "id": "CTZAynkXY3fc",
    "outputId": "4a4c37e2-bf71-4dc3-a5dc-4c24e9ff418e"
   },
   "outputs": [
    {
     "name": "stdout",
     "output_type": "stream",
     "text": [
      "◎ 빈도수 상위 130번 단어 : 방패\n"
     ]
    }
   ],
   "source": [
    "# 인덱스를 입력하여 단어를 확인 (2)\n",
    "\n",
    "print('◎ 빈도수 상위 130번 단어 : {}'.format(index_to_word[200]))\n"
   ]
  },
  {
   "cell_type": "code",
   "execution_count": null,
   "metadata": {
    "colab": {
     "base_uri": "https://localhost:8080/",
     "height": 348
    },
    "executionInfo": {
     "elapsed": 9,
     "status": "ok",
     "timestamp": 1719077500863,
     "user": {
      "displayName": "­정윤서(인공지능대학 인공지능학과)",
      "userId": "17405492783781547198"
     },
     "user_tz": -540
    },
    "id": "LJSuALKoY3dC",
    "outputId": "be7ecb1d-6c6f-40b3-97a3-5800802d156f"
   },
   "outputs": [
    {
     "data": {
      "application/vnd.google.colaboratory.intrinsic+json": {
       "type": "string"
      },
      "text/plain": [
       "'                                                                                                                                                                                                                                                                                                                                                                                                                     배경 민법 부동산 권리 등기 비로소 대하 효력 발생 대법원 부터 판례 로서 부동산 실질 권리자 자신 다른 사람 이름 등기 소위 명의신탁 등기 경우 외적 명의 탁자 권리자 대내 명의신탁 권리 보유 명의신탁 경우 투기 탈세 탈법 행위 수단 남용 국회 부동산 실권 리자 등기 제정 이르렀다 부동산 물권 변동 경우 명의신탁 약정 명의 탁자 명의 등기 실명 등기 의무 채무 변제 담보 채권자 부동산 물권 이전 경우 양도담보 채무자 채권 금액 채무 변제 담보 기재 서면 등기 신청서 기관 제출 또한 시행 실명 등기 의무 위반 명의신탁 시행일 로부터 유예 기간 이내 실명 등기 의무 이행 기존 명의신탁 부동산 실질 권리 취득 기준 일로 이내 소유권 이전 등기 신청 장기 등기 시행일 로부터 유예 기간 이내 서면 제출 의무 이행 기존 양도담보 대하 부동산 가액 해당 과징금 부과 시장 청장 과징금 부과 사람 부과 처분 취소소송 제기 법원 위헌법률심판 결정 주요 내용 다수 의견 인의 다수 의견 과징금 부과 대해 헌법불합치 선언 개정 효력 법원 기타 국가 기관 지방자치단체 개정 항의 적용 중지 결정 다음 명의신탁 과징금 부과 시행 후의 명의신탁 기존 명의신탁 유예 기간 실명 등기 경우 일률 부동산 가액 해당 과징금 부과 부과 양도소득세 증여 세율 감안 제재 실효 확보 수준 결정 양도소득세 양도 차익 대하 부과 증여세 정액 공제 과세표준 대하 부과 것이므 세율 과징금 부과 율과 부과 액수 보아 또한 과징금 부과 실명 등기 의무 이행 계속 지체 경우 이행강제금 다시 부과 부동산 가액 과징금 부과 고려 또한 명의신탁 의도 정도 사회 위반 유형 차등 부과 방법 다른 참작 사유 일률 비율 구체 경우 제재 염려 더욱이 제정 명의신탁 판례 확립 이용 법률행위 로서 확립 편의 명의신탁 이용 경우 적지 따라서 명의신탁 탈세 투기 방편 이용 그로 이득 실명 등기 의무 지체 기간 얼마나 요소 고려 과징금 차등 부과 가능성 전혀 배제 과잉 금지 평등 소지 장기 등기 과징금 부과 부동산 권리자 적극 자신 명의 숨기 타인 명의 등기부 숨기 사회 의도 개재 경우 상대 것임 장기 등기 경우 그것 적극 행위 단지 극적 이전 등기 무지 무관심 내지 등기 각종 비용 대기 사정 때문 장기간 등기 상태 방치 권리자 상당수 또한 장기 등기 명의신탁 의도 사람 무지 등기 사람 사회 정도 제각기 장기 등기 기본 권리 행사 정해진 기간 소유권 이전 등기 신청 행정 의무 위반 측면 감안 제재 정도 조세 포탈 적용 회피 사회 의도 가지 경우 일률 부동산 평가 해당 과징금 부과 법익 균형 보기 과잉 금지 명의신탁 경우 과징금 부과 측면 평등 위반 양도담보 과징금 부과 양도담보 법률행위 로서 채무 담보 사례 이용 자체 사회 가지 규율 특별법 다른 신고 의무 위반 일반 과태료 정도 비교 행정벌 이상 서면 제출 의무 이행 양도담보 경우 포함 일률 부동산 평가 과징금 부과 법익 균형 과잉 제재 로서 과잉 금지 또한 부동산실명법 시행 위법 행위 명의신탁 경우 정도 과징금 측면 평등 의견 명의신탁 무효 공공 사인 재산권 행사 사적자치 법익 균형 유지 명의신탁 무효 전제 명의신탁 각종 제재 역시 모두 후경 결정 자로 개정 정법 부동산 가액 퍼센트 해당 금액 범위 과징금 부과 부과 기준 부동산 가액 위반 기간 포탈 법령 회피 고려 대통령령 사안 과징금 차등 부과'"
      ]
     },
     "execution_count": 27,
     "metadata": {},
     "output_type": "execute_result"
    }
   ],
   "source": [
    "# index_to_word에서 숫자 0은 패딩을 빈값으로 설정\n",
    "#\n",
    "# 이를 반영하여 index_to_word를 완성\n",
    "\n",
    "index_to_word[0] = ''\n",
    "\n",
    "\n",
    "# X_train[0] 내용 복원\n",
    "\n",
    "text = ' '.join([index_to_word[index] for index in pad_X_train[0]])\n",
    "\n",
    "text\n"
   ]
  },
  {
   "cell_type": "markdown",
   "metadata": {
    "id": "1OAT2GXAu-qR"
   },
   "source": [
    "## **2) LSTM**"
   ]
  },
  {
   "cell_type": "code",
   "execution_count": null,
   "metadata": {
    "id": "__uIVQr_Zi81"
   },
   "outputs": [],
   "source": [
    "# 등장 빈도 순위 하위 7000개의 단어들만 사용\n",
    "\n",
    "vocab_size = 8537 #내가 설정 (성능에 영향 미침)\n",
    "\n",
    "# 길이를 900으로 패딩\n",
    "max_len = 900 #내가 설정 (성능에 영향 미침)"
   ]
  },
  {
   "cell_type": "code",
   "execution_count": null,
   "metadata": {
    "colab": {
     "base_uri": "https://localhost:8080/"
    },
    "executionInfo": {
     "elapsed": 1072,
     "status": "ok",
     "timestamp": 1719086959368,
     "user": {
      "displayName": "­정윤서(인공지능대학 인공지능학과)",
      "userId": "17405492783781547198"
     },
     "user_tz": -540
    },
    "id": "aEzd4Ct6Zi5-",
    "outputId": "fd0f3fb6-faf7-4dfa-b624-64f091572dea"
   },
   "outputs": [
    {
     "name": "stdout",
     "output_type": "stream",
     "text": [
      "Model: \"sequential_18\"\n",
      "_________________________________________________________________\n",
      " Layer (type)                Output Shape              Param #   \n",
      "=================================================================\n",
      " embedding_18 (Embedding)    (None, None, 100)         853700    \n",
      "                                                                 \n",
      " lstm_12 (LSTM)              (None, 128)               117248    \n",
      "                                                                 \n",
      " dense_16 (Dense)            (None, 5)                 645       \n",
      "                                                                 \n",
      "=================================================================\n",
      "Total params: 971593 (3.71 MB)\n",
      "Trainable params: 971593 (3.71 MB)\n",
      "Non-trainable params: 0 (0.00 Byte)\n",
      "_________________________________________________________________\n"
     ]
    }
   ],
   "source": [
    "# 임베딩 벡터의 차원은 100\n",
    "embedding_dim = 100\n",
    "\n",
    "# 은닉 상태의 크기는 128\n",
    "hidden_units = 128\n",
    "\n",
    "# 5개의 분류 중 하나의 선택지를 예측하는 다중 클래스 분류 문제\n",
    "num_classes = 5\n",
    "\n",
    "# 모델 설정\n",
    "model = Sequential()\n",
    "\n",
    "model.add(Embedding(vocab_size, embedding_dim))    # 훈련 파라미터 : embedding_dim * 어휘수\n",
    "\n",
    "model.add(LSTM(hidden_units, dropout=0.5))                      # 훈련 파라미터 : 4(n*m+n*n+n)  /* n : hidden_units 크기 , m : embedding_dim */\n",
    "\n",
    "# 다중 클래스 분류 : 소프트맥스 함수를 사용\n",
    "model.add(Dense(num_classes, activation='softmax'))  # 훈련 파라미터 : (num_classes * hidden_units) + num_classes\n",
    "\n",
    "model.summary()\n"
   ]
  },
  {
   "cell_type": "code",
   "execution_count": null,
   "metadata": {
    "id": "EEDcyMmr4_mP"
   },
   "outputs": [],
   "source": [
    "#@title 🌐 Call Back 함수 설정\n",
    "\n",
    "# (1) 검증 데이터 손실(val_loss)이 증가~~하면, 과적합 징후이므로 검증 데이터 손실이 4회 이내 개선되지 않으면 학습을 조기 종료(Early Stopping) ~~\n",
    "#\n",
    "\n",
    "es = EarlyStopping(monitor='val_loss', mode='min', verbose=1, patience=5)\n",
    "\n",
    "\n",
    "# (2) 또한, ModelCheckpoint를 사용하여 검증 데이터의 정확도(val_acc)가 이전보다 ~~~~~좋아질 경우에만 (최고일 경우에만)~~~ 모델을 저장\n",
    "\n",
    "mc = ModelCheckpoint('best_model_LSTM.h5', monitor='val_acc', mode='max', verbose=1, save_best_only=True)"
   ]
  },
  {
   "cell_type": "code",
   "execution_count": null,
   "metadata": {
    "colab": {
     "base_uri": "https://localhost:8080/"
    },
    "executionInfo": {
     "elapsed": 337726,
     "status": "ok",
     "timestamp": 1719081036617,
     "user": {
      "displayName": "­정윤서(인공지능대학 인공지능학과)",
      "userId": "17405492783781547198"
     },
     "user_tz": -540
    },
    "id": "gGY0lVxCZi0c",
    "outputId": "cc8dbdae-e69e-46a3-e0e4-f103a2f23e56"
   },
   "outputs": [
    {
     "name": "stdout",
     "output_type": "stream",
     "text": [
      "Epoch 1/50\n",
      "8/8 [==============================] - ETA: 0s - loss: 1.6064 - acc: 0.2633\n",
      "Epoch 1: val_acc improved from -inf to 0.21429, saving model to best_model_LSTM.h5\n",
      "8/8 [==============================] - 23s 3s/step - loss: 1.6064 - acc: 0.2633 - val_loss: 1.6054 - val_acc: 0.2143\n",
      "Epoch 2/50\n",
      "8/8 [==============================] - ETA: 0s - loss: 1.5819 - acc: 0.2633\n",
      "Epoch 2: val_acc did not improve from 0.21429\n",
      "8/8 [==============================] - 18s 2s/step - loss: 1.5819 - acc: 0.2633 - val_loss: 1.6102 - val_acc: 0.2143\n",
      "Epoch 3/50\n",
      "8/8 [==============================] - ETA: 0s - loss: 1.6350 - acc: 0.3183\n",
      "Epoch 3: val_acc improved from 0.21429 to 0.32540, saving model to best_model_LSTM.h5\n",
      "8/8 [==============================] - 18s 2s/step - loss: 1.6350 - acc: 0.3183 - val_loss: 1.5864 - val_acc: 0.3254\n",
      "Epoch 4/50\n",
      "8/8 [==============================] - ETA: 0s - loss: 1.5239 - acc: 0.4283\n",
      "Epoch 4: val_acc did not improve from 0.32540\n",
      "8/8 [==============================] - 19s 2s/step - loss: 1.5239 - acc: 0.4283 - val_loss: 1.5815 - val_acc: 0.2698\n",
      "Epoch 5/50\n",
      "8/8 [==============================] - ETA: 0s - loss: 1.4777 - acc: 0.4558\n",
      "Epoch 5: val_acc did not improve from 0.32540\n",
      "8/8 [==============================] - 19s 2s/step - loss: 1.4777 - acc: 0.4558 - val_loss: 1.5383 - val_acc: 0.2698\n",
      "Epoch 6/50\n",
      "8/8 [==============================] - ETA: 0s - loss: 1.4010 - acc: 0.5717\n",
      "Epoch 6: val_acc improved from 0.32540 to 0.36508, saving model to best_model_LSTM.h5\n",
      "8/8 [==============================] - 18s 2s/step - loss: 1.4010 - acc: 0.5717 - val_loss: 1.5306 - val_acc: 0.3651\n",
      "Epoch 7/50\n",
      "8/8 [==============================] - ETA: 0s - loss: 1.3354 - acc: 0.6346\n",
      "Epoch 7: val_acc did not improve from 0.36508\n",
      "8/8 [==============================] - 18s 2s/step - loss: 1.3354 - acc: 0.6346 - val_loss: 1.4744 - val_acc: 0.3571\n",
      "Epoch 8/50\n",
      "8/8 [==============================] - ETA: 0s - loss: 1.1052 - acc: 0.5619\n",
      "Epoch 8: val_acc did not improve from 0.36508\n",
      "8/8 [==============================] - 20s 3s/step - loss: 1.1052 - acc: 0.5619 - val_loss: 1.3081 - val_acc: 0.3651\n",
      "Epoch 9/50\n",
      "8/8 [==============================] - ETA: 0s - loss: 0.9583 - acc: 0.5069\n",
      "Epoch 9: val_acc improved from 0.36508 to 0.40476, saving model to best_model_LSTM.h5\n",
      "8/8 [==============================] - 18s 2s/step - loss: 0.9583 - acc: 0.5069 - val_loss: 1.3275 - val_acc: 0.4048\n",
      "Epoch 10/50\n",
      "8/8 [==============================] - ETA: 0s - loss: 0.8169 - acc: 0.6640\n",
      "Epoch 10: val_acc improved from 0.40476 to 0.50794, saving model to best_model_LSTM.h5\n",
      "8/8 [==============================] - 18s 2s/step - loss: 0.8169 - acc: 0.6640 - val_loss: 1.3106 - val_acc: 0.5079\n",
      "Epoch 11/50\n",
      "8/8 [==============================] - ETA: 0s - loss: 0.6456 - acc: 0.7800\n",
      "Epoch 11: val_acc did not improve from 0.50794\n",
      "8/8 [==============================] - 19s 3s/step - loss: 0.6456 - acc: 0.7800 - val_loss: 1.4892 - val_acc: 0.4444\n",
      "Epoch 12/50\n",
      "8/8 [==============================] - ETA: 0s - loss: 0.5418 - acc: 0.8035\n",
      "Epoch 12: val_acc improved from 0.50794 to 0.53968, saving model to best_model_LSTM.h5\n",
      "8/8 [==============================] - 19s 2s/step - loss: 0.5418 - acc: 0.8035 - val_loss: 1.3656 - val_acc: 0.5397\n",
      "Epoch 13/50\n",
      "8/8 [==============================] - ETA: 0s - loss: 0.3996 - acc: 0.8762\n",
      "Epoch 13: val_acc improved from 0.53968 to 0.55556, saving model to best_model_LSTM.h5\n",
      "8/8 [==============================] - 18s 2s/step - loss: 0.3996 - acc: 0.8762 - val_loss: 1.2692 - val_acc: 0.5556\n",
      "Epoch 14/50\n",
      "8/8 [==============================] - ETA: 0s - loss: 0.2917 - acc: 0.9234\n",
      "Epoch 14: val_acc did not improve from 0.55556\n",
      "8/8 [==============================] - 18s 2s/step - loss: 0.2917 - acc: 0.9234 - val_loss: 1.3426 - val_acc: 0.5159\n",
      "Epoch 15/50\n",
      "8/8 [==============================] - ETA: 0s - loss: 0.1971 - acc: 0.9470\n",
      "Epoch 15: val_acc did not improve from 0.55556\n",
      "8/8 [==============================] - 20s 2s/step - loss: 0.1971 - acc: 0.9470 - val_loss: 1.5410 - val_acc: 0.5317\n",
      "Epoch 16/50\n",
      "8/8 [==============================] - ETA: 0s - loss: 0.1428 - acc: 0.9568\n",
      "Epoch 16: val_acc did not improve from 0.55556\n",
      "8/8 [==============================] - 18s 2s/step - loss: 0.1428 - acc: 0.9568 - val_loss: 1.5540 - val_acc: 0.5556\n",
      "Epoch 17/50\n",
      "8/8 [==============================] - ETA: 0s - loss: 0.1692 - acc: 0.9705\n",
      "Epoch 17: val_acc did not improve from 0.55556\n",
      "8/8 [==============================] - 18s 2s/step - loss: 0.1692 - acc: 0.9705 - val_loss: 1.3533 - val_acc: 0.5317\n",
      "Epoch 18/50\n",
      "8/8 [==============================] - ETA: 0s - loss: 0.0820 - acc: 0.9902\n",
      "Epoch 18: val_acc improved from 0.55556 to 0.61111, saving model to best_model_LSTM.h5\n",
      "8/8 [==============================] - 18s 2s/step - loss: 0.0820 - acc: 0.9902 - val_loss: 1.5504 - val_acc: 0.6111\n",
      "Epoch 18: early stopping\n",
      "CPU times: user 8min 28s, sys: 23.1 s, total: 8min 51s\n",
      "Wall time: 5min 37s\n"
     ]
    }
   ],
   "source": [
    "# Keras 사용시 최대한 reproducible results 를 얻기 위해 아래 코드 실행 (단, 완벽하지는 않음)\n",
    "#\n",
    "# 매번 정확하게 동일한 결과를 얻기 위해서는 (1) GPU 대신 CPU 를 사용하고, (2) Mulithread 를 사용하지 않도록 조정 해야함\n",
    "#\n",
    "\n",
    "seed_num = 100\n",
    "\n",
    "np.random.seed(seed_num)         # Numpy generated random numbers\n",
    "rn.seed(seed_num)                # Python generated random numbers\n",
    "tf.random.set_seed(seed_num)     # TensorFlow generated random numbers\n",
    "\n",
    "# 손실 함수로 크로스 엔트로피 함수를 사용\n",
    "model.compile(loss='categorical_crossentropy', optimizer='adam', metrics=['acc'])\n",
    "\n",
    "\n",
    "%time history = model.fit(pad_X_train, y_train, batch_size=64, epochs=50, callbacks=[es, mc], validation_data=(pad_X_test, y_test))\n",
    "#%time history = model.fit(pad_X_train, y_train, batch_size=64, epochs=50, validation_data=(pad_X_test, y_test)) #callback 없는 버전\n"
   ]
  },
  {
   "cell_type": "code",
   "execution_count": null,
   "metadata": {
    "colab": {
     "base_uri": "https://localhost:8080/",
     "height": 413
    },
    "executionInfo": {
     "elapsed": 1321,
     "status": "ok",
     "timestamp": 1719081094624,
     "user": {
      "displayName": "­정윤서(인공지능대학 인공지능학과)",
      "userId": "17405492783781547198"
     },
     "user_tz": -540
    },
    "id": "mGMvEh3fDtey",
    "outputId": "994cf9ac-6641-46c5-9498-ac2ec4f37b33"
   },
   "outputs": [
    {
     "data": {
      "image/png": "[encoded data removed]",
      "text/plain": [
       "<Figure size 900x400 with 2 Axes>"
      ]
     },
     "metadata": {},
     "output_type": "display_data"
    }
   ],
   "source": [
    "fig = plt.figure(figsize=(9,4))\n",
    "\n",
    "plt.subplot(1,2,1)\n",
    "plt.plot(history.history['loss'], color=\"limegreen\", label = \"Loss\")\n",
    "plt.plot(history.history['val_loss'], color=\"gold\", label = \"Validation Loss\")\n",
    "plt.title(\"LOSS\")\n",
    "plt.ylabel(\"Loss\")\n",
    "plt.xlabel(\"Number of Epochs\")\n",
    "plt.legend()\n",
    "\n",
    "plt.subplot(1,2,2)\n",
    "plt.plot(history.history['acc'], color=\"limegreen\", label = \"Accuracy\")\n",
    "plt.plot(history.history['val_acc'], color=\"gold\", label = \"Validation Accuracy\")\n",
    "plt.title(\"ACCURACY\")\n",
    "plt.ylabel(\"Accuracy\")\n",
    "plt.xlabel(\"Number of Epochs\")\n",
    "plt.legend()\n",
    "\n",
    "plt.suptitle(\"LSTM\", fontsize=15)\n",
    "fig.tight_layout() # 사용하면 플롯간 여백을 조정\n",
    "\n",
    "plt.show()"
   ]
  },
  {
   "cell_type": "code",
   "execution_count": null,
   "metadata": {
    "colab": {
     "base_uri": "https://localhost:8080/"
    },
    "executionInfo": {
     "elapsed": 5415,
     "status": "ok",
     "timestamp": 1719085581927,
     "user": {
      "displayName": "­정윤서(인공지능대학 인공지능학과)",
      "userId": "17405492783781547198"
     },
     "user_tz": -540
    },
    "id": "hYi0lpAaZixl",
    "outputId": "71dd8c1a-0dfc-471a-fe0f-355bf3471dac"
   },
   "outputs": [
    {
     "name": "stdout",
     "output_type": "stream",
     "text": [
      "4/4 [==============================] - 3s 354ms/step - loss: 1.5504 - acc: 0.6111\n",
      "[1.5504484176635742, 0.6111111044883728]\n",
      "\n",
      "\n",
      "◎ 테스트 정확도: 0.6111\n"
     ]
    }
   ],
   "source": [
    "# 저장된 모델인 'best_model.h5'를 로드하고, 성능을 평가\n",
    "\n",
    "loaded_model = load_model('best_model_LSTM.h5')\n",
    "\n",
    "\n",
    "# loaded_model.evaluate 출력값 : loss & acc 값이 출력됨\n",
    "#\n",
    "# loss 값 출력시 [0]으로 호출\n",
    "# acc 값 출력시 [1]으로 호출\n",
    "\n",
    "# acc = loaded_model.evaluate(X_test, y_test)[1]\n",
    "\n",
    "acc = loaded_model.evaluate(pad_X_test, y_test)\n",
    "\n",
    "print(acc)\n",
    "print()\n",
    "\n",
    "print(\"\\n◎ 테스트 정확도: %.4f\" % (acc[1]))\n"
   ]
  },
  {
   "cell_type": "markdown",
   "metadata": {
    "id": "K5wb65cEfB9H"
   },
   "source": [
    "### confusion matrix"
   ]
  },
  {
   "cell_type": "code",
   "execution_count": null,
   "metadata": {
    "colab": {
     "base_uri": "https://localhost:8080/",
     "height": 489
    },
    "executionInfo": {
     "elapsed": 6931,
     "status": "ok",
     "timestamp": 1719085603638,
     "user": {
      "displayName": "­정윤서(인공지능대학 인공지능학과)",
      "userId": "17405492783781547198"
     },
     "user_tz": -540
    },
    "id": "hkPczFR4fB9I",
    "outputId": "ca9e7d26-c301-47b9-e04b-64a1569469e9"
   },
   "outputs": [
    {
     "name": "stdout",
     "output_type": "stream",
     "text": [
      "4/4 [==============================] - 4s 873ms/step\n"
     ]
    },
    {
     "data": {
      "image/png": "[encoded data removed]",
      "text/plain": [
       "<Figure size 640x480 with 2 Axes>"
      ]
     },
     "metadata": {},
     "output_type": "display_data"
    }
   ],
   "source": [
    "from sklearn.metrics import confusion_matrix, ConfusionMatrixDisplay\n",
    "\n",
    "y_pred_prob = loaded_model.predict(pad_X_test)\n",
    "y_pred = np.argmax(y_pred_prob, axis=1)\n",
    "\n",
    "y_test_re = np.argmax(y_test, axis=1)\n",
    "\n",
    "# Confusion Matrix 생성\n",
    "cm = confusion_matrix(y_test_re, y_pred)\n",
    "\n",
    "# Confusion Matrix 시각화\n",
    "disp = ConfusionMatrixDisplay(confusion_matrix=cm, display_labels=range(num_classes))\n",
    "disp.plot(cmap=plt.cm.Blues)\n",
    "plt.title(\"LSTM\")\n",
    "plt.show()"
   ]
  },
  {
   "cell_type": "markdown",
   "metadata": {
    "id": "XrSegiEw_ewj"
   },
   "source": [
    "## **3) BiLSTM**"
   ]
  },
  {
   "cell_type": "code",
   "execution_count": null,
   "metadata": {
    "id": "9Hn6pSMD_AEz"
   },
   "outputs": [],
   "source": [
    "# 등장 빈도 순위 상위 n개의 단어들만 사용\n",
    "vocab_size = 8537\n",
    "\n",
    "# 모든 길이를 900으로 패딩\n",
    "max_len = 900"
   ]
  },
  {
   "cell_type": "code",
   "execution_count": null,
   "metadata": {
    "colab": {
     "base_uri": "https://localhost:8080/"
    },
    "executionInfo": {
     "elapsed": 1522,
     "status": "ok",
     "timestamp": 1719081982791,
     "user": {
      "displayName": "­정윤서(인공지능대학 인공지능학과)",
      "userId": "17405492783781547198"
     },
     "user_tz": -540
    },
    "id": "HhRqbRu-_HEv",
    "outputId": "a99c85e1-242c-41a4-988c-8eecd207014a"
   },
   "outputs": [
    {
     "name": "stdout",
     "output_type": "stream",
     "text": [
      "Model: \"sequential_10\"\n",
      "_________________________________________________________________\n",
      " Layer (type)                Output Shape              Param #   \n",
      "=================================================================\n",
      " embedding_10 (Embedding)    (None, None, 100)         853700    \n",
      "                                                                 \n",
      " bidirectional_1 (Bidirecti  (None, 256)               234496    \n",
      " onal)                                                           \n",
      "                                                                 \n",
      " dense_10 (Dense)            (None, 5)                 1285      \n",
      "                                                                 \n",
      "=================================================================\n",
      "Total params: 1089481 (4.16 MB)\n",
      "Trainable params: 1089481 (4.16 MB)\n",
      "Non-trainable params: 0 (0.00 Byte)\n",
      "_________________________________________________________________\n"
     ]
    }
   ],
   "source": [
    "# 임베딩 벡터의 차원은 100\n",
    "embedding_dim = 100\n",
    "\n",
    "# 은닉 상태의 크기는 128\n",
    "hidden_units = 128\n",
    "\n",
    "# 5개의 분류 중 하나의 선택지를 예측하는 다중 클래스 분류 문제\n",
    "num_classes = 5\n",
    "\n",
    "\n",
    "# 모델 설정\n",
    "model_bi = Sequential()\n",
    "\n",
    "model_bi.add(Embedding(vocab_size, embedding_dim))\n",
    "\n",
    "model_bi.add(Bidirectional(LSTM(hidden_units, dropout=0.5)))        # >>>Bidirectional LSTM<<을 사용  👈👈👈\n",
    "\n",
    "model_bi.add(Dense(num_classes, activation='softmax')) # 다중 클래스 분류 문제의 경우, 소프트맥스 함수를 사용\n",
    "\n",
    "\n",
    "model_bi.summary()\n"
   ]
  },
  {
   "cell_type": "code",
   "execution_count": null,
   "metadata": {
    "id": "kY0nQjik5csx"
   },
   "outputs": [],
   "source": [
    "#@title 🌐 Call Back 함수 설정\n",
    "#\n",
    "# 검증 데이터 손실(val_loss)이 증가하면, 과적합 징후이므로 검증 데이터 손실이 4회 이내 개선되지 않으면 학습을 조기 종료(Early Stopping)\n",
    "#\n",
    "\n",
    "es = EarlyStopping(monitor='val_loss', mode='min', verbose=1, patience=5)\n",
    "\n",
    "\n",
    "# 또한, ModelCheckpoint를 사용하여 검증 데이터의 정확도(val_acc)가 이전보다 좋아질 경우에만 모델을 저장\n",
    "\n",
    "mc = ModelCheckpoint('best_model_biLSTM.h5', monitor='val_acc', mode='max', verbose=1, save_best_only=True)\n"
   ]
  },
  {
   "cell_type": "code",
   "execution_count": null,
   "metadata": {
    "colab": {
     "base_uri": "https://localhost:8080/"
    },
    "executionInfo": {
     "elapsed": 593746,
     "status": "ok",
     "timestamp": 1719082580185,
     "user": {
      "displayName": "­정윤서(인공지능대학 인공지능학과)",
      "userId": "17405492783781547198"
     },
     "user_tz": -540
    },
    "id": "Bh0BWyl5_HAP",
    "outputId": "627c7af7-0e9b-4f63-d703-1c9d22c94a30"
   },
   "outputs": [
    {
     "name": "stdout",
     "output_type": "stream",
     "text": [
      "Epoch 1/30\n",
      "8/8 [==============================] - ETA: 0s - loss: 1.6028 - acc: 0.2534\n",
      "Epoch 1: val_acc improved from -inf to 0.21429, saving model to best_model_biLSTM.h5\n",
      "8/8 [==============================] - 44s 5s/step - loss: 1.6028 - acc: 0.2534 - val_loss: 1.6162 - val_acc: 0.2143\n",
      "Epoch 2/30\n",
      "8/8 [==============================] - ETA: 0s - loss: 1.5861 - acc: 0.2593\n",
      "Epoch 2: val_acc did not improve from 0.21429\n",
      "8/8 [==============================] - 35s 5s/step - loss: 1.5861 - acc: 0.2593 - val_loss: 1.6141 - val_acc: 0.2143\n",
      "Epoch 3/30\n",
      "8/8 [==============================] - ETA: 0s - loss: 1.5311 - acc: 0.3045\n",
      "Epoch 3: val_acc improved from 0.21429 to 0.33333, saving model to best_model_biLSTM.h5\n",
      "8/8 [==============================] - 38s 5s/step - loss: 1.5311 - acc: 0.3045 - val_loss: 1.6611 - val_acc: 0.3333\n",
      "Epoch 4/30\n",
      "8/8 [==============================] - ETA: 0s - loss: 1.4179 - acc: 0.4578\n",
      "Epoch 4: val_acc did not improve from 0.33333\n",
      "8/8 [==============================] - 35s 4s/step - loss: 1.4179 - acc: 0.4578 - val_loss: 1.5645 - val_acc: 0.2937\n",
      "Epoch 5/30\n",
      "8/8 [==============================] - ETA: 0s - loss: 1.4496 - acc: 0.4695\n",
      "Epoch 5: val_acc did not improve from 0.33333\n",
      "8/8 [==============================] - 38s 5s/step - loss: 1.4496 - acc: 0.4695 - val_loss: 1.5434 - val_acc: 0.2619\n",
      "Epoch 6/30\n",
      "8/8 [==============================] - ETA: 0s - loss: 1.3313 - acc: 0.4342\n",
      "Epoch 6: val_acc did not improve from 0.33333\n",
      "8/8 [==============================] - 36s 5s/step - loss: 1.3313 - acc: 0.4342 - val_loss: 1.4660 - val_acc: 0.3175\n",
      "Epoch 7/30\n",
      "8/8 [==============================] - ETA: 0s - loss: 1.2114 - acc: 0.6817\n",
      "Epoch 7: val_acc improved from 0.33333 to 0.49206, saving model to best_model_biLSTM.h5\n",
      "8/8 [==============================] - 37s 5s/step - loss: 1.2114 - acc: 0.6817 - val_loss: 1.3516 - val_acc: 0.4921\n",
      "Epoch 8/30\n",
      "8/8 [==============================] - ETA: 0s - loss: 1.0912 - acc: 0.6817\n",
      "Epoch 8: val_acc did not improve from 0.49206\n",
      "8/8 [==============================] - 35s 4s/step - loss: 1.0912 - acc: 0.6817 - val_loss: 1.3751 - val_acc: 0.3889\n",
      "Epoch 9/30\n",
      "8/8 [==============================] - ETA: 0s - loss: 0.8776 - acc: 0.6876\n",
      "Epoch 9: val_acc did not improve from 0.49206\n",
      "8/8 [==============================] - 38s 5s/step - loss: 0.8776 - acc: 0.6876 - val_loss: 1.2782 - val_acc: 0.4921\n",
      "Epoch 10/30\n",
      "8/8 [==============================] - ETA: 0s - loss: 0.6778 - acc: 0.7387\n",
      "Epoch 10: val_acc did not improve from 0.49206\n",
      "8/8 [==============================] - 36s 5s/step - loss: 0.6778 - acc: 0.7387 - val_loss: 1.2992 - val_acc: 0.4762\n",
      "Epoch 11/30\n",
      "8/8 [==============================] - ETA: 0s - loss: 0.6175 - acc: 0.7505\n",
      "Epoch 11: val_acc improved from 0.49206 to 0.50794, saving model to best_model_biLSTM.h5\n",
      "8/8 [==============================] - 38s 5s/step - loss: 0.6175 - acc: 0.7505 - val_loss: 1.2072 - val_acc: 0.5079\n",
      "Epoch 12/30\n",
      "8/8 [==============================] - ETA: 0s - loss: 0.4917 - acc: 0.8546\n",
      "Epoch 12: val_acc did not improve from 0.50794\n",
      "8/8 [==============================] - 36s 5s/step - loss: 0.4917 - acc: 0.8546 - val_loss: 1.5014 - val_acc: 0.4683\n",
      "Epoch 13/30\n",
      "8/8 [==============================] - ETA: 0s - loss: 0.3964 - acc: 0.8546\n",
      "Epoch 13: val_acc improved from 0.50794 to 0.61111, saving model to best_model_biLSTM.h5\n",
      "8/8 [==============================] - 39s 5s/step - loss: 0.3964 - acc: 0.8546 - val_loss: 1.2103 - val_acc: 0.6111\n",
      "Epoch 14/30\n",
      "8/8 [==============================] - ETA: 0s - loss: 0.3416 - acc: 0.9057\n",
      "Epoch 14: val_acc did not improve from 0.61111\n",
      "8/8 [==============================] - 36s 5s/step - loss: 0.3416 - acc: 0.9057 - val_loss: 1.2732 - val_acc: 0.5556\n",
      "Epoch 15/30\n",
      "8/8 [==============================] - ETA: 0s - loss: 0.2938 - acc: 0.9391\n",
      "Epoch 15: val_acc did not improve from 0.61111\n",
      "8/8 [==============================] - 39s 5s/step - loss: 0.2938 - acc: 0.9391 - val_loss: 1.3303 - val_acc: 0.5635\n",
      "Epoch 16/30\n",
      "8/8 [==============================] - ETA: 0s - loss: 0.4291 - acc: 0.9077\n",
      "Epoch 16: val_acc did not improve from 0.61111\n",
      "8/8 [==============================] - 35s 5s/step - loss: 0.4291 - acc: 0.9077 - val_loss: 1.3193 - val_acc: 0.4921\n",
      "Epoch 16: early stopping\n",
      "CPU times: user 14min 57s, sys: 53.6 s, total: 15min 50s\n",
      "Wall time: 9min 53s\n"
     ]
    }
   ],
   "source": [
    "# random seed 설정\n",
    "\n",
    "seed_num = 100\n",
    "\n",
    "np.random.seed(seed_num)         # Numpy generated random numbers\n",
    "rn.seed(seed_num)                # Python generated random numbers\n",
    "tf.random.set_seed(seed_num)     # TensorFlow generated random numbers\n",
    "\n",
    "# 손실 함수로 크로스 엔트로피 함수를 사용\n",
    "model_bi.compile(loss='categorical_crossentropy', optimizer='adam', metrics=['acc'])\n",
    "\n",
    "%time history = model_bi.fit(pad_X_train, y_train, batch_size=64, epochs=30, callbacks=[es, mc], validation_data=(pad_X_test, y_test))\n"
   ]
  },
  {
   "cell_type": "code",
   "execution_count": null,
   "metadata": {
    "colab": {
     "base_uri": "https://localhost:8080/",
     "height": 413
    },
    "executionInfo": {
     "elapsed": 1405,
     "status": "ok",
     "timestamp": 1719082761380,
     "user": {
      "displayName": "­정윤서(인공지능대학 인공지능학과)",
      "userId": "17405492783781547198"
     },
     "user_tz": -540
    },
    "id": "AxKxYliE_G4L",
    "outputId": "e185f58e-26de-43bc-a39b-bd74f0f46dc0"
   },
   "outputs": [
    {
     "data": {
      "image/png": "[encoded data removed]",
      "text/plain": [
       "<Figure size 900x400 with 2 Axes>"
      ]
     },
     "metadata": {},
     "output_type": "display_data"
    }
   ],
   "source": [
    "fig = plt.figure(figsize=(9,4))\n",
    "\n",
    "plt.subplot(1,2,1)\n",
    "plt.plot(history.history['loss'], color=\"limegreen\", label = \"Loss\")\n",
    "plt.plot(history.history['val_loss'], color=\"gold\", label = \"Validation Loss\")\n",
    "plt.title(\"LOSS\")\n",
    "plt.ylabel(\"Loss\")\n",
    "plt.xlabel(\"Number of Epochs\")\n",
    "plt.legend()\n",
    "\n",
    "plt.subplot(1,2,2)\n",
    "plt.plot(history.history['acc'], color=\"limegreen\", label = \"Accuracy\")\n",
    "plt.plot(history.history['val_acc'], color=\"gold\", label = \"Validation Accuracy\")\n",
    "plt.title(\"ACCURACY\")\n",
    "plt.ylabel(\"Accuracy\")\n",
    "plt.xlabel(\"Number of Epochs\")\n",
    "plt.legend()\n",
    "\n",
    "plt.suptitle(\"Bi LSTM\", fontsize=15)\n",
    "fig.tight_layout() # 사용하면 플롯간 여백을 조정\n",
    "\n",
    "plt.show()"
   ]
  },
  {
   "cell_type": "code",
   "execution_count": null,
   "metadata": {
    "colab": {
     "base_uri": "https://localhost:8080/"
    },
    "executionInfo": {
     "elapsed": 7065,
     "status": "ok",
     "timestamp": 1719085653027,
     "user": {
      "displayName": "­정윤서(인공지능대학 인공지능학과)",
      "userId": "17405492783781547198"
     },
     "user_tz": -540
    },
    "id": "0bAik_mE_G8R",
    "outputId": "be1b76ed-7266-4555-c9d1-a54acacc75f4"
   },
   "outputs": [
    {
     "name": "stdout",
     "output_type": "stream",
     "text": [
      "4/4 [==============================] - 5s 641ms/step - loss: 1.2103 - acc: 0.6111\n",
      "[1.2102848291397095, 0.6111111044883728]\n",
      "\n",
      "\n",
      "◎ 테스트 정확도: 0.6111\n"
     ]
    }
   ],
   "source": [
    "# 저장된 모델인 'best_model_biLSTM.h5'를 로드하고, 성능을 평가\n",
    "\n",
    "loaded_model = load_model('best_model_biLSTM.h5')\n",
    "\n",
    "acc = loaded_model.evaluate(pad_X_test, y_test)\n",
    "\n",
    "print(acc)\n",
    "print()\n",
    "\n",
    "print(\"\\n◎ 테스트 정확도: %.4f\" % (acc[1]))\n"
   ]
  },
  {
   "cell_type": "markdown",
   "metadata": {
    "id": "-cXVA8YvfQw_"
   },
   "source": [
    "### confusion matrix"
   ]
  },
  {
   "cell_type": "code",
   "execution_count": null,
   "metadata": {
    "colab": {
     "base_uri": "https://localhost:8080/",
     "height": 489
    },
    "executionInfo": {
     "elapsed": 12673,
     "status": "ok",
     "timestamp": 1719085665692,
     "user": {
      "displayName": "­정윤서(인공지능대학 인공지능학과)",
      "userId": "17405492783781547198"
     },
     "user_tz": -540
    },
    "id": "K4q9UXETfQxF",
    "outputId": "06c52224-7a3c-4caf-c4c2-193ec61f7145"
   },
   "outputs": [
    {
     "name": "stdout",
     "output_type": "stream",
     "text": [
      "4/4 [==============================] - 6s 1s/step\n"
     ]
    },
    {
     "data": {
      "image/png": "[encoded data removed]",
      "text/plain": [
       "<Figure size 640x480 with 2 Axes>"
      ]
     },
     "metadata": {},
     "output_type": "display_data"
    }
   ],
   "source": [
    "from sklearn.metrics import confusion_matrix, ConfusionMatrixDisplay\n",
    "\n",
    "y_pred_prob = loaded_model.predict(pad_X_test)\n",
    "y_pred = np.argmax(y_pred_prob, axis=1)\n",
    "\n",
    "y_test_re = np.argmax(y_test, axis=1)\n",
    "\n",
    "# Confusion Matrix 생성\n",
    "cm = confusion_matrix(y_test_re, y_pred)\n",
    "\n",
    "# Confusion Matrix 시각화\n",
    "disp = ConfusionMatrixDisplay(confusion_matrix=cm, display_labels=range(num_classes))\n",
    "disp.plot(cmap=plt.cm.Blues)\n",
    "plt.title(\"Bi LSTM\")\n",
    "plt.show()"
   ]
  },
  {
   "cell_type": "markdown",
   "metadata": {
    "id": "kxaAYBSLEcuA"
   },
   "source": [
    "## **4) GRU**"
   ]
  },
  {
   "cell_type": "code",
   "execution_count": null,
   "metadata": {
    "colab": {
     "base_uri": "https://localhost:8080/"
    },
    "executionInfo": {
     "elapsed": 470,
     "status": "ok",
     "timestamp": 1719084786249,
     "user": {
      "displayName": "­정윤서(인공지능대학 인공지능학과)",
      "userId": "17405492783781547198"
     },
     "user_tz": -540
    },
    "id": "YDEPpKsWDhQD",
    "outputId": "2f447750-bf2d-4b4a-d82a-1e2a943e38ec"
   },
   "outputs": [
    {
     "name": "stdout",
     "output_type": "stream",
     "text": [
      "Model: \"sequential_16\"\n",
      "_________________________________________________________________\n",
      " Layer (type)                Output Shape              Param #   \n",
      "=================================================================\n",
      " embedding_16 (Embedding)    (None, None, 100)         853700    \n",
      "                                                                 \n",
      " gru_3 (GRU)                 (None, 128)               88320     \n",
      "                                                                 \n",
      " dense_14 (Dense)            (None, 5)                 645       \n",
      "                                                                 \n",
      "=================================================================\n",
      "Total params: 942665 (3.60 MB)\n",
      "Trainable params: 942665 (3.60 MB)\n",
      "Non-trainable params: 0 (0.00 Byte)\n",
      "_________________________________________________________________\n"
     ]
    }
   ],
   "source": [
    "# 임베딩 벡터의 차원은 100\n",
    "embedding_dim = 100\n",
    "\n",
    "# 은닉 상태의 크기는 128\n",
    "hidden_units = 128\n",
    "\n",
    "# 5개의 분류 중 하나의 선택지를 예측하는 다중 클래스 분류 문제\n",
    "num_classes = 5\n",
    "\n",
    "# 모델 설정\n",
    "\n",
    "model_bi = Sequential()\n",
    "\n",
    "model_bi.add(Embedding(vocab_size, embedding_dim))\n",
    "\n",
    "model_bi.add(GRU(hidden_units, dropout=0.5))        # GRU 사용  👈👈👈\n",
    "\n",
    "model_bi.add(Dense(num_classes, activation='softmax')) # 다중 클래스 분류 문제의 경우, 소프트맥스 함수를 사용\n",
    "\n",
    "\n",
    "model_bi.summary()\n"
   ]
  },
  {
   "cell_type": "code",
   "execution_count": null,
   "metadata": {
    "id": "xKeEkhrHDhNf"
   },
   "outputs": [],
   "source": [
    "#@title 🌐 Call Back 함수 설정\n",
    "#\n",
    "# 검증 데이터 손실(val_loss)이 증가하면, 과적합 징후이므로 검증 데이터 손실이 4회 이내 개선되지 않으면 학습을 조기 종료(Early Stopping)\n",
    "#\n",
    "\n",
    "es = EarlyStopping(monitor='val_loss', mode='min', verbose=1, patience=5)\n",
    "\n",
    "\n",
    "# 또한, ModelCheckpoint를 사용하여 검증 데이터의 정확도(val_acc)가 이전보다 좋아질 경우에만 모델을 저장\n",
    "\n",
    "mc = ModelCheckpoint('best_model_GRU.h5', monitor='val_acc', mode='max', verbose=1, save_best_only=True)\n"
   ]
  },
  {
   "cell_type": "code",
   "execution_count": null,
   "metadata": {
    "colab": {
     "base_uri": "https://localhost:8080/"
    },
    "executionInfo": {
     "elapsed": 271817,
     "status": "ok",
     "timestamp": 1719085059724,
     "user": {
      "displayName": "­정윤서(인공지능대학 인공지능학과)",
      "userId": "17405492783781547198"
     },
     "user_tz": -540
    },
    "id": "-IzDwrIJDhKx",
    "outputId": "67b58e3a-14ea-44b6-abbf-45896c4808d6"
   },
   "outputs": [
    {
     "name": "stdout",
     "output_type": "stream",
     "text": [
      "Epoch 1/30\n",
      "8/8 [==============================] - ETA: 0s - loss: 1.6057 - acc: 0.2083\n",
      "Epoch 1: val_acc improved from -inf to 0.21429, saving model to best_model_GRU.h5\n",
      "8/8 [==============================] - 22s 2s/step - loss: 1.6057 - acc: 0.2083 - val_loss: 1.6061 - val_acc: 0.2143\n",
      "Epoch 2/30\n",
      "8/8 [==============================] - ETA: 0s - loss: 1.5861 - acc: 0.2593\n",
      "Epoch 2: val_acc did not improve from 0.21429\n",
      "8/8 [==============================] - 16s 2s/step - loss: 1.5861 - acc: 0.2593 - val_loss: 1.6102 - val_acc: 0.2143\n",
      "Epoch 3/30\n",
      "8/8 [==============================] - ETA: 0s - loss: 1.5678 - acc: 0.2554\n",
      "Epoch 3: val_acc did not improve from 0.21429\n",
      "8/8 [==============================] - 16s 2s/step - loss: 1.5678 - acc: 0.2554 - val_loss: 1.6153 - val_acc: 0.2143\n",
      "Epoch 4/30\n",
      "8/8 [==============================] - ETA: 0s - loss: 1.5300 - acc: 0.2574\n",
      "Epoch 4: val_acc did not improve from 0.21429\n",
      "8/8 [==============================] - 17s 2s/step - loss: 1.5300 - acc: 0.2574 - val_loss: 1.6007 - val_acc: 0.2143\n",
      "Epoch 5/30\n",
      "8/8 [==============================] - ETA: 0s - loss: 1.9606 - acc: 0.3497\n",
      "Epoch 5: val_acc improved from 0.21429 to 0.32540, saving model to best_model_GRU.h5\n",
      "8/8 [==============================] - 16s 2s/step - loss: 1.9606 - acc: 0.3497 - val_loss: 1.5419 - val_acc: 0.3254\n",
      "Epoch 6/30\n",
      "8/8 [==============================] - ETA: 0s - loss: 1.3612 - acc: 0.5835\n",
      "Epoch 6: val_acc improved from 0.32540 to 0.38889, saving model to best_model_GRU.h5\n",
      "8/8 [==============================] - 16s 2s/step - loss: 1.3612 - acc: 0.5835 - val_loss: 1.5352 - val_acc: 0.3889\n",
      "Epoch 7/30\n",
      "8/8 [==============================] - ETA: 0s - loss: 1.3005 - acc: 0.5717\n",
      "Epoch 7: val_acc did not improve from 0.38889\n",
      "8/8 [==============================] - 16s 2s/step - loss: 1.3005 - acc: 0.5717 - val_loss: 1.5034 - val_acc: 0.3889\n",
      "Epoch 8/30\n",
      "8/8 [==============================] - ETA: 0s - loss: 1.1418 - acc: 0.6287\n",
      "Epoch 8: val_acc improved from 0.38889 to 0.45238, saving model to best_model_GRU.h5\n",
      "8/8 [==============================] - 16s 2s/step - loss: 1.1418 - acc: 0.6287 - val_loss: 1.4693 - val_acc: 0.4524\n",
      "Epoch 9/30\n",
      "8/8 [==============================] - ETA: 0s - loss: 0.9492 - acc: 0.6346\n",
      "Epoch 9: val_acc improved from 0.45238 to 0.46825, saving model to best_model_GRU.h5\n",
      "8/8 [==============================] - 18s 2s/step - loss: 0.9492 - acc: 0.6346 - val_loss: 1.3733 - val_acc: 0.4683\n",
      "Epoch 10/30\n",
      "8/8 [==============================] - ETA: 0s - loss: 0.8241 - acc: 0.6483\n",
      "Epoch 10: val_acc did not improve from 0.46825\n",
      "8/8 [==============================] - 18s 2s/step - loss: 0.8241 - acc: 0.6483 - val_loss: 1.3869 - val_acc: 0.4524\n",
      "Epoch 11/30\n",
      "8/8 [==============================] - ETA: 0s - loss: 0.7016 - acc: 0.7544\n",
      "Epoch 11: val_acc improved from 0.46825 to 0.51587, saving model to best_model_GRU.h5\n",
      "8/8 [==============================] - 16s 2s/step - loss: 0.7016 - acc: 0.7544 - val_loss: 1.3305 - val_acc: 0.5159\n",
      "Epoch 12/30\n",
      "8/8 [==============================] - ETA: 0s - loss: 0.5634 - acc: 0.8605\n",
      "Epoch 12: val_acc improved from 0.51587 to 0.54762, saving model to best_model_GRU.h5\n",
      "8/8 [==============================] - 16s 2s/step - loss: 0.5634 - acc: 0.8605 - val_loss: 1.3519 - val_acc: 0.5476\n",
      "Epoch 13/30\n",
      "8/8 [==============================] - ETA: 0s - loss: 0.4355 - acc: 0.8762\n",
      "Epoch 13: val_acc improved from 0.54762 to 0.57937, saving model to best_model_GRU.h5\n",
      "8/8 [==============================] - 16s 2s/step - loss: 0.4355 - acc: 0.8762 - val_loss: 1.3308 - val_acc: 0.5794\n",
      "Epoch 14/30\n",
      "8/8 [==============================] - ETA: 0s - loss: 0.3217 - acc: 0.9214\n",
      "Epoch 14: val_acc did not improve from 0.57937\n",
      "8/8 [==============================] - 16s 2s/step - loss: 0.3217 - acc: 0.9214 - val_loss: 1.4743 - val_acc: 0.5000\n",
      "Epoch 15/30\n",
      "8/8 [==============================] - ETA: 0s - loss: 0.2126 - acc: 0.9548\n",
      "Epoch 15: val_acc did not improve from 0.57937\n",
      "8/8 [==============================] - 16s 2s/step - loss: 0.2126 - acc: 0.9548 - val_loss: 1.3642 - val_acc: 0.5556\n",
      "Epoch 16/30\n",
      "8/8 [==============================] - ETA: 0s - loss: 0.1349 - acc: 0.9745\n",
      "Epoch 16: val_acc did not improve from 0.57937\n",
      "8/8 [==============================] - 22s 3s/step - loss: 0.1349 - acc: 0.9745 - val_loss: 1.4563 - val_acc: 0.5397\n",
      "Epoch 16: early stopping\n",
      "CPU times: user 6min 36s, sys: 19.9 s, total: 6min 56s\n",
      "Wall time: 4min 31s\n"
     ]
    }
   ],
   "source": [
    "# random seed 설정\n",
    "\n",
    "seed_num = 100\n",
    "\n",
    "np.random.seed(seed_num)         # Numpy generated random numbers\n",
    "rn.seed(seed_num)                # Python generated random numbers\n",
    "tf.random.set_seed(seed_num)     # TensorFlow generated random numbers\n",
    "\n",
    "\n",
    "# 손실 함수로 크로스 엔트로피 함수를 사용\n",
    "model_bi.compile(loss='categorical_crossentropy', optimizer='adam', metrics=['acc'])\n",
    "\n",
    "\n",
    "# epoch는 총 30번을 수행, (epoch 당 1~2초 소요)\n",
    "# batch_size는 64로 설정\n",
    "# 또한 훈련 데이터 중 20%를 검증 데이터로 사용하면서 정확도를 확인\n",
    "\n",
    "%time history = model_bi.fit(pad_X_train, y_train, batch_size=64, epochs=30, callbacks=[es, mc], validation_data=(pad_X_test, y_test))\n"
   ]
  },
  {
   "cell_type": "code",
   "execution_count": null,
   "metadata": {
    "colab": {
     "base_uri": "https://localhost:8080/",
     "height": 413
    },
    "executionInfo": {
     "elapsed": 55695,
     "status": "ok",
     "timestamp": 1719085115418,
     "user": {
      "displayName": "­정윤서(인공지능대학 인공지능학과)",
      "userId": "17405492783781547198"
     },
     "user_tz": -540
    },
    "id": "eGOiWrVbEXc1",
    "outputId": "ccf6439e-bd43-4d0b-c96e-bc3e6a4544a1"
   },
   "outputs": [
    {
     "data": {
      "image/png": "[encoded data removed]",
      "text/plain": [
       "<Figure size 900x400 with 2 Axes>"
      ]
     },
     "metadata": {},
     "output_type": "display_data"
    }
   ],
   "source": [
    "fig = plt.figure(figsize=(9,4))\n",
    "\n",
    "plt.subplot(1,2,1)\n",
    "plt.plot(history.history['loss'], color=\"yellowgreen\", label = \"Loss\")\n",
    "plt.plot(history.history['val_loss'], color=\"lightsalmon\", label = \"Validation Loss\")\n",
    "plt.title(\"LOSS\")\n",
    "plt.ylabel(\"Loss\")\n",
    "plt.xlabel(\"Number of Epochs\")\n",
    "plt.legend()\n",
    "\n",
    "plt.subplot(1,2,2)\n",
    "plt.plot(history.history['acc'], color=\"yellowgreen\", label = \"Accuracy\")\n",
    "plt.plot(history.history['val_acc'], color=\"lightsalmon\", label = \"Validation Accuracy\")\n",
    "plt.title(\"ACCURACY\")\n",
    "plt.ylabel(\"Accuracy\")\n",
    "plt.xlabel(\"Number of Epochs\")\n",
    "plt.legend()\n",
    "\n",
    "plt.suptitle(\"GRU (+L2 norm)\", fontsize=15)\n",
    "fig.tight_layout() # 사용하면 플롯간 여백을 조정\n",
    "\n",
    "plt.show()"
   ]
  },
  {
   "cell_type": "code",
   "execution_count": null,
   "metadata": {
    "colab": {
     "base_uri": "https://localhost:8080/"
    },
    "executionInfo": {
     "elapsed": 4325,
     "status": "ok",
     "timestamp": 1719088169835,
     "user": {
      "displayName": "­정윤서(인공지능대학 인공지능학과)",
      "userId": "17405492783781547198"
     },
     "user_tz": -540
    },
    "id": "0KiX4xpoES_z",
    "outputId": "83738928-6c2c-4968-e5d3-da9ce1e936b1"
   },
   "outputs": [
    {
     "name": "stdout",
     "output_type": "stream",
     "text": [
      "4/4 [==============================] - 3s 716ms/step - loss: 1.3308 - acc: 0.5794\n",
      "[1.3307968378067017, 0.579365074634552]\n",
      "\n",
      "\n",
      "◎ 테스트 정확도: 0.5794\n",
      "<class 'list'>\n"
     ]
    }
   ],
   "source": [
    "# 저장된 모델인 'best_model_GRU.h5'를 로드하고, 성능을 평가\n",
    "\n",
    "loaded_model = load_model('best_model_GRU.h5')\n",
    "\n",
    "# acc = loaded_model.evaluate(X_test, y_test)[1]\n",
    "\n",
    "acc = loaded_model.evaluate(pad_X_test, y_test)\n",
    "\n",
    "print(acc)\n",
    "print()\n",
    "\n",
    "print(\"\\n◎ 테스트 정확도: %.4f\" % (acc[1]))\n",
    "print(type(acc))\n"
   ]
  },
  {
   "cell_type": "markdown",
   "metadata": {
    "id": "lUVuIBDkdEk9"
   },
   "source": [
    "### confusion matrix"
   ]
  },
  {
   "cell_type": "code",
   "execution_count": null,
   "metadata": {
    "colab": {
     "base_uri": "https://localhost:8080/",
     "height": 489
    },
    "executionInfo": {
     "elapsed": 1595,
     "status": "ok",
     "timestamp": 1719085533185,
     "user": {
      "displayName": "­정윤서(인공지능대학 인공지능학과)",
      "userId": "17405492783781547198"
     },
     "user_tz": -540
    },
    "id": "t0PzI_GldCeD",
    "outputId": "00bf03e9-20e0-4757-d219-4765dd0a90ea"
   },
   "outputs": [
    {
     "name": "stdout",
     "output_type": "stream",
     "text": [
      "4/4 [==============================] - 1s 209ms/step\n"
     ]
    },
    {
     "data": {
      "image/png": "[encoded data removed]",
      "text/plain": [
       "<Figure size 640x480 with 2 Axes>"
      ]
     },
     "metadata": {},
     "output_type": "display_data"
    }
   ],
   "source": [
    "from sklearn.metrics import confusion_matrix, ConfusionMatrixDisplay\n",
    "\n",
    "y_pred_prob = loaded_model.predict(pad_X_test)\n",
    "y_pred = np.argmax(y_pred_prob, axis=1)\n",
    "\n",
    "y_test_re = np.argmax(y_test, axis=1)\n",
    "\n",
    "# Confusion Matrix 생성\n",
    "cm = confusion_matrix(y_test_re, y_pred)\n",
    "\n",
    "# Confusion Matrix 시각화\n",
    "disp = ConfusionMatrixDisplay(confusion_matrix=cm, display_labels=range(num_classes))\n",
    "disp.plot(cmap=plt.cm.Blues)\n",
    "plt.title(\"GRU\")\n",
    "plt.show()"
   ]
  },
  {
   "cell_type": "code",
   "execution_count": null,
   "metadata": {
    "id": "qJbk4YZSdW9L"
   },
   "outputs": [],
   "source": []
  },
  {
   "cell_type": "code",
   "execution_count": null,
   "metadata": {
    "colab": {
     "base_uri": "https://localhost:8080/"
    },
    "executionInfo": {
     "elapsed": 20518,
     "status": "ok",
     "timestamp": 1719088240545,
     "user": {
      "displayName": "­정윤서(인공지능대학 인공지능학과)",
      "userId": "17405492783781547198"
     },
     "user_tz": -540
    },
    "id": "XkG9V38Aoq1f",
    "outputId": "a4b00030-7bf5-4d6f-c55a-dc89922e15b8"
   },
   "outputs": [
    {
     "name": "stdout",
     "output_type": "stream",
     "text": [
      "4/4 [==============================] - 2s 306ms/step - loss: 1.3308 - acc: 0.5794\n",
      "4/4 [==============================] - 8s 980ms/step - loss: 1.5504 - acc: 0.6111\n",
      "4/4 [==============================] - 6s 985ms/step - loss: 1.2103 - acc: 0.6111\n"
     ]
    }
   ],
   "source": [
    "loaded_model = load_model('best_model_GRU.h5')\n",
    "acc3 = loaded_model.evaluate(pad_X_test, y_test)\n",
    "\n",
    "loaded_model = load_model('best_model_LSTM.h5')\n",
    "acc1 = loaded_model.evaluate(pad_X_test, y_test)\n",
    "\n",
    "loaded_model = load_model('best_model_biLSTM.h5')\n",
    "acc2 = loaded_model.evaluate(pad_X_test, y_test)\n"
   ]
  },
  {
   "cell_type": "code",
   "execution_count": null,
   "metadata": {
    "colab": {
     "base_uri": "https://localhost:8080/",
     "height": 143
    },
    "executionInfo": {
     "elapsed": 466,
     "status": "ok",
     "timestamp": 1719088411154,
     "user": {
      "displayName": "­정윤서(인공지능대학 인공지능학과)",
      "userId": "17405492783781547198"
     },
     "user_tz": -540
    },
    "id": "6SItPWN8oq3q",
    "outputId": "7041e24b-4c98-47c1-d966-e3bc4533fad5"
   },
   "outputs": [
    {
     "data": {
      "application/vnd.google.colaboratory.intrinsic+json": {
       "summary": "{\n  \"name\": \"df\",\n  \"rows\": 3,\n  \"fields\": [\n    {\n      \"column\": \"loss\",\n      \"properties\": {\n        \"dtype\": \"number\",\n        \"std\": 0.17247281318322144,\n        \"min\": 1.2102848291397095,\n        \"max\": 1.5504484176635742,\n        \"num_unique_values\": 3,\n        \"samples\": [\n          1.5504484176635742,\n          1.2102848291397095,\n          1.3307968378067017\n        ],\n        \"semantic_type\": \"\",\n        \"description\": \"\"\n      }\n    },\n    {\n      \"column\": \"accuracy\",\n      \"properties\": {\n        \"dtype\": \"number\",\n        \"std\": 0.018328578881805335,\n        \"min\": 0.579365074634552,\n        \"max\": 0.6111111044883728,\n        \"num_unique_values\": 2,\n        \"samples\": [\n          0.579365074634552,\n          0.6111111044883728\n        ],\n        \"semantic_type\": \"\",\n        \"description\": \"\"\n      }\n    }\n  ]\n}",
       "type": "dataframe",
       "variable_name": "df"
      },
      "text/html": [
       "\n",
       "  <div id=\"df-cde224ee-a935-4585-84c6-f66b4b58f72f\" class=\"colab-df-container\">\n",
       "    <div>\n",
       "<style scoped>\n",
       "    .dataframe tbody tr th:only-of-type {\n",
       "        vertical-align: middle;\n",
       "    }\n",
       "\n",
       "    .dataframe tbody tr th {\n",
       "        vertical-align: top;\n",
       "    }\n",
       "\n",
       "    .dataframe thead th {\n",
       "        text-align: right;\n",
       "    }\n",
       "</style>\n",
       "<table border=\"1\" class=\"dataframe\">\n",
       "  <thead>\n",
       "    <tr style=\"text-align: right;\">\n",
       "      <th></th>\n",
       "      <th>loss</th>\n",
       "      <th>accuracy</th>\n",
       "    </tr>\n",
       "  </thead>\n",
       "  <tbody>\n",
       "    <tr>\n",
       "      <th>LSTM</th>\n",
       "      <td>1.550448</td>\n",
       "      <td>0.611111</td>\n",
       "    </tr>\n",
       "    <tr>\n",
       "      <th>bi LSTM</th>\n",
       "      <td>1.210285</td>\n",
       "      <td>0.611111</td>\n",
       "    </tr>\n",
       "    <tr>\n",
       "      <th>GRU</th>\n",
       "      <td>1.330797</td>\n",
       "      <td>0.579365</td>\n",
       "    </tr>\n",
       "  </tbody>\n",
       "</table>\n",
       "</div>\n",
       "    <div class=\"colab-df-buttons\">\n",
       "\n",
       "  <div class=\"colab-df-container\">\n",
       "    <button class=\"colab-df-convert\" onclick=\"convertToInteractive('df-cde224ee-a935-4585-84c6-f66b4b58f72f')\"\n",
       "            title=\"Convert this dataframe to an interactive table.\"\n",
       "            style=\"display:none;\">\n",
       "\n",
       "  <svg xmlns=\"http://www.w3.org/2000/svg\" height=\"24px\" viewBox=\"0 -960 960 960\">\n",
       "    <path d=\"M120-120v-720h720v720H120Zm60-500h600v-160H180v160Zm220 220h160v-160H400v160Zm0 220h160v-160H400v160ZM180-400h160v-160H180v160Zm440 0h160v-160H620v160ZM180-180h160v-160H180v160Zm440 0h160v-160H620v160Z\"/>\n",
       "  </svg>\n",
       "    </button>\n",
       "\n",
       "  <style>\n",
       "    .colab-df-container {\n",
       "      display:flex;\n",
       "      gap: 12px;\n",
       "    }\n",
       "\n",
       "    .colab-df-convert {\n",
       "      background-color: #E8F0FE;\n",
       "      border: none;\n",
       "      border-radius: 50%;\n",
       "      cursor: pointer;\n",
       "      display: none;\n",
       "      fill: #1967D2;\n",
       "      height: 32px;\n",
       "      padding: 0 0 0 0;\n",
       "      width: 32px;\n",
       "    }\n",
       "\n",
       "    .colab-df-convert:hover {\n",
       "      background-color: #E2EBFA;\n",
       "      box-shadow: 0px 1px 2px rgba(60, 64, 67, 0.3), 0px 1px 3px 1px rgba(60, 64, 67, 0.15);\n",
       "      fill: #174EA6;\n",
       "    }\n",
       "\n",
       "    .colab-df-buttons div {\n",
       "      margin-bottom: 4px;\n",
       "    }\n",
       "\n",
       "    [theme=dark] .colab-df-convert {\n",
       "      background-color: #3B4455;\n",
       "      fill: #D2E3FC;\n",
       "    }\n",
       "\n",
       "    [theme=dark] .colab-df-convert:hover {\n",
       "      background-color: #434B5C;\n",
       "      box-shadow: 0px 1px 3px 1px rgba(0, 0, 0, 0.15);\n",
       "      filter: drop-shadow(0px 1px 2px rgba(0, 0, 0, 0.3));\n",
       "      fill: #FFFFFF;\n",
       "    }\n",
       "  </style>\n",
       "\n",
       "    <script>\n",
       "      const buttonEl =\n",
       "        document.querySelector('#df-cde224ee-a935-4585-84c6-f66b4b58f72f button.colab-df-convert');\n",
       "      buttonEl.style.display =\n",
       "        google.colab.kernel.accessAllowed ? 'block' : 'none';\n",
       "\n",
       "      async function convertToInteractive(key) {\n",
       "        const element = document.querySelector('#df-cde224ee-a935-4585-84c6-f66b4b58f72f');\n",
       "        const dataTable =\n",
       "          await google.colab.kernel.invokeFunction('convertToInteractive',\n",
       "                                                    [key], {});\n",
       "        if (!dataTable) return;\n",
       "\n",
       "        const docLinkHtml = 'Like what you see? Visit the ' +\n",
       "          '<a target=\"_blank\" href=https://colab.research.google.com/notebooks/data_table.ipynb>data table notebook</a>'\n",
       "          + ' to learn more about interactive tables.';\n",
       "        element.innerHTML = '';\n",
       "        dataTable['output_type'] = 'display_data';\n",
       "        await google.colab.output.renderOutput(dataTable, element);\n",
       "        const docLink = document.createElement('div');\n",
       "        docLink.innerHTML = docLinkHtml;\n",
       "        element.appendChild(docLink);\n",
       "      }\n",
       "    </script>\n",
       "  </div>\n",
       "\n",
       "\n",
       "<div id=\"df-6af7992b-6b4c-48a4-9ae0-7acce8df0d6d\">\n",
       "  <button class=\"colab-df-quickchart\" onclick=\"quickchart('df-6af7992b-6b4c-48a4-9ae0-7acce8df0d6d')\"\n",
       "            title=\"Suggest charts\"\n",
       "            style=\"display:none;\">\n",
       "\n",
       "<svg xmlns=\"http://www.w3.org/2000/svg\" height=\"24px\"viewBox=\"0 0 24 24\"\n",
       "     width=\"24px\">\n",
       "    <g>\n",
       "        <path d=\"M19 3H5c-1.1 0-2 .9-2 2v14c0 1.1.9 2 2 2h14c1.1 0 2-.9 2-2V5c0-1.1-.9-2-2-2zM9 17H7v-7h2v7zm4 0h-2V7h2v10zm4 0h-2v-4h2v4z\"/>\n",
       "    </g>\n",
       "</svg>\n",
       "  </button>\n",
       "\n",
       "<style>\n",
       "  .colab-df-quickchart {\n",
       "      --bg-color: #E8F0FE;\n",
       "      --fill-color: #1967D2;\n",
       "      --hover-bg-color: #E2EBFA;\n",
       "      --hover-fill-color: #174EA6;\n",
       "      --disabled-fill-color: #AAA;\n",
       "      --disabled-bg-color: #DDD;\n",
       "  }\n",
       "\n",
       "  [theme=dark] .colab-df-quickchart {\n",
       "      --bg-color: #3B4455;\n",
       "      --fill-color: #D2E3FC;\n",
       "      --hover-bg-color: #434B5C;\n",
       "      --hover-fill-color: #FFFFFF;\n",
       "      --disabled-bg-color: #3B4455;\n",
       "      --disabled-fill-color: #666;\n",
       "  }\n",
       "\n",
       "  .colab-df-quickchart {\n",
       "    background-color: var(--bg-color);\n",
       "    border: none;\n",
       "    border-radius: 50%;\n",
       "    cursor: pointer;\n",
       "    display: none;\n",
       "    fill: var(--fill-color);\n",
       "    height: 32px;\n",
       "    padding: 0;\n",
       "    width: 32px;\n",
       "  }\n",
       "\n",
       "  .colab-df-quickchart:hover {\n",
       "    background-color: var(--hover-bg-color);\n",
       "    box-shadow: 0 1px 2px rgba(60, 64, 67, 0.3), 0 1px 3px 1px rgba(60, 64, 67, 0.15);\n",
       "    fill: var(--button-hover-fill-color);\n",
       "  }\n",
       "\n",
       "  .colab-df-quickchart-complete:disabled,\n",
       "  .colab-df-quickchart-complete:disabled:hover {\n",
       "    background-color: var(--disabled-bg-color);\n",
       "    fill: var(--disabled-fill-color);\n",
       "    box-shadow: none;\n",
       "  }\n",
       "\n",
       "  .colab-df-spinner {\n",
       "    border: 2px solid var(--fill-color);\n",
       "    border-color: transparent;\n",
       "    border-bottom-color: var(--fill-color);\n",
       "    animation:\n",
       "      spin 1s steps(1) infinite;\n",
       "  }\n",
       "\n",
       "  @keyframes spin {\n",
       "    0% {\n",
       "      border-color: transparent;\n",
       "      border-bottom-color: var(--fill-color);\n",
       "      border-left-color: var(--fill-color);\n",
       "    }\n",
       "    20% {\n",
       "      border-color: transparent;\n",
       "      border-left-color: var(--fill-color);\n",
       "      border-top-color: var(--fill-color);\n",
       "    }\n",
       "    30% {\n",
       "      border-color: transparent;\n",
       "      border-left-color: var(--fill-color);\n",
       "      border-top-color: var(--fill-color);\n",
       "      border-right-color: var(--fill-color);\n",
       "    }\n",
       "    40% {\n",
       "      border-color: transparent;\n",
       "      border-right-color: var(--fill-color);\n",
       "      border-top-color: var(--fill-color);\n",
       "    }\n",
       "    60% {\n",
       "      border-color: transparent;\n",
       "      border-right-color: var(--fill-color);\n",
       "    }\n",
       "    80% {\n",
       "      border-color: transparent;\n",
       "      border-right-color: var(--fill-color);\n",
       "      border-bottom-color: var(--fill-color);\n",
       "    }\n",
       "    90% {\n",
       "      border-color: transparent;\n",
       "      border-bottom-color: var(--fill-color);\n",
       "    }\n",
       "  }\n",
       "</style>\n",
       "\n",
       "  <script>\n",
       "    async function quickchart(key) {\n",
       "      const quickchartButtonEl =\n",
       "        document.querySelector('#' + key + ' button');\n",
       "      quickchartButtonEl.disabled = true;  // To prevent multiple clicks.\n",
       "      quickchartButtonEl.classList.add('colab-df-spinner');\n",
       "      try {\n",
       "        const charts = await google.colab.kernel.invokeFunction(\n",
       "            'suggestCharts', [key], {});\n",
       "      } catch (error) {\n",
       "        console.error('Error during call to suggestCharts:', error);\n",
       "      }\n",
       "      quickchartButtonEl.classList.remove('colab-df-spinner');\n",
       "      quickchartButtonEl.classList.add('colab-df-quickchart-complete');\n",
       "    }\n",
       "    (() => {\n",
       "      let quickchartButtonEl =\n",
       "        document.querySelector('#df-6af7992b-6b4c-48a4-9ae0-7acce8df0d6d button');\n",
       "      quickchartButtonEl.style.display =\n",
       "        google.colab.kernel.accessAllowed ? 'block' : 'none';\n",
       "    })();\n",
       "  </script>\n",
       "</div>\n",
       "\n",
       "  <div id=\"id_73b033fb-a56d-4887-ba83-914a7bfbc937\">\n",
       "    <style>\n",
       "      .colab-df-generate {\n",
       "        background-color: #E8F0FE;\n",
       "        border: none;\n",
       "        border-radius: 50%;\n",
       "        cursor: pointer;\n",
       "        display: none;\n",
       "        fill: #1967D2;\n",
       "        height: 32px;\n",
       "        padding: 0 0 0 0;\n",
       "        width: 32px;\n",
       "      }\n",
       "\n",
       "      .colab-df-generate:hover {\n",
       "        background-color: #E2EBFA;\n",
       "        box-shadow: 0px 1px 2px rgba(60, 64, 67, 0.3), 0px 1px 3px 1px rgba(60, 64, 67, 0.15);\n",
       "        fill: #174EA6;\n",
       "      }\n",
       "\n",
       "      [theme=dark] .colab-df-generate {\n",
       "        background-color: #3B4455;\n",
       "        fill: #D2E3FC;\n",
       "      }\n",
       "\n",
       "      [theme=dark] .colab-df-generate:hover {\n",
       "        background-color: #434B5C;\n",
       "        box-shadow: 0px 1px 3px 1px rgba(0, 0, 0, 0.15);\n",
       "        filter: drop-shadow(0px 1px 2px rgba(0, 0, 0, 0.3));\n",
       "        fill: #FFFFFF;\n",
       "      }\n",
       "    </style>\n",
       "    <button class=\"colab-df-generate\" onclick=\"generateWithVariable('df')\"\n",
       "            title=\"Generate code using this dataframe.\"\n",
       "            style=\"display:none;\">\n",
       "\n",
       "  <svg xmlns=\"http://www.w3.org/2000/svg\" height=\"24px\"viewBox=\"0 0 24 24\"\n",
       "       width=\"24px\">\n",
       "    <path d=\"M7,19H8.4L18.45,9,17,7.55,7,17.6ZM5,21V16.75L18.45,3.32a2,2,0,0,1,2.83,0l1.4,1.43a1.91,1.91,0,0,1,.58,1.4,1.91,1.91,0,0,1-.58,1.4L9.25,21ZM18.45,9,17,7.55Zm-12,3A5.31,5.31,0,0,0,4.9,8.1,5.31,5.31,0,0,0,1,6.5,5.31,5.31,0,0,0,4.9,4.9,5.31,5.31,0,0,0,6.5,1,5.31,5.31,0,0,0,8.1,4.9,5.31,5.31,0,0,0,12,6.5,5.46,5.46,0,0,0,6.5,12Z\"/>\n",
       "  </svg>\n",
       "    </button>\n",
       "    <script>\n",
       "      (() => {\n",
       "      const buttonEl =\n",
       "        document.querySelector('#id_73b033fb-a56d-4887-ba83-914a7bfbc937 button.colab-df-generate');\n",
       "      buttonEl.style.display =\n",
       "        google.colab.kernel.accessAllowed ? 'block' : 'none';\n",
       "\n",
       "      buttonEl.onclick = () => {\n",
       "        google.colab.notebook.generateWithVariable('df');\n",
       "      }\n",
       "      })();\n",
       "    </script>\n",
       "  </div>\n",
       "\n",
       "    </div>\n",
       "  </div>\n"
      ],
      "text/plain": [
       "             loss  accuracy\n",
       "LSTM     1.550448  0.611111\n",
       "bi LSTM  1.210285  0.611111\n",
       "GRU      1.330797  0.579365"
      ]
     },
     "execution_count": 138,
     "metadata": {},
     "output_type": "execute_result"
    }
   ],
   "source": [
    "data = [acc4, acc1, acc2, acc3]\n",
    "\n",
    "# 데이터프레임 생성\n",
    "df = pd.DataFrame(data, columns=['loss', 'accuracy'], index=['CNN', 'LSTM', 'bi LSTM', 'GRU'])\n",
    "df"
   ]
  },
  {
   "cell_type": "code",
   "execution_count": null,
   "metadata": {
    "id": "YUBZW4nTpRZb"
   },
   "outputs": [],
   "source": []
  }
 ],
 "metadata": {
  "accelerator": "GPU",
  "colab": {
   "gpuType": "T4",
   "provenance": [],
   "toc_visible": true
  },
  "kernelspec": {
   "display_name": "Python 3",
   "name": "python3"
  },
  "language_info": {
   "codemirror_mode": {
    "name": "ipython",
    "version": 3
   },
   "file_extension": ".py",
   "mimetype": "text/x-python",
   "name": "python",
   "nbconvert_exporter": "python",
   "pygments_lexer": "ipython3",
   "version": "3.7.6"
  }
 },
 "nbformat": 4,
 "nbformat_minor": 0
}
