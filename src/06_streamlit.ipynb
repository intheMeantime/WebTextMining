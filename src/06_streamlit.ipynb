{
 "cells": [
  {
   "cell_type": "markdown",
   "metadata": {
    "id": "QOk8v1MbjGJu"
   },
   "source": [
    "# **Build App**  "
   ]
  },
  {
   "cell_type": "markdown",
   "metadata": {
    "id": "d5HImMUJVTJw"
   },
   "source": [
    "### **Package Install**\n",
    "\n",
    "- Using Steamlit \n",
    "- API docs : https://docs.streamlit.io/develop/api-reference"
   ]
  },
  {
   "cell_type": "code",
   "execution_count": null,
   "metadata": {
    "colab": {
     "base_uri": "https://localhost:8080/"
    },
    "executionInfo": {
     "elapsed": 30975,
     "status": "ok",
     "timestamp": 1719100606029,
     "user": {
      "displayName": "­정윤서(인공지능대학 인공지능학과)",
      "userId": "17405492783781547198"
     },
     "user_tz": -540
    },
    "id": "KyCLA7cQBsK7",
    "outputId": "ac1b47de-d01c-4084-d267-0e98a9fbac19"
   },
   "outputs": [],
   "source": [
    "# (1) streamlit 설치\n",
    "!pip install streamlit -q\n",
    "\n",
    "# (2) pyngrok 설치\n",
    "!pip install pyngrok -q\n",
    "\n",
    "\n",
    "print()\n",
    "print(\" ================== 👉👉👉👉👉  All Packages installed 👈👈👈👈👈 ===================\\n\")\n"
   ]
  },
  {
   "cell_type": "code",
   "execution_count": null,
   "metadata": {
    "colab": {
     "base_uri": "https://localhost:8080/"
    },
    "executionInfo": {
     "elapsed": 20831,
     "status": "ok",
     "timestamp": 1719100629434,
     "user": {
      "displayName": "­정윤서(인공지능대학 인공지능학과)",
      "userId": "17405492783781547198"
     },
     "user_tz": -540
    },
    "id": "3mssTNqvgMWn",
    "outputId": "2d5971f2-66c1-41c2-d5c1-30959ca10e3b"
   },
   "outputs": [],
   "source": [
    "from google.colab import drive\n",
    "drive.mount('/content/gdrive/')\n",
    "\n",
    "file_path = \"/content/gdrive/My Drive/Colab Notebooks/wtm/API/\" #ngrok Token "
   ]
  },
  {
   "cell_type": "code",
   "execution_count": null,
   "metadata": {
    "colab": {
     "base_uri": "https://localhost:8080/"
    },
    "executionInfo": {
     "elapsed": 2530,
     "status": "ok",
     "timestamp": 1719100634525,
     "user": {
      "displayName": "­정윤서(인공지능대학 인공지능학과)",
      "userId": "17405492783781547198"
     },
     "user_tz": -540
    },
    "id": "_1D6eSN0yKQH",
    "outputId": "533f32ae-8fc4-4323-cd0e-4434e983e64b"
   },
   "outputs": [],
   "source": [
    "from pyngrok import ngrok\n",
    "\n",
    "file = open(file_path + \"NGROK_Token.txt\", \"r\")\n",
    "\n",
    "ngrok_token = file.read()\n",
    "\n",
    "file.close()\n",
    "\n",
    "ngrok.set_auth_token(ngrok_token)\n"
   ]
  },
  {
   "cell_type": "code",
   "execution_count": null,
   "metadata": {
    "colab": {
     "base_uri": "https://localhost:8080/"
    },
    "executionInfo": {
     "elapsed": 12804,
     "status": "ok",
     "timestamp": 1719100769873,
     "user": {
      "displayName": "­정윤서(인공지능대학 인공지능학과)",
      "userId": "17405492783781547198"
     },
     "user_tz": -540
    },
    "id": "elxpbWIWY82U",
    "outputId": "d2ae0f5b-2360-4ab1-daf2-2eb1809f7370"
   },
   "outputs": [],
   "source": [
    "!pip install konlpy -q"
   ]
  },
  {
   "cell_type": "markdown",
   "metadata": {
    "id": "TpbOv2bKVY5Q"
   },
   "source": [
    "## **Web Source**"
   ]
  },
  {
   "cell_type": "code",
   "execution_count": null,
   "metadata": {
    "colab": {
     "base_uri": "https://localhost:8080/"
    },
    "executionInfo": {
     "elapsed": 647,
     "status": "ok",
     "timestamp": 1719105297275,
     "user": {
      "displayName": "­정윤서(인공지능대학 인공지능학과)",
      "userId": "17405492783781547198"
     },
     "user_tz": -540
    },
    "id": "b52fqwHiBsK8",
    "outputId": "575f512f-3103-4779-bc8c-320969807479"
   },
   "outputs": [
    {
     "name": "stdout",
     "output_type": "stream",
     "text": [
      "Overwriting app.py\n"
     ]
    }
   ],
   "source": [
    "%%writefile app.py\n",
    "\n",
    "import streamlit as st\n",
    "\n",
    "\n",
    "import numpy as np\n",
    "from konlpy.tag import Okt\n",
    "from keras.models import load_model\n",
    "from keras.preprocessing.text import Tokenizer\n",
    "from keras.preprocessing.sequence import pad_sequences\n",
    "\n",
    "\n",
    "# ==============================================================================\n",
    "\n",
    "# cf) reversed_word_index.txt\n",
    "\n",
    "\n",
    "def sentiment_predict(new_sentence):\n",
    "    okt = Okt()\n",
    "    new_sentence = okt.nouns(new_sentence) # 토큰화\n",
    "\n",
    "    stopwords = ['규정', '조항', '대한' ,'소원' ,'목적', '요지', '헌법소원심판', '필요', '사건', '위헌', '합헌', '법률', '제청', '청구인', '변호인', '제청', '재판', '피고인', '변호사', '심판', '청구' ,'재판관', '이유' ,'위헌확인', '피청구인', '수사' ,'이유', '원칙', '여부', '확인', '우리', '법률조항', '반대의견', '확인', '하나', '무엇', '제한', '인정', '대상', '입법', '헌법재판소', '재판소']\n",
    "    new_sentence = [word for word in new_sentence if  (len(word) > 1) and (not word in stopwords)] # 불용어 제거\n",
    "\n",
    "    tokenizer = Tokenizer()\n",
    "    tokenizer.word_index = reversed_word_index\n",
    "    encoded = tokenizer.texts_to_sequences([new_sentence]) # 정수 인코딩\n",
    "\n",
    "    pad_new = pad_sequences(encoded, maxlen = 900) # 패딩\n",
    "\n",
    "    loaded_model = load_model('/content/gdrive/My Drive/Colab Notebooks/wtm/finalproj/best_model_CNN.h5') # my best model\n",
    "\n",
    "    # 예측\n",
    "    predictions = loaded_model.predict(pad_new)\n",
    "    predicted_class = np.argmax(predictions)  # 가장 높은 확률을 가진 클래스\n",
    "\n",
    "    class_labels = ['언론 등 정신적 자유에 관한 결정', '가족 · 노동 등 사회관계에 관한 결정', '절차적 기본권 및 형사관계에 관한 결정', '정치 · 선거관계에 관한 결정', '경제 · 재산권 · 조세관계에 관한 결정']\n",
    "\n",
    "    return f\"\\n◎ '위 판결문은 {np.max(predictions) * 100:.2f}% 확률로 <{class_labels[predicted_class]}> 입니다.\\n\"\n",
    "\n",
    "\n",
    "#=======UI========================================================================\n",
    "\n",
    "st.title(\"⚖ 판결문 카테고리 분류하기 ⚖\")\n",
    "\n",
    "\n",
    "with st.form(key=\"myform\", clear_on_submit=True): #텍스트는 form으로 받아옴\n",
    "  text = st.text_area(\"❤️ 카테고리를 분류하고자 하는 판결문을 입력해주세요\\n\\n ( [사건개요] [심판대상조항] [결정의 주요내용]이 담기면 좋습니다. )\", height=100, value=\"\")\n",
    "  submit = st.form_submit_button(\"📑 분류\")\n",
    "\n",
    "if submit:\n",
    "  #st.info(text)\n",
    "  with st.spinner(\"in progress...\"):\n",
    "    predict = sentiment_predict(text)   # 위 함수를 호출\n",
    "    st.success(predict)   # 내용 Display\n",
    "\n",
    "\n",
    "if st.button('Reset'):\n",
    "  st.empty()\n"
   ]
  },
  {
   "cell_type": "markdown",
   "metadata": {
    "id": "chWhLgsAVc1l"
   },
   "source": [
    "## **App 실행**"
   ]
  },
  {
   "cell_type": "code",
   "execution_count": 85,
   "metadata": {
    "colab": {
     "base_uri": "https://localhost:8080/"
    },
    "executionInfo": {
     "elapsed": 354,
     "status": "ok",
     "timestamp": 1719104659266,
     "user": {
      "displayName": "­정윤서(인공지능대학 인공지능학과)",
      "userId": "17405492783781547198"
     },
     "user_tz": -540
    },
    "id": "Oy5kJH6lbxNX",
    "outputId": "da5afec6-242f-455f-a749-3832d1b62780"
   },
   "outputs": [
    {
     "name": "stdout",
     "output_type": "stream",
     "text": [
      "◎ My IP is:    34.46.193.90\n"
     ]
    }
   ],
   "source": [
    "import urllib\n",
    "\n",
    "print(\"◎ My IP is:   \",\n",
    "      urllib.request.urlopen('https://ipv4.icanhazip.com').read().decode('utf8').strip(\"\\n\"))\n"
   ]
  },
  {
   "cell_type": "code",
   "execution_count": 86,
   "metadata": {
    "colab": {
     "base_uri": "https://localhost:8080/"
    },
    "executionInfo": {
     "elapsed": 5,
     "status": "ok",
     "timestamp": 1719104659585,
     "user": {
      "displayName": "­정윤서(인공지능대학 인공지능학과)",
      "userId": "17405492783781547198"
     },
     "user_tz": -540
    },
    "id": "sKbwEwQawrlW",
    "outputId": "9be68fcb-27ae-43f2-cc90-bab10cadf7b6"
   },
   "outputs": [
    {
     "name": "stdout",
     "output_type": "stream",
     "text": [
      "nohup: appending output to 'nohup.out'\n"
     ]
    }
   ],
   "source": [
    "# nohup : no hang up의 약자로 프로그램을 백그라운드에서 지속적으로 실행시킴\n",
    "\n",
    "!nohup streamlit run app.py &\n"
   ]
  },
  {
   "cell_type": "code",
   "execution_count": 87,
   "metadata": {
    "colab": {
     "base_uri": "https://localhost:8080/"
    },
    "executionInfo": {
     "elapsed": 309,
     "status": "ok",
     "timestamp": 1719104659891,
     "user": {
      "displayName": "­정윤서(인공지능대학 인공지능학과)",
      "userId": "17405492783781547198"
     },
     "user_tz": -540
    },
    "id": "QpRGRbmSwrOH",
    "outputId": "973b05f3-fb73-49d3-dc98-0bf01d949e6c"
   },
   "outputs": [
    {
     "data": {
      "text/plain": [
       "<NgrokTunnel: \"https://b47a-34-46-193-90.ngrok-free.app\" -> \"http://localhost:8501\">"
      ]
     },
     "execution_count": 87,
     "metadata": {},
     "output_type": "execute_result"
    }
   ],
   "source": [
    "# ngrok tunnel 설정 및 실행\n",
    "\n",
    "url = ngrok.connect(addr='8501')\n",
    "\n",
    "url\n"
   ]
  },
  {
   "cell_type": "markdown",
   "metadata": {
    "id": "mZynRYI7xIl3"
   },
   "source": [
    "## **📌📌📌 Process 실행 중지 📌📌📌**"
   ]
  },
  {
   "cell_type": "code",
   "execution_count": 79,
   "metadata": {
    "executionInfo": {
     "elapsed": 286,
     "status": "ok",
     "timestamp": 1719104488466,
     "user": {
      "displayName": "­정윤서(인공지능대학 인공지능학과)",
      "userId": "17405492783781547198"
     },
     "user_tz": -540
    },
    "id": "9_alUdGbwrK2"
   },
   "outputs": [],
   "source": [
    "# ngrok tunnel 실행 중지\n",
    "\n",
    "ngrok.kill()\n"
   ]
  },
  {
   "cell_type": "code",
   "execution_count": 93,
   "metadata": {
    "colab": {
     "base_uri": "https://localhost:8080/"
    },
    "executionInfo": {
     "elapsed": 289,
     "status": "ok",
     "timestamp": 1719105461605,
     "user": {
      "displayName": "­정윤서(인공지능대학 인공지능학과)",
      "userId": "17405492783781547198"
     },
     "user_tz": -540
    },
    "id": "fTGpgp9swrIM",
    "outputId": "a11e6953-eb96-4b3e-e32a-f636f5cf8a82"
   },
   "outputs": [
    {
     "name": "stdout",
     "output_type": "stream",
     "text": [
      "root       17511       1  5 01:04 ?        00:00:43 /usr/bin/python3 /usr/local/bin/streamlit run ap\n",
      "root       20810     198  0 01:17 ?        00:00:00 /bin/bash -c ps -ef | grep streamlit\n",
      "root       20812   20810  0 01:17 ?        00:00:00 grep streamlit\n"
     ]
    }
   ],
   "source": [
    "# streamlit run ap  process id 확인\n",
    "\n",
    "!ps -ef | grep streamlit\n"
   ]
  },
  {
   "cell_type": "code",
   "execution_count": 82,
   "metadata": {
    "executionInfo": {
     "elapsed": 416,
     "status": "ok",
     "timestamp": 1719104494047,
     "user": {
      "displayName": "­정윤서(인공지능대학 인공지능학과)",
      "userId": "17405492783781547198"
     },
     "user_tz": -540
    },
    "id": "PWjxcy86BsK9"
   },
   "outputs": [],
   "source": [
    "# streamlit run ap process 실행 중지\n",
    "\n",
    "!kill -9  11901\n"
   ]
  },
  {
   "cell_type": "code",
   "execution_count": null,
   "metadata": {
    "id": "hhWY_Q2dxBg2"
   },
   "outputs": [],
   "source": []
  }
 ],
 "metadata": {
  "colab": {
   "provenance": []
  },
  "kernelspec": {
   "display_name": "Python 3",
   "language": "python",
   "name": "python3"
  },
  "language_info": {
   "codemirror_mode": {
    "name": "ipython",
    "version": 3
   },
   "file_extension": ".py",
   "mimetype": "text/x-python",
   "name": "python",
   "nbconvert_exporter": "python",
   "pygments_lexer": "ipython3",
   "version": "3.7.6"
  }
 },
 "nbformat": 4,
 "nbformat_minor": 0
}
